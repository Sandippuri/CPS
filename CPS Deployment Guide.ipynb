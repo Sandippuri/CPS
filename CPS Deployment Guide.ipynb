{
 "cells": [
  {
   "cell_type": "markdown",
   "metadata": {},
   "source": [
    "# Jupyter Notebook to clean install all the contracts"
   ]
  },
  {
   "cell_type": "code",
   "execution_count": 1,
   "metadata": {},
   "outputs": [
    {
     "data": {
      "text/html": [
       "<style>.container { width:100% !important; }</style>"
      ],
      "text/plain": [
       "<IPython.core.display.HTML object>"
      ]
     },
     "metadata": {},
     "output_type": "display_data"
    }
   ],
   "source": [
    "from IPython.core.display import display, HTML\n",
    "display(HTML(\"<style>.container { width:100% !important; }</style>\"))"
   ]
  },
  {
   "cell_type": "code",
   "execution_count": 2,
   "metadata": {},
   "outputs": [],
   "source": [
    "from iconsdk.exception import JSONRPCException\n",
    "from iconsdk.libs.in_memory_zip import gen_deploy_data_content\n",
    "from iconsdk.icon_service import IconService\n",
    "from iconsdk.providers.http_provider import HTTPProvider\n",
    "from iconsdk.builder.transaction_builder import CallTransactionBuilder, TransactionBuilder, DeployTransactionBuilder\n",
    "from iconsdk.builder.call_builder import CallBuilder\n",
    "from iconsdk.signed_transaction import SignedTransaction\n",
    "from iconsdk.wallet.wallet import KeyWallet\n",
    "from iconsdk.utils.convert_type import convert_hex_str_to_int\n",
    "from datetime import datetime\n",
    "from repeater import retry\n",
    "import requests\n",
    "import json\n",
    "import pickle as pkl\n",
    "import csv\n",
    "import os\n",
    "from pprint import pprint\n",
    "\n",
    "from repeater import retry\n",
    "\n",
    "NONCE = 100\n",
    "GOVERNANCE_ADDRESS = \"cx0000000000000000000000000000000000000000\"\n",
    "\n",
    "\n",
    "@retry(JSONRPCException, tries=10, delay=1, back_off=2)\n",
    "def get_tx_result(_tx_hash):\n",
    "    tx_result = icon_service.get_transaction_result(_tx_hash)\n",
    "    return tx_result"
   ]
  },
  {
   "cell_type": "code",
   "execution_count": 3,
   "metadata": {},
   "outputs": [],
   "source": [
    "class AutoVivification(dict):\n",
    "    \"\"\"Implementation of perl's autovivification feature.\"\"\"\n",
    "    def __getitem__(self, item):\n",
    "        try:\n",
    "            return dict.__getitem__(self, item)\n",
    "        except KeyError:\n",
    "            value = self[item] = type(self)()\n",
    "            return value"
   ]
  },
  {
   "cell_type": "markdown",
   "metadata": {},
   "source": [
    "# Networks\n",
    "Uncomment the line which you want to use."
   ]
  },
  {
   "cell_type": "code",
   "execution_count": 4,
   "metadata": {},
   "outputs": [],
   "source": [
    "# Mainnet\n",
    "# icon_service = IconService(HTTPProvider(\"https://ctz.solidwallet.io\", 3))\n",
    "# NID = 1\n",
    "\n",
    "# Euljiro\n",
    "# icon_service = IconService(HTTPProvider(\"https://test-ctz.solidwallet.io\",3))\n",
    "# NID = 2\n",
    "\n",
    "# Yeouido\n",
    "icon_service = IconService(HTTPProvider(\"https://bicon.net.solidwallet.io\", 3))\n",
    "NID = 3\n",
    "\n",
    "# Pagoda\n",
    "# icon_service = IconService(HTTPProvider(\"https://zicon.net.solidwallet.io\", 3))\n",
    "# NID = 80\n",
    "\n",
    "# Custom\n",
    "# icon_service = IconService(HTTPProvider(\"http://127.0.0.1:9000/\", 3))"
   ]
  },
  {
   "cell_type": "markdown",
   "metadata": {},
   "source": [
    "# Load Wallet using Keystore file"
   ]
  },
  {
   "cell_type": "code",
   "execution_count": 5,
   "metadata": {},
   "outputs": [
    {
     "data": {
      "text/plain": [
       "'hx177b10efe3018961a405cc7c20ee811c552831a5'"
      ]
     },
     "execution_count": 5,
     "metadata": {},
     "output_type": "execute_result"
    }
   ],
   "source": [
    "# wallet = KeyWallet.load(\"../keystore_ibriz.json\",\"p@ssword1\")\n",
    "wallet = KeyWallet.load(\"./keystore/test1\",\"1@MreddeviL\")\n",
    "deployer_address = wallet.get_address()\n",
    "deployer_address"
   ]
  },
  {
   "cell_type": "markdown",
   "metadata": {},
   "source": [
    "# Load Wallet Using Private Key"
   ]
  },
  {
   "cell_type": "code",
   "execution_count": null,
   "metadata": {},
   "outputs": [],
   "source": [
    "private=\"---PrivateKey-------\"\n",
    "prepwallet = KeyWallet.load(bytes.fromhex(private))\n",
    "prep_address = wallet.get_address()\n",
    "prep_address"
   ]
  },
  {
   "cell_type": "markdown",
   "metadata": {},
   "source": [
    "# Check Wallet Balance"
   ]
  },
  {
   "cell_type": "code",
   "execution_count": null,
   "metadata": {},
   "outputs": [],
   "source": [
    "icon_service.get_balance(deployer_address)"
   ]
  },
  {
   "cell_type": "markdown",
   "metadata": {},
   "source": [
    "# Contracts"
   ]
  },
  {
   "cell_type": "code",
   "execution_count": 6,
   "metadata": {},
   "outputs": [
    {
     "data": {
      "text/plain": [
       "{'CPFTreasury': {'zip': '/home/reddevilsdp/GitRepo/CPS/CPFTreasury',\n",
       "  'SCORE': 'cxb176747630ffe4a22da7b2c713d7fbf063d19595'},\n",
       " 'cps_score': {'zip': '/home/reddevilsdp/GitRepo/CPS/cps_score',\n",
       "  'SCORE': 'cxa4b044b17158b964ed529a72d024eea80ac46944'},\n",
       " 'CPSTreasury': {'zip': '/home/reddevilsdp/GitRepo/CPS/CPSTreasury',\n",
       "  'SCORE': 'cx5887470bfad4434e7aadfb1397609a770371b9ed'}}"
      ]
     },
     "execution_count": 6,
     "metadata": {},
     "output_type": "execute_result"
    }
   ],
   "source": [
    "#Load a pkl file if existed otherwise go to next step\n",
    "contracts_file_custom = 'contracts_20201203030216.pkl'\n",
    "\n",
    "with open(contracts_file_custom, 'rb') as f:\n",
    "    contracts = pkl.load(f)\n",
    "    \n",
    "contracts"
   ]
  },
  {
   "cell_type": "code",
   "execution_count": null,
   "metadata": {},
   "outputs": [],
   "source": [
    "# Add the contracts. Copy the output from this cell the the one above to save the contract addresses.\n",
    "# Run this before deploying scores \n",
    "contracts=AutoVivification()\n",
    "\n",
    "# directory names\n",
    "deploy = ['cps_score', 'CPSTreasury', 'CPFTreasury']\n",
    "# for directory in {\"score\"}:\n",
    "directory=os.getcwd()\n",
    "with os.scandir(directory) as it:\n",
    "    for file in it:\n",
    "        archive_name = directory + \"/\" + file.name\n",
    "        if file.is_dir() and file.name in deploy:\n",
    "            contracts[file.name]['zip'] = archive_name \n",
    "contracts"
   ]
  },
  {
   "cell_type": "markdown",
   "metadata": {},
   "source": [
    "# Deploying Contract"
   ]
  },
  {
   "cell_type": "code",
   "execution_count": null,
   "metadata": {},
   "outputs": [],
   "source": [
    "#this cell needs to run only when you need to deploy new set of contracts\n",
    "for score, loc in contracts.items():\n",
    "    params = {}\n",
    "    print(score,loc)\n",
    "\n",
    "    deploy_transaction = DeployTransactionBuilder()\\\n",
    "        .from_(wallet.get_address())\\\n",
    "        .to(GOVERNANCE_ADDRESS)\\\n",
    "        .nid(NID)\\\n",
    "        .nonce(100)\\\n",
    "        .content_type(\"application/zip\")\\\n",
    "        .content(gen_deploy_data_content(loc[\"zip\"]))\\\n",
    "        .params(params)\\\n",
    "        .build()\n",
    "\n",
    "    step_limit = icon_service.estimate_step(deploy_transaction) + 100000\n",
    "    \n",
    "    signed_transaction = SignedTransaction(deploy_transaction, wallet, step_limit)\n",
    "    tx_hash = icon_service.send_transaction(signed_transaction)\n",
    "\n",
    "    res = get_tx_result(tx_hash)\n",
    "    contracts[score][\"SCORE\"] = res.get('scoreAddress', '')\n",
    "    \n",
    "now = datetime.utcnow()\n",
    "filename = f'contracts_{now.year}{str(now.month).zfill(2)}{str(now.day).zfill(2)}{str(now.hour).zfill(2)}{str(now.minute).zfill(2)}{str(now.second).zfill(2)}.pkl'\n",
    "print(f'saving contracts list as {filename}')\n",
    "with open(filename, 'wb') as f:\n",
    "    pkl.dump(contracts, f)\n",
    "contracts"
   ]
  },
  {
   "cell_type": "markdown",
   "metadata": {},
   "source": [
    "# Updating a Contract"
   ]
  },
  {
   "cell_type": "code",
   "execution_count": 50,
   "metadata": {},
   "outputs": [
    {
     "name": "stdout",
     "output_type": "stream",
     "text": [
      "0x7e6f5a6bb48cfbc1ccd01c34f36791a269721487dcb56b741f55ed0f4e844775\n"
     ]
    },
    {
     "name": "stderr",
     "output_type": "stream",
     "text": [
      "Raised JSONRPCException while returning the custom response. Error message: {'code': -32602, 'message': 'Pending transaction'}\n"
     ]
    },
    {
     "name": "stdout",
     "output_type": "stream",
     "text": [
      "{'code': -32602, 'message': 'Pending transaction'} (Json rpc error), Retrying in 1 seconds...\n"
     ]
    },
    {
     "name": "stderr",
     "output_type": "stream",
     "text": [
      "Raised JSONRPCException while returning the custom response. Error message: {'code': -32602, 'message': 'Invalid params txHash'}\n"
     ]
    },
    {
     "name": "stdout",
     "output_type": "stream",
     "text": [
      "{'code': -32602, 'message': 'Invalid params txHash'} (Json rpc error), Retrying in 2 seconds...\n"
     ]
    },
    {
     "data": {
      "text/plain": [
       "{'txHash': '0x7e6f5a6bb48cfbc1ccd01c34f36791a269721487dcb56b741f55ed0f4e844775',\n",
       " 'blockHeight': 10308142,\n",
       " 'blockHash': '0x7f5f22628ae8a17c722a6b73f2e41181e81a5a152b0b637e124eefe282700ce1',\n",
       " 'txIndex': 2,\n",
       " 'to': 'cxa4b044b17158b964ed529a72d024eea80ac46944',\n",
       " 'scoreAddress': 'cxa4b044b17158b964ed529a72d024eea80ac46944',\n",
       " 'stepUsed': 2125300000,\n",
       " 'stepPrice': 10000000000,\n",
       " 'cumulativeStepUsed': 2125514760,\n",
       " 'eventLogs': [],\n",
       " 'logsBloom': b'\\x00\\x00\\x00\\x00\\x00\\x00\\x00\\x00\\x00\\x00\\x00\\x00\\x00\\x00\\x00\\x00\\x00\\x00\\x00\\x00\\x00\\x00\\x00\\x00\\x00\\x00\\x00\\x00\\x00\\x00\\x00\\x00\\x00\\x00\\x00\\x00\\x00\\x00\\x00\\x00\\x00\\x00\\x00\\x00\\x00\\x00\\x00\\x00\\x00\\x00\\x00\\x00\\x00\\x00\\x00\\x00\\x00\\x00\\x00\\x00\\x00\\x00\\x00\\x00\\x00\\x00\\x00\\x00\\x00\\x00\\x00\\x00\\x00\\x00\\x00\\x00\\x00\\x00\\x00\\x00\\x00\\x00\\x00\\x00\\x00\\x00\\x00\\x00\\x00\\x00\\x00\\x00\\x00\\x00\\x00\\x00\\x00\\x00\\x00\\x00\\x00\\x00\\x00\\x00\\x00\\x00\\x00\\x00\\x00\\x00\\x00\\x00\\x00\\x00\\x00\\x00\\x00\\x00\\x00\\x00\\x00\\x00\\x00\\x00\\x00\\x00\\x00\\x00\\x00\\x00\\x00\\x00\\x00\\x00\\x00\\x00\\x00\\x00\\x00\\x00\\x00\\x00\\x00\\x00\\x00\\x00\\x00\\x00\\x00\\x00\\x00\\x00\\x00\\x00\\x00\\x00\\x00\\x00\\x00\\x00\\x00\\x00\\x00\\x00\\x00\\x00\\x00\\x00\\x00\\x00\\x00\\x00\\x00\\x00\\x00\\x00\\x00\\x00\\x00\\x00\\x00\\x00\\x00\\x00\\x00\\x00\\x00\\x00\\x00\\x00\\x00\\x00\\x00\\x00\\x00\\x00\\x00\\x00\\x00\\x00\\x00\\x00\\x00\\x00\\x00\\x00\\x00\\x00\\x00\\x00\\x00\\x00\\x00\\x00\\x00\\x00\\x00\\x00\\x00\\x00\\x00\\x00\\x00\\x00\\x00\\x00\\x00\\x00\\x00\\x00\\x00\\x00\\x00\\x00\\x00\\x00\\x00\\x00\\x00\\x00\\x00\\x00\\x00\\x00\\x00\\x00\\x00\\x00\\x00\\x00\\x00\\x00\\x00\\x00\\x00\\x00',\n",
       " 'status': 1}"
      ]
     },
     "execution_count": 50,
     "metadata": {},
     "output_type": "execute_result"
    }
   ],
   "source": [
    "# Contract Name\n",
    "# 'cps_score', 'CPSTreasury', 'CPFTreasury'\n",
    "contract = 'cps_score'\n",
    "\n",
    "# Generates an instance of transaction for deploying score\n",
    "transaction = DeployTransactionBuilder() \\\n",
    "            .from_(wallet.get_address()) \\\n",
    "            .to(contracts[contract][\"SCORE\"]) \\\n",
    "            .nid(NID) \\\n",
    "            .nonce(NONCE) \\\n",
    "            .content_type(\"application/zip\") \\\n",
    "            .content(gen_deploy_data_content(contracts[contract][\"zip\"])) \\\n",
    "            .build()\n",
    "\n",
    "estimate_step = icon_service.estimate_step(transaction)\n",
    "step_limit = estimate_step + 100000\n",
    "signed_transaction = SignedTransaction(transaction, wallet,step_limit)\n",
    "\n",
    "tx_hash = icon_service.send_transaction(signed_transaction)\n",
    "print(tx_hash)\n",
    "\n",
    "get_tx_result(tx_hash)"
   ]
  },
  {
   "cell_type": "markdown",
   "metadata": {},
   "source": [
    "# After Deploying Setups"
   ]
  },
  {
   "cell_type": "markdown",
   "metadata": {},
   "source": [
    "## Add Admins Address (only Owner)"
   ]
  },
  {
   "cell_type": "code",
   "execution_count": null,
   "metadata": {},
   "outputs": [],
   "source": [
    "# Add a wallet address \n",
    "params = {\"_address\":\"hx2176d13280d465b68afbf7f9be758e966f654629\"}\n",
    "transaction = CallTransactionBuilder()\\\n",
    "    .from_(wallet.get_address())\\\n",
    "    .to(contracts[\"cps_score\"]['SCORE'])\\\n",
    "    .step_limit(10000000)\\\n",
    "    .nid(NID)\\\n",
    "    .nonce(NONCE)\\\n",
    "    .method(\"add_admin\")\\\n",
    "    .params(params)\\\n",
    "    .build()\n",
    "signed_transaction = SignedTransaction(transaction, wallet)\n",
    "tx_hash = icon_service.send_transaction(signed_transaction)\n",
    "print(tx_hash)\n",
    "\n",
    "get_tx_result(tx_hash)"
   ]
  },
  {
   "cell_type": "markdown",
   "metadata": {},
   "source": [
    "### Remove Admin from Admin List"
   ]
  },
  {
   "cell_type": "code",
   "execution_count": null,
   "metadata": {},
   "outputs": [],
   "source": [
    "#Remove the given wallet address from the admin list\n",
    "params = {\"_address\":\"hx2176d13280d465b68afbf7f9be758e966f654629\"}\n",
    "transaction = CallTransactionBuilder()\\\n",
    "    .from_(wallet.get_address())\\\n",
    "    .to(contracts[\"cps_score\"]['SCORE'])\\\n",
    "    .step_limit(10000000)\\\n",
    "    .nid(NID)\\\n",
    "    .nonce(NONCE)\\\n",
    "    .method(\"remove_admin\")\\\n",
    "    .params(params)\\\n",
    "    .build()\n",
    "signed_transaction = SignedTransaction(transaction, wallet)\n",
    "tx_hash = icon_service.send_transaction(signed_transaction)\n",
    "print(tx_hash)\n",
    "\n",
    "get_tx_result(tx_hash)"
   ]
  },
  {
   "cell_type": "markdown",
   "metadata": {},
   "source": [
    "## Set CPS Treasury SCORE"
   ]
  },
  {
   "cell_type": "code",
   "execution_count": null,
   "metadata": {},
   "outputs": [],
   "source": [
    "# Set CPS Treasury SCORE Address on CPS_SCORE and CPF Treasury\n",
    "\n",
    "contracts_name = ['cps_score','CPFTreasury']\n",
    "\n",
    "params = {\"_score\":contracts[\"CPSTreasury\"]['SCORE']}\n",
    "\n",
    "for contract in contracts_name:\n",
    "    transaction = CallTransactionBuilder()\\\n",
    "        .from_(wallet.get_address())\\\n",
    "        .to(contracts[contract]['SCORE'])\\\n",
    "        .step_limit(10000000)\\\n",
    "        .nid(NID)\\\n",
    "        .nonce(NONCE)\\\n",
    "        .method(\"set_cps_treasury_score\")\\\n",
    "        .params(params)\\\n",
    "        .build()\n",
    "    signed_transaction = SignedTransaction(transaction, wallet)\n",
    "    tx_hash = icon_service.send_transaction(signed_transaction)\n",
    "    print(tx_hash)"
   ]
  },
  {
   "cell_type": "markdown",
   "metadata": {},
   "source": [
    "## Set CPF Treasury Score"
   ]
  },
  {
   "cell_type": "code",
   "execution_count": null,
   "metadata": {},
   "outputs": [],
   "source": [
    "# Set CPF Treasury SCORE Address on CPS_SCORE and CPS Treasury\n",
    "\n",
    "contracts_name = ['cps_score','CPSTreasury']\n",
    "\n",
    "params = {\"_score\":contracts[\"CPFTreasury\"]['SCORE']}\n",
    "\n",
    "for contract in contracts_name:\n",
    "    transaction = CallTransactionBuilder()\\\n",
    "        .from_(wallet.get_address())\\\n",
    "        .to(contracts[contract]['SCORE'])\\\n",
    "        .step_limit(10000000)\\\n",
    "        .nid(NID)\\\n",
    "        .nonce(NONCE)\\\n",
    "        .method(\"set_cpf_treasury_score\")\\\n",
    "        .params(params)\\\n",
    "        .build()\n",
    "    signed_transaction = SignedTransaction(transaction, wallet)\n",
    "    tx_hash = icon_service.send_transaction(signed_transaction)\n",
    "    print(tx_hash)"
   ]
  },
  {
   "cell_type": "markdown",
   "metadata": {},
   "source": [
    "## Set CPS Score"
   ]
  },
  {
   "cell_type": "code",
   "execution_count": null,
   "metadata": {},
   "outputs": [],
   "source": [
    "# Set CPS_SCORE SCORE Address on CPF TREASURY and CPS Treasury\n",
    "\n",
    "contracts_name = ['CPFTreasury','CPSTreasury']\n",
    "\n",
    "params = {\"_score\":contracts[\"cps_score\"]['SCORE']}\n",
    "\n",
    "for contract in contracts_name:\n",
    "    transaction = CallTransactionBuilder()\\\n",
    "        .from_(wallet.get_address())\\\n",
    "        .to(contracts[contract]['SCORE'])\\\n",
    "        .step_limit(10000000)\\\n",
    "        .nid(NID)\\\n",
    "        .nonce(NONCE)\\\n",
    "        .method(\"set_cps_score\")\\\n",
    "        .params(params)\\\n",
    "        .build()\n",
    "    signed_transaction = SignedTransaction(transaction, wallet)\n",
    "    tx_hash = icon_service.send_transaction(signed_transaction)\n",
    "    print(tx_hash)"
   ]
  },
  {
   "cell_type": "markdown",
   "metadata": {},
   "source": [
    "## Add Fund to CPF Treasury Score"
   ]
  },
  {
   "cell_type": "code",
   "execution_count": 47,
   "metadata": {},
   "outputs": [
    {
     "name": "stdout",
     "output_type": "stream",
     "text": [
      "0x7960c81742336be11283d9802e37d913ba9f0bdc4b4d9b9d78f4a997152fd266\n"
     ]
    },
    {
     "name": "stderr",
     "output_type": "stream",
     "text": [
      "Raised JSONRPCException while returning the custom response. Error message: {'code': -32602, 'message': 'Pending transaction'}\n"
     ]
    },
    {
     "name": "stdout",
     "output_type": "stream",
     "text": [
      "{'code': -32602, 'message': 'Pending transaction'} (Json rpc error), Retrying in 1 seconds...\n"
     ]
    },
    {
     "name": "stderr",
     "output_type": "stream",
     "text": [
      "Raised JSONRPCException while returning the custom response. Error message: {'code': -32602, 'message': 'Pending transaction'}\n"
     ]
    },
    {
     "name": "stdout",
     "output_type": "stream",
     "text": [
      "{'code': -32602, 'message': 'Pending transaction'} (Json rpc error), Retrying in 2 seconds...\n"
     ]
    },
    {
     "name": "stderr",
     "output_type": "stream",
     "text": [
      "Raised JSONRPCException while returning the custom response. Error message: {'code': -32602, 'message': 'Invalid params txHash'}\n"
     ]
    },
    {
     "name": "stdout",
     "output_type": "stream",
     "text": [
      "{'code': -32602, 'message': 'Invalid params txHash'} (Json rpc error), Retrying in 4 seconds...\n"
     ]
    },
    {
     "ename": "KeyboardInterrupt",
     "evalue": "",
     "output_type": "error",
     "traceback": [
      "\u001b[0;31m---------------------------------------------------------------------------\u001b[0m",
      "\u001b[0;31mJSONRPCException\u001b[0m                          Traceback (most recent call last)",
      "\u001b[0;32m~/GitRepo/CPS/repeater.py\u001b[0m in \u001b[0;36mf_retry\u001b[0;34m(*args, **kwargs)\u001b[0m\n\u001b[1;32m     53\u001b[0m                 \u001b[0;32mtry\u001b[0m\u001b[0;34m:\u001b[0m\u001b[0;34m\u001b[0m\u001b[0;34m\u001b[0m\u001b[0m\n\u001b[0;32m---> 54\u001b[0;31m                     \u001b[0;32mreturn\u001b[0m \u001b[0mf\u001b[0m\u001b[0;34m(\u001b[0m\u001b[0;34m*\u001b[0m\u001b[0margs\u001b[0m\u001b[0;34m,\u001b[0m \u001b[0;34m**\u001b[0m\u001b[0mkwargs\u001b[0m\u001b[0;34m)\u001b[0m\u001b[0;34m\u001b[0m\u001b[0;34m\u001b[0m\u001b[0m\n\u001b[0m\u001b[1;32m     55\u001b[0m                 \u001b[0;32mexcept\u001b[0m \u001b[0mexception_to_check\u001b[0m \u001b[0;32mas\u001b[0m \u001b[0me\u001b[0m\u001b[0;34m:\u001b[0m\u001b[0;34m\u001b[0m\u001b[0;34m\u001b[0m\u001b[0m\n",
      "\u001b[0;32m<ipython-input-2-83feb3a5b9ae>\u001b[0m in \u001b[0;36mget_tx_result\u001b[0;34m(_tx_hash)\u001b[0m\n\u001b[1;32m     26\u001b[0m \u001b[0;32mdef\u001b[0m \u001b[0mget_tx_result\u001b[0m\u001b[0;34m(\u001b[0m\u001b[0m_tx_hash\u001b[0m\u001b[0;34m)\u001b[0m\u001b[0;34m:\u001b[0m\u001b[0;34m\u001b[0m\u001b[0;34m\u001b[0m\u001b[0m\n\u001b[0;32m---> 27\u001b[0;31m     \u001b[0mtx_result\u001b[0m \u001b[0;34m=\u001b[0m \u001b[0micon_service\u001b[0m\u001b[0;34m.\u001b[0m\u001b[0mget_transaction_result\u001b[0m\u001b[0;34m(\u001b[0m\u001b[0m_tx_hash\u001b[0m\u001b[0;34m)\u001b[0m\u001b[0;34m\u001b[0m\u001b[0;34m\u001b[0m\u001b[0m\n\u001b[0m\u001b[1;32m     28\u001b[0m     \u001b[0;32mreturn\u001b[0m \u001b[0mtx_result\u001b[0m\u001b[0;34m\u001b[0m\u001b[0;34m\u001b[0m\u001b[0m\n",
      "\u001b[0;32m~/anaconda3/envs/venv/lib/python3.7/site-packages/iconsdk/icon_service.py\u001b[0m in \u001b[0;36mget_transaction_result\u001b[0;34m(self, tx_hash, full_response)\u001b[0m\n\u001b[1;32m    181\u001b[0m         \u001b[0mparams\u001b[0m \u001b[0;34m=\u001b[0m \u001b[0;34m{\u001b[0m\u001b[0;34m'txHash'\u001b[0m\u001b[0;34m:\u001b[0m \u001b[0mtx_hash\u001b[0m\u001b[0;34m}\u001b[0m\u001b[0;34m\u001b[0m\u001b[0;34m\u001b[0m\u001b[0m\n\u001b[0;32m--> 182\u001b[0;31m         \u001b[0mresult\u001b[0m \u001b[0;34m=\u001b[0m \u001b[0mself\u001b[0m\u001b[0;34m.\u001b[0m\u001b[0m__provider\u001b[0m\u001b[0;34m.\u001b[0m\u001b[0mmake_request\u001b[0m\u001b[0;34m(\u001b[0m\u001b[0;34m'icx_getTransactionResult'\u001b[0m\u001b[0;34m,\u001b[0m \u001b[0mparams\u001b[0m\u001b[0;34m,\u001b[0m \u001b[0mfull_response\u001b[0m\u001b[0;34m)\u001b[0m\u001b[0;34m\u001b[0m\u001b[0;34m\u001b[0m\u001b[0m\n\u001b[0m\u001b[1;32m    183\u001b[0m \u001b[0;34m\u001b[0m\u001b[0m\n",
      "\u001b[0;32m~/anaconda3/envs/venv/lib/python3.7/site-packages/iconsdk/providers/http_provider.py\u001b[0m in \u001b[0;36mmake_request\u001b[0;34m(self, method, params, full_response)\u001b[0m\n\u001b[1;32m    128\u001b[0m         \u001b[0mresponse\u001b[0m \u001b[0;34m=\u001b[0m \u001b[0mself\u001b[0m\u001b[0;34m.\u001b[0m\u001b[0m_make_post_request\u001b[0m\u001b[0;34m(\u001b[0m\u001b[0mfull_path_url\u001b[0m\u001b[0;34m,\u001b[0m \u001b[0mrpc_dict\u001b[0m\u001b[0;34m,\u001b[0m \u001b[0;34m**\u001b[0m\u001b[0mself\u001b[0m\u001b[0;34m.\u001b[0m\u001b[0m_get_request_kwargs\u001b[0m\u001b[0;34m(\u001b[0m\u001b[0;34m)\u001b[0m\u001b[0;34m)\u001b[0m\u001b[0;34m\u001b[0m\u001b[0;34m\u001b[0m\u001b[0m\n\u001b[0;32m--> 129\u001b[0;31m         \u001b[0mcustom_response\u001b[0m \u001b[0;34m=\u001b[0m \u001b[0mself\u001b[0m\u001b[0;34m.\u001b[0m\u001b[0m_return_custom_response\u001b[0m\u001b[0;34m(\u001b[0m\u001b[0mresponse\u001b[0m\u001b[0;34m,\u001b[0m \u001b[0mfull_response\u001b[0m\u001b[0;34m)\u001b[0m\u001b[0;34m\u001b[0m\u001b[0;34m\u001b[0m\u001b[0m\n\u001b[0m\u001b[1;32m    130\u001b[0m \u001b[0;34m\u001b[0m\u001b[0m\n",
      "\u001b[0;32m~/anaconda3/envs/venv/lib/python3.7/site-packages/iconsdk/providers/http_provider.py\u001b[0m in \u001b[0;36m_return_custom_response\u001b[0;34m(response, full_response)\u001b[0m\n\u001b[1;32m    153\u001b[0m                              f\"Error message: {content_as_dict['error']}\")\n\u001b[0;32m--> 154\u001b[0;31m                 \u001b[0;32mraise\u001b[0m \u001b[0mJSONRPCException\u001b[0m\u001b[0;34m(\u001b[0m\u001b[0mcontent_as_dict\u001b[0m\u001b[0;34m[\u001b[0m\u001b[0;34m\"error\"\u001b[0m\u001b[0;34m]\u001b[0m\u001b[0;34m)\u001b[0m\u001b[0;34m\u001b[0m\u001b[0;34m\u001b[0m\u001b[0m\n\u001b[0m\u001b[1;32m    155\u001b[0m \u001b[0;34m\u001b[0m\u001b[0m\n",
      "\u001b[0;31mJSONRPCException\u001b[0m: {'code': -32602, 'message': 'Invalid params txHash'} (Json rpc error)",
      "\nDuring handling of the above exception, another exception occurred:\n",
      "\u001b[0;31mKeyboardInterrupt\u001b[0m                         Traceback (most recent call last)",
      "\u001b[0;32m<ipython-input-47-eed972410a27>\u001b[0m in \u001b[0;36m<module>\u001b[0;34m\u001b[0m\n\u001b[1;32m     17\u001b[0m \u001b[0mprint\u001b[0m\u001b[0;34m(\u001b[0m\u001b[0mtx_hash\u001b[0m\u001b[0;34m)\u001b[0m\u001b[0;34m\u001b[0m\u001b[0;34m\u001b[0m\u001b[0m\n\u001b[1;32m     18\u001b[0m \u001b[0;34m\u001b[0m\u001b[0m\n\u001b[0;32m---> 19\u001b[0;31m \u001b[0mget_tx_result\u001b[0m\u001b[0;34m(\u001b[0m\u001b[0mtx_hash\u001b[0m\u001b[0;34m)\u001b[0m\u001b[0;34m\u001b[0m\u001b[0;34m\u001b[0m\u001b[0m\n\u001b[0m",
      "\u001b[0;32m~/GitRepo/CPS/repeater.py\u001b[0m in \u001b[0;36mf_retry\u001b[0;34m(*args, **kwargs)\u001b[0m\n\u001b[1;32m     59\u001b[0m                     \u001b[0;32melse\u001b[0m\u001b[0;34m:\u001b[0m\u001b[0;34m\u001b[0m\u001b[0;34m\u001b[0m\u001b[0m\n\u001b[1;32m     60\u001b[0m                         \u001b[0mprint\u001b[0m\u001b[0;34m(\u001b[0m\u001b[0mmsg\u001b[0m\u001b[0;34m)\u001b[0m\u001b[0;34m\u001b[0m\u001b[0;34m\u001b[0m\u001b[0m\n\u001b[0;32m---> 61\u001b[0;31m                     \u001b[0msleep\u001b[0m\u001b[0;34m(\u001b[0m\u001b[0mmdelay\u001b[0m\u001b[0;34m)\u001b[0m\u001b[0;34m\u001b[0m\u001b[0;34m\u001b[0m\u001b[0m\n\u001b[0m\u001b[1;32m     62\u001b[0m                     \u001b[0mmtries\u001b[0m \u001b[0;34m-=\u001b[0m \u001b[0;36m1\u001b[0m\u001b[0;34m\u001b[0m\u001b[0;34m\u001b[0m\u001b[0m\n\u001b[1;32m     63\u001b[0m                     \u001b[0mmdelay\u001b[0m \u001b[0;34m*=\u001b[0m \u001b[0mback_off\u001b[0m\u001b[0;34m\u001b[0m\u001b[0;34m\u001b[0m\u001b[0m\n",
      "\u001b[0;31mKeyboardInterrupt\u001b[0m: "
     ]
    }
   ],
   "source": [
    "# Add some fund to the CPF Treasury Score (Maximum 1M ICX)\n",
    "\n",
    "params = {}\n",
    "\n",
    "transaction = CallTransactionBuilder()\\\n",
    "    .from_(wallet.get_address())\\\n",
    "    .to(contracts[\"CPFTreasury\"]['SCORE'])\\\n",
    "    .step_limit(10000000)\\\n",
    "    .nid(NID)\\\n",
    "    .nonce(NONCE)\\\n",
    "    .value(500*10**18)\\\n",
    "    .method(\"add_fund\")\\\n",
    "    .params(params)\\\n",
    "    .build()\n",
    "signed_transaction = SignedTransaction(transaction, wallet)\n",
    "tx_hash = icon_service.send_transaction(signed_transaction)\n",
    "print(tx_hash)\n",
    "\n",
    "get_tx_result(tx_hash)"
   ]
  },
  {
   "cell_type": "markdown",
   "metadata": {},
   "source": [
    "## Set Penalty Amounts"
   ]
  },
  {
   "cell_type": "code",
   "execution_count": null,
   "metadata": {},
   "outputs": [],
   "source": [
    "# Penalty Amount : Amount for Re-registering from the denylist.\n",
    "# set the penalty amount for the P-Reps who are on Denylist \n",
    "# 3 Tiers penalty system\n",
    "\n",
    "# params = {\"_penalty\":['1000','1500','2500']}\n",
    "params = {\"_penalty\":['10','20','30']}\n",
    "\n",
    "transaction = CallTransactionBuilder()\\\n",
    "    .from_(wallet.get_address())\\\n",
    "    .to(contracts[\"cps_score\"]['SCORE'])\\\n",
    "    .step_limit(10000000)\\\n",
    "    .nid(NID)\\\n",
    "    .nonce(NONCE)\\\n",
    "    .method(\"set_prep_penalty_amount\")\\\n",
    "    .params(params)\\\n",
    "    .build()\n",
    "signed_transaction = SignedTransaction(transaction, wallet)\n",
    "tx_hash = icon_service.send_transaction(signed_transaction)\n",
    "print(tx_hash)\n",
    "\n",
    "get_tx_result(tx_hash)"
   ]
  },
  {
   "cell_type": "markdown",
   "metadata": {},
   "source": [
    "## Set Initial BlockHeight"
   ]
  },
  {
   "cell_type": "code",
   "execution_count": 32,
   "metadata": {},
   "outputs": [
    {
     "name": "stdout",
     "output_type": "stream",
     "text": [
      "0xc9628f3ceffe324ac8822f804d71ef1fca7df3bbcdda61158801fd345ad682b6\n"
     ]
    },
    {
     "name": "stderr",
     "output_type": "stream",
     "text": [
      "Raised JSONRPCException while returning the custom response. Error message: {'code': -32602, 'message': 'Pending transaction'}\n"
     ]
    },
    {
     "name": "stdout",
     "output_type": "stream",
     "text": [
      "{'code': -32602, 'message': 'Pending transaction'} (Json rpc error), Retrying in 1 seconds...\n"
     ]
    },
    {
     "name": "stderr",
     "output_type": "stream",
     "text": [
      "Raised JSONRPCException while returning the custom response. Error message: {'code': -32602, 'message': 'Pending transaction'}\n"
     ]
    },
    {
     "name": "stdout",
     "output_type": "stream",
     "text": [
      "{'code': -32602, 'message': 'Pending transaction'} (Json rpc error), Retrying in 2 seconds...\n"
     ]
    },
    {
     "data": {
      "text/plain": [
       "{'txHash': '0xc9628f3ceffe324ac8822f804d71ef1fca7df3bbcdda61158801fd345ad682b6',\n",
       " 'blockHeight': 10307163,\n",
       " 'blockHash': '0x874570d2a597f166f54cff369b1d8db446f51b6fe6e7c9987e9f8cdc769c8453',\n",
       " 'txIndex': 9,\n",
       " 'to': 'cxa4b044b17158b964ed529a72d024eea80ac46944',\n",
       " 'stepUsed': 177800,\n",
       " 'stepPrice': 10000000000,\n",
       " 'cumulativeStepUsed': 1775400,\n",
       " 'eventLogs': [],\n",
       " 'logsBloom': b'\\x00\\x00\\x00\\x00\\x00\\x00\\x00\\x00\\x00\\x00\\x00\\x00\\x00\\x00\\x00\\x00\\x00\\x00\\x00\\x00\\x00\\x00\\x00\\x00\\x00\\x00\\x00\\x00\\x00\\x00\\x00\\x00\\x00\\x00\\x00\\x00\\x00\\x00\\x00\\x00\\x00\\x00\\x00\\x00\\x00\\x00\\x00\\x00\\x00\\x00\\x00\\x00\\x00\\x00\\x00\\x00\\x00\\x00\\x00\\x00\\x00\\x00\\x00\\x00\\x00\\x00\\x00\\x00\\x00\\x00\\x00\\x00\\x00\\x00\\x00\\x00\\x00\\x00\\x00\\x00\\x00\\x00\\x00\\x00\\x00\\x00\\x00\\x00\\x00\\x00\\x00\\x00\\x00\\x00\\x00\\x00\\x00\\x00\\x00\\x00\\x00\\x00\\x00\\x00\\x00\\x00\\x00\\x00\\x00\\x00\\x00\\x00\\x00\\x00\\x00\\x00\\x00\\x00\\x00\\x00\\x00\\x00\\x00\\x00\\x00\\x00\\x00\\x00\\x00\\x00\\x00\\x00\\x00\\x00\\x00\\x00\\x00\\x00\\x00\\x00\\x00\\x00\\x00\\x00\\x00\\x00\\x00\\x00\\x00\\x00\\x00\\x00\\x00\\x00\\x00\\x00\\x00\\x00\\x00\\x00\\x00\\x00\\x00\\x00\\x00\\x00\\x00\\x00\\x00\\x00\\x00\\x00\\x00\\x00\\x00\\x00\\x00\\x00\\x00\\x00\\x00\\x00\\x00\\x00\\x00\\x00\\x00\\x00\\x00\\x00\\x00\\x00\\x00\\x00\\x00\\x00\\x00\\x00\\x00\\x00\\x00\\x00\\x00\\x00\\x00\\x00\\x00\\x00\\x00\\x00\\x00\\x00\\x00\\x00\\x00\\x00\\x00\\x00\\x00\\x00\\x00\\x00\\x00\\x00\\x00\\x00\\x00\\x00\\x00\\x00\\x00\\x00\\x00\\x00\\x00\\x00\\x00\\x00\\x00\\x00\\x00\\x00\\x00\\x00\\x00\\x00\\x00\\x00\\x00\\x00\\x00\\x00\\x00\\x00\\x00\\x00',\n",
       " 'status': 1}"
      ]
     },
     "execution_count": 32,
     "metadata": {},
     "output_type": "execute_result"
    }
   ],
   "source": [
    "# set a blockheight when the CPS to start from initial (only once)\n",
    "params = {\"_block_height\":\"0x396abb\"}\n",
    "transaction = CallTransactionBuilder()\\\n",
    "    .from_(wallet.get_address())\\\n",
    "    .to(contracts[\"cps_score\"]['SCORE'])\\\n",
    "    .step_limit(10000000)\\\n",
    "    .nid(NID)\\\n",
    "    .nonce(NONCE)\\\n",
    "    .method(\"set_initialBlock\")\\\n",
    "    .params(params)\\\n",
    "    .build()\n",
    "signed_transaction = SignedTransaction(transaction, wallet)\n",
    "tx_hash = icon_service.send_transaction(signed_transaction)\n",
    "print(tx_hash)\n",
    "\n",
    "get_tx_result(tx_hash)"
   ]
  },
  {
   "cell_type": "markdown",
   "metadata": {},
   "source": [
    "# "
   ]
  },
  {
   "cell_type": "markdown",
   "metadata": {},
   "source": [
    "## Main Methods"
   ]
  },
  {
   "cell_type": "markdown",
   "metadata": {},
   "source": [
    "### Register P-Rep"
   ]
  },
  {
   "cell_type": "code",
   "execution_count": null,
   "metadata": {},
   "outputs": [],
   "source": [
    "params = {}\n",
    "\n",
    "transaction = CallTransactionBuilder()\\\n",
    "    .from_(prepwallet.get_address())\\\n",
    "    .to(contracts[\"cps_score\"]['SCORE'])\\\n",
    "    .step_limit(10000000)\\\n",
    "    .nid(3)\\\n",
    "    .nonce(100)\\\n",
    "    .method(\"register_prep\")\\\n",
    "    .params(params)\\\n",
    "    .build()\n",
    "signed_transaction = SignedTransaction(transaction, prepwallet)\n",
    "tx_hash = icon_service.send_transaction(signed_transaction)\n",
    "print(tx_hash)\n",
    "\n",
    "get_tx_result(tx_hash)"
   ]
  },
  {
   "cell_type": "markdown",
   "metadata": {},
   "source": [
    "### Listing P-Reps Address"
   ]
  },
  {
   "cell_type": "code",
   "execution_count": 30,
   "metadata": {},
   "outputs": [
    {
     "data": {
      "text/plain": [
       "[{'name': 'Testing P-Rep1',\n",
       "  'address': 'hxf5bdb1625e4b7fc6de7d85f9dd921090b27ec7d0',\n",
       "  'delegated': '0x572c417290705416d'},\n",
       " {'name': 'Testing P-Rep4',\n",
       "  'address': 'hxef35c447e3f657315a6990da0ddaf4c61fa146e4',\n",
       "  'delegated': '0x572c417290705416d'},\n",
       " {'name': 'Testing P-Rep8',\n",
       "  'address': 'hxfd114a60eefa8e2c3de2d00dc5e41b1a0c7e8931',\n",
       "  'delegated': '0x572c417290705416d'},\n",
       " {'name': 'Testing P-Rep1',\n",
       "  'address': 'hx265305fb7d45e1edfba223503284d2b770605d4a',\n",
       "  'delegated': '0x2bce06812557d416d'},\n",
       " {'name': 'Testing P-Rep5',\n",
       "  'address': 'hxb4e90a285a79687ec148c29faabe6f71afa8a066',\n",
       "  'delegated': '0x2bce06812557d416d'},\n",
       " {'name': 'Testing P-Rep6',\n",
       "  'address': 'hxc60380ef4c1e76595a30fa40d7b519fb3c832db0',\n",
       "  'delegated': '0x374a7f77c7abc3fb6816d'},\n",
       " {'name': 'Testing P-Rep7',\n",
       "  'address': 'hx23823847f593ecb65c9e1ea81a789b02766280e8',\n",
       "  'delegated': '0x2bce06812557d416d'}]"
      ]
     },
     "execution_count": 30,
     "metadata": {},
     "output_type": "execute_result"
    }
   ],
   "source": [
    "## List the active registered prep with their details from System Score Address\n",
    "call = CallBuilder().from_(wallet.get_address())\\\n",
    "                    .to(contracts[\"cps_score\"]['SCORE'])\\\n",
    "                    .method(\"get_PReps\")\\\n",
    "                    .params({})\\\n",
    "                    .build()\n",
    "\n",
    "result = icon_service.call(call)\n",
    "result"
   ]
  },
  {
   "cell_type": "markdown",
   "metadata": {},
   "source": [
    "### Submit a Proposal"
   ]
  },
  {
   "cell_type": "code",
   "execution_count": null,
   "metadata": {},
   "outputs": [],
   "source": [
    "## Submit a proposal \n",
    "### params : _project_title(str) : Project title for the proposal\n",
    "### total_budget(int) : Total Budget for the project (ICX amount)\n",
    "### sponsor_address(Address) : Address of the Sponsor P-Rep (must be a registered P-Rep)\n",
    "### ipfs_hash(str) : IPFS Hash key for the proposal submission\n",
    "### ipfs_link(str) : IPFS Link for the submitted proposal (Can see the details filled up and submitted)\n",
    "### project_duration(int) : Total project duration (months) (Maximum 6)\n",
    "\n",
    "params ={\"_proposals\": {\n",
    "\t\t\t\"project_title\": \"ICON Mobile Wallet\",\n",
    "\t\t\t\"total_budget\": \"100\",\n",
    "\t\t\t\"sponsor_address\": \"hxe59539154a3d77023943c3bbd5fc3a081d697e6a\",\n",
    "\t\t\t\"ipfs_hash\": \"bafybeid3ucflkuettyzvzbsnqhvw5mtqkgbtes4s5yykhr6vd4ma7f7aiy\",\n",
    "\t\t\t\"ipfs_link\": \"https://gateway.ipfs.io/ipfs/bafybeid3ucflkuettyzvzbsnqhvw5mtqkgbtes4s5yykhr6vd4ma7f7aiy\",\n",
    "\t\t\t\"project_duration\": \"4\"\n",
    "\t\t}}\n",
    "transaction = CallTransactionBuilder()\\\n",
    "    .from_(wallet.get_address())\\\n",
    "    .to(contracts[\"cps_score\"]['SCORE'])\\\n",
    "    .value(50000000000000000000)\\\n",
    "    .step_limit(10000000)\\\n",
    "    .nid(3)\\\n",
    "    .nonce(100)\\\n",
    "    .method(\"submit_proposal\")\\\n",
    "    .params(params)\\\n",
    "    .build()\n",
    "signed_transaction = SignedTransaction(transaction, wallet)\n",
    "tx_hash = icon_service.send_transaction(signed_transaction)\n",
    "print(tx_hash)\n",
    "\n",
    "get_tx_result(tx_hash)"
   ]
  },
  {
   "cell_type": "markdown",
   "metadata": {},
   "source": [
    "### Vote Proposal"
   ]
  },
  {
   "cell_type": "code",
   "execution_count": null,
   "metadata": {},
   "outputs": [],
   "source": [
    "### Vote a Proposal (Voting Period)\n",
    "\n",
    "params = {\"_vote\": \"_approve/_reject/_abstain\",\n",
    "          \"_vote_reason\": \"Vote Reason\",\n",
    "          \"_ipfs_key\": \"Proposal IPFS Hash\"}\n",
    "transaction = CallTransactionBuilder()\\\n",
    "    .from_(sdpwallet.get_address())\\\n",
    "    .to(contracts[\"cps_score\"]['SCORE'])\\\n",
    "    .step_limit(10000000)\\\n",
    "    .nid(3)\\\n",
    "    .nonce(100)\\\n",
    "    .method(\"vote_proposal\")\\\n",
    "    .params(params)\\\n",
    "    .build()\n",
    "signed_transaction = SignedTransaction(transaction, sdpwallet)\n",
    "tx_hash = icon_service.send_transaction(signed_transaction)\n",
    "print(tx_hash)\n",
    "\n",
    "get_tx_result(tx_hash)"
   ]
  },
  {
   "cell_type": "markdown",
   "metadata": {},
   "source": [
    "### Submit Progress Report"
   ]
  },
  {
   "cell_type": "code",
   "execution_count": null,
   "metadata": {},
   "outputs": [],
   "source": [
    "## Submit a Progress Report \n",
    "### params : progress_report_title(str) : Progress Report title for the progress report\n",
    "### ipfs_hash(str) : IPFS Hash key for the main proposal\n",
    "### report_hash(str): IPFS Hash key for the progress report submission\n",
    "### ipfs_link(str) : IPFS Link for the submitted progress report (Can see the details filled up and submitted)\n",
    "### percentage_completed(int) : Approx. project completion percentage\n",
    "### budget_adjustment(bool) : True if progress report has budget adjustment application to increase the budget for the project\n",
    "### additional_budget(int) (ICX amount) : application for additional budget proposed\n",
    "### additional_month(int) : Additional month required for the additional work proposed\n",
    "\n",
    "params = {\"_progress_report\": {\n",
    "                \"report_hash\": \"Progress Report IPFS HASH Key\",\n",
    "                \"ipfs_hash\": \"Proposal IPFS HASH key\",\n",
    "                \"progress_report_title\": \"Progress Report Title\",\n",
    "                \"budget_adjustment\": \"0/1\",\n",
    "                \"additional_budget\": \"0\",\n",
    "                \"ipfs_link\": \"IPFS Submission Link\",\n",
    "                \"percentage_completed\": \"Current Project Completion Status(int)\",\n",
    "                \"additional_month\": \"0\"\n",
    "            }\n",
    "          }\n",
    "\n",
    "transaction = CallTransactionBuilder()\\\n",
    "    .from_(prep_wallet.get_address())\\\n",
    "    .to(contracts[\"cps_score\"]['SCORE'])\\\n",
    "    .step_limit(10000000)\\\n",
    "    .nid(3)\\\n",
    "    .nonce(100)\\\n",
    "    .method(\"submit_progress_report\")\\\n",
    "    .params(params)\\\n",
    "    .build()\n",
    "signed_transaction = SignedTransaction(transaction, prep_wallet)\n",
    "tx_hash = icon_service.send_transaction(signed_transaction)\n",
    "print(tx_hash)\n",
    "\n",
    "get_tx_result(tx_hash)"
   ]
  },
  {
   "cell_type": "markdown",
   "metadata": {},
   "source": [
    "### Vote Progress Report"
   ]
  },
  {
   "cell_type": "code",
   "execution_count": null,
   "metadata": {},
   "outputs": [],
   "source": [
    "### Vote a progress Report (Voting Period)\n",
    "params = {\"_vote\": \"_approve/_reject\",\n",
    "          \"_vote_reason\": \"Reason For the Vote\",\n",
    "          \"_ipfs_key\": \"Proposal IPFS HASH\",\n",
    "          \"_report_key\":\"Progress Report IPFS Hash\",\n",
    "          \"_budget_adjustment_vote\":\"_approve/_reject\"}\n",
    "\n",
    "transaction = CallTransactionBuilder()\\\n",
    "    .from_(sdpwallet.get_address())\\\n",
    "    .to(contracts[\"cps_score\"]['SCORE'])\\\n",
    "    .step_limit(10000000)\\\n",
    "    .nid(3)\\\n",
    "    .nonce(100)\\\n",
    "    .method(\"vote_progress_report\")\\\n",
    "    .params(params)\\\n",
    "    .build()\n",
    "signed_transaction = SignedTransaction(transaction, sdpwallet)\n",
    "tx_hash = icon_service.send_transaction(signed_transaction)\n",
    "print(tx_hash)\n",
    "\n",
    "get_tx_result(tx_hash)"
   ]
  },
  {
   "cell_type": "markdown",
   "metadata": {},
   "source": [
    "### Update a period"
   ]
  },
  {
   "cell_type": "code",
   "execution_count": 10,
   "metadata": {},
   "outputs": [
    {
     "name": "stdout",
     "output_type": "stream",
     "text": [
      "0x4469d88537bdcb3f71cfdaea6d39df083387f920c7a22000416d6d0cd5e50795\n"
     ]
    },
    {
     "name": "stderr",
     "output_type": "stream",
     "text": [
      "Raised JSONRPCException while returning the custom response. Error message: {'code': -32602, 'message': 'Pending transaction'}\n"
     ]
    },
    {
     "name": "stdout",
     "output_type": "stream",
     "text": [
      "{'code': -32602, 'message': 'Pending transaction'} (Json rpc error), Retrying in 1 seconds...\n"
     ]
    },
    {
     "name": "stderr",
     "output_type": "stream",
     "text": [
      "Raised JSONRPCException while returning the custom response. Error message: {'code': -32602, 'message': 'Pending transaction'}\n"
     ]
    },
    {
     "name": "stdout",
     "output_type": "stream",
     "text": [
      "{'code': -32602, 'message': 'Pending transaction'} (Json rpc error), Retrying in 2 seconds...\n"
     ]
    },
    {
     "data": {
      "text/plain": [
       "{'txHash': '0x4469d88537bdcb3f71cfdaea6d39df083387f920c7a22000416d6d0cd5e50795',\n",
       " 'blockHeight': 10288134,\n",
       " 'blockHash': '0x8609ecc4f918752c383ec4d31099106c35867199e44236532dfb7cbb9bc0d3cb',\n",
       " 'txIndex': 1,\n",
       " 'to': 'cxa4b044b17158b964ed529a72d024eea80ac46944',\n",
       " 'stepUsed': 454500,\n",
       " 'stepPrice': 10000000000,\n",
       " 'cumulativeStepUsed': 454500,\n",
       " 'eventLogs': [{'scoreAddress': 'cx5887470bfad4434e7aadfb1397609a770371b9ed',\n",
       "   'indexed': ['ICXTransfer(Address,Address,int)',\n",
       "    'cx5887470bfad4434e7aadfb1397609a770371b9ed',\n",
       "    'hxeee0810ddcacba64f26dc288f002861527fa7636',\n",
       "    '0x15af1d78b58c40000'],\n",
       "   'data': []},\n",
       "  {'scoreAddress': 'cx5887470bfad4434e7aadfb1397609a770371b9ed',\n",
       "   'indexed': ['ProposalFundSent(Address,int,str)',\n",
       "    'hxeee0810ddcacba64f26dc288f002861527fa7636',\n",
       "    '0x15af1d78b58c40000',\n",
       "    'Installment No. 2 transferred to contributor'],\n",
       "   'data': []},\n",
       "  {'scoreAddress': 'cx5887470bfad4434e7aadfb1397609a770371b9ed',\n",
       "   'indexed': ['ICXTransfer(Address,Address,int)',\n",
       "    'cx5887470bfad4434e7aadfb1397609a770371b9ed',\n",
       "    'hxef35c447e3f657315a6990da0ddaf4c61fa146e4',\n",
       "    '0x6f05b59d3b20000'],\n",
       "   'data': []},\n",
       "  {'scoreAddress': 'cx5887470bfad4434e7aadfb1397609a770371b9ed',\n",
       "   'indexed': ['ProposalFundSent(Address,int,str)',\n",
       "    'hxef35c447e3f657315a6990da0ddaf4c61fa146e4',\n",
       "    '0x6f05b59d3b20000',\n",
       "    'Sponsor Reward No. 2 transferred to Sponsor.'],\n",
       "   'data': []},\n",
       "  {'scoreAddress': 'cx5887470bfad4434e7aadfb1397609a770371b9ed',\n",
       "   'indexed': ['ICXTransfer(Address,Address,int)',\n",
       "    'cx5887470bfad4434e7aadfb1397609a770371b9ed',\n",
       "    'hx2176d13280d465b68afbf7f9be758e966f654629',\n",
       "    '0x15af1d78b58c40000'],\n",
       "   'data': []},\n",
       "  {'scoreAddress': 'cx5887470bfad4434e7aadfb1397609a770371b9ed',\n",
       "   'indexed': ['ProposalFundSent(Address,int,str)',\n",
       "    'hx2176d13280d465b68afbf7f9be758e966f654629',\n",
       "    '0x15af1d78b58c40000',\n",
       "    'Installment No. 3 transferred to contributor'],\n",
       "   'data': []},\n",
       "  {'scoreAddress': 'cx5887470bfad4434e7aadfb1397609a770371b9ed',\n",
       "   'indexed': ['ICXTransfer(Address,Address,int)',\n",
       "    'cx5887470bfad4434e7aadfb1397609a770371b9ed',\n",
       "    'hxf5bdb1625e4b7fc6de7d85f9dd921090b27ec7d0',\n",
       "    '0x6f05b59d3b20000'],\n",
       "   'data': []},\n",
       "  {'scoreAddress': 'cx5887470bfad4434e7aadfb1397609a770371b9ed',\n",
       "   'indexed': ['ProposalFundSent(Address,int,str)',\n",
       "    'hxf5bdb1625e4b7fc6de7d85f9dd921090b27ec7d0',\n",
       "    '0x6f05b59d3b20000',\n",
       "    'Sponsor Reward No. 3 transferred to Sponsor.'],\n",
       "   'data': []},\n",
       "  {'scoreAddress': 'cxa4b044b17158b964ed529a72d024eea80ac46944',\n",
       "   'indexed': ['PeriodUpdate(Address,str)',\n",
       "    'cxa4b044b17158b964ed529a72d024eea80ac46944',\n",
       "    'Period Updated to Application Period.'],\n",
       "   'data': []}],\n",
       " 'logsBloom': b'\\x00\\x00\\x00\\x00\\x04\\x00\\x00\\x00@\\x00\\x80\\r\\x00\\x00@@\\x00\\x00\\x00\\x00\\x00\\x00\\x00\\x00\\x80\\x00\\x08\\x00\\x00\\x08\\x00\\x00\\x00\\x00@\\x00 \\x00\\x00\\x00\\x00\\x00\\x00\\x00\\x00\\x00\\x80\\x00\\x05\\x00\\x00\\x00\\x00\\x00\\x00\\x00\\x00\\x00\\x08\\x10\\x00\\x000\\x00\\x00\\x00\\x00\\x08\\x08@\\x00\\x00\\x00\\x08  \\x00\\x00\\x10\\x00\\x00\\x10\\x00\\x00\\x10\\x00\\x00\\x00\\x00\\x04\\x04\\x00\\x00 \\x00\\x00\\x08\\x08@\\x00\\x00\\x00\\x00\\x00\\x00\\x00\\x00\\x00\\x00\\x00\\x80\\x00\\x00\\x00\\x00\\x00\\x18\\x04\\x00\\x00\\x00\\x01\\x00\\x00\\x00\\x80\\x00\\x00\\x00\\x02\\x00\\x00\\x00\\x80\\x00\\x00\\x00\\x00\\x00\\x02\\x00\\x00\\x00\\x00\\x00\\x00\\x02\\x00\\x00A\\x00\\x00\\x00\\x80\\x80 \\x00\\x00\\x00\\x00\\x00\\x00\\x00\\x00\\x00\\x02B\\x00\\x10\\x00\\x00\\x00\\x00\\x00\\x01\\x00\\x00\\x08\\x00\\x00\\x00\\x02\\x00\\x00\\x00\\x00\\x00\\x04\\x00\\x00\\x00\\x00\\x00\\x00\\x00\\x00\\x00\\x02\\x00\\x00\\x00\\x80 \\x00\\x00\\x00\\x00\\x00\\x00\\x00\\x00\\x00\\x00\\x00@\\x00\\x00\\x00\\x00\\x00\\x00\\x00\\x00\\x00!\\x00\\x00\\x08 \\x00\\x10\\x00\\x00\\x00\\x00\\x00 \\x00\\x00\\x04\\x00\\x00\\x00\\x00\\x00\\x00\\x00@\\x00\\x00\\x00\\x00\\x00\\x01\\x00\\x00',\n",
       " 'status': 1}"
      ]
     },
     "execution_count": 10,
     "metadata": {},
     "output_type": "execute_result"
    }
   ],
   "source": [
    "# To update a period from application period to voting period and vice-versa \n",
    "# after the block count of a period is completed\n",
    "params = {}\n",
    "transaction = CallTransactionBuilder()\\\n",
    "    .from_(wallet.get_address())\\\n",
    "    .to(contracts[\"cps_score\"]['SCORE'])\\\n",
    "    .step_limit(10000000)\\\n",
    "    .nid(NID)\\\n",
    "    .nonce(NONCE)\\\n",
    "    .method(\"update_period\")\\\n",
    "    .params(params)\\\n",
    "    .build()\n",
    "signed_transaction = SignedTransaction(transaction, wallet)\n",
    "tx_hash = icon_service.send_transaction(signed_transaction)\n",
    "print(tx_hash)\n",
    "\n",
    "get_tx_result(tx_hash)"
   ]
  },
  {
   "cell_type": "markdown",
   "metadata": {},
   "source": [
    "## Read Only Methods"
   ]
  },
  {
   "cell_type": "code",
   "execution_count": null,
   "metadata": {},
   "outputs": [],
   "source": [
    "### check the wallet address status, also if they are on denylist the penalty amount to pay is also listed\n",
    "params = {\"_address\":\"hxb4e90a285a79687ec148c29faabe6f71afa8a066\"}\n",
    "call = CallBuilder().from_(wallet.get_address())\\\n",
    "                    .to(contracts[\"cps_score\"]['SCORE'])\\\n",
    "                    .method(\"login_prep\")\\\n",
    "                    .params(params)\\\n",
    "                    .build()\n",
    "\n",
    "result = icon_service.call(call)\n",
    "result"
   ]
  },
  {
   "cell_type": "code",
   "execution_count": 33,
   "metadata": {},
   "outputs": [
    {
     "data": {
      "text/plain": [
       "{'current_block': '0x9d4677',\n",
       " 'next_block': '0x9d49df',\n",
       " 'remaining_time': '0x6d0',\n",
       " 'period_name': 'Application Period',\n",
       " 'period_span': '0x708'}"
      ]
     },
     "execution_count": 33,
     "metadata": {},
     "output_type": "execute_result"
    }
   ],
   "source": [
    "## Get period status with currentBlock, NextBlock to change the period, remainingTime for the period, \n",
    "## Currently running period name and the total period span\n",
    "\n",
    "params = {}\n",
    "call = CallBuilder().from_(wallet.get_address())\\\n",
    "                    .to(contracts[\"cps_score\"]['SCORE'])\\\n",
    "                    .method(\"get_period_status\")\\\n",
    "                    .params(params)\\\n",
    "                    .build()\n",
    "\n",
    "result = icon_service.call(call)\n",
    "result"
   ]
  },
  {
   "cell_type": "code",
   "execution_count": 31,
   "metadata": {},
   "outputs": [
    {
     "data": {
      "text/plain": [
       "{'data': [{'ipfs_hash': 'bafybeiehmefbubn5nn2qqxej7mnlg5jtgoc2arjsltniksdrl23l575oyi',\n",
       "   'project_title': 'World Changing Test Project',\n",
       "   'timestamp': '0x5b61e7a4d1b60',\n",
       "   'total_budget': '0x28',\n",
       "   'project_duration': '0x3',\n",
       "   'approved_reports': '0x2',\n",
       "   'sponsor_address': 'hxb4e90a285a79687ec148c29faabe6f71afa8a066',\n",
       "   'contributor_address': 'hx3f01840a599da07b0f620eeae7aa9c574169a4be',\n",
       "   'status': '_paused',\n",
       "   'tx_hash': '5aaeb68d3ea8a62dcfc00903726b2bce2b2d601857847e253eab0355116d6b2b',\n",
       "   'percentage_completed': '0x50',\n",
       "   'sponsor_deposit_amount': '0x3782dace9d900000',\n",
       "   'sponsored_timestamp': '0x5b6142d155033',\n",
       "   'sponsor_deposit_status': 'bond_approved',\n",
       "   'total_votes': '0x1b4a147c50ce59e5fa',\n",
       "   'approved_votes': '0x1b4a147c50ce59e5fa',\n",
       "   'rejected_votes': '0x0',\n",
       "   'total_voters': '0x7',\n",
       "   'approve_voters': '0x7',\n",
       "   'reject_voters': '0x0'}],\n",
       " 'count': '0x1'}"
      ]
     },
     "execution_count": 31,
     "metadata": {},
     "output_type": "execute_result"
    }
   ],
   "source": [
    "### Get the list of Proposals with their details of provided status maximum 50 entries at once, 20 by default\n",
    "\n",
    "## \"_status\" :[\"_sponsor_pending\",\"_pending\",\"_active\",\"_paused\",\"_completed\",\"_rejected\",\"_disqualifed\"]\n",
    "params = {\"_status\":\"_paused\"}\n",
    "call = CallBuilder().from_(wallet.get_address())\\\n",
    "                    .to(contracts[\"cps_score\"]['SCORE'])\\\n",
    "                    .method(\"get_proposal_details\")\\\n",
    "                    .params(params)\\\n",
    "                    .build()\n",
    "\n",
    "result = icon_service.call(call)\n",
    "result"
   ]
  },
  {
   "cell_type": "code",
   "execution_count": 16,
   "metadata": {
    "scrolled": false
   },
   "outputs": [
    {
     "data": {
      "text/plain": [
       "{'data': [{'ipfs_hash': 'bafybeifrv2vxo7utazawsxw5aj2yw6w3gvp5cu26oa4tzy37l2az52v3pm',\n",
       "   'report_hash': 'bafybeidvbhbdw37xbc263d766kslymeshdfa456f3rs4e63zxv6tfsmxca',\n",
       "   'progress_report_title': 'Progress Report II',\n",
       "   'timestamp': '0x5b61389ebe023',\n",
       "   'additional_budget': '0x0',\n",
       "   'additional_month': '0x0',\n",
       "   'status': '_approved',\n",
       "   'tx_hash': '035b7a85182c1484b0e64c537129af78747c09221a4e8e38cb25067bfc23b2b2',\n",
       "   'budget_adjustment': '0x1',\n",
       "   'total_votes': '0x188d73234efcf50e44',\n",
       "   'approved_votes': '0x188d73234efcf50e44',\n",
       "   'rejected_votes': '0x0',\n",
       "   'total_voters': '0x6',\n",
       "   'approve_voters': '0x6',\n",
       "   'reject_voters': '0x0',\n",
       "   'budget_approved_votes': '0x0',\n",
       "   'budget_rejected_votes': '0x0',\n",
       "   'budget_approve_voters': '0x0',\n",
       "   'budget_reject_voters': '0x0',\n",
       "   'budget_adjustment_status': '',\n",
       "   'project_title': 'Proposal 1',\n",
       "   'contributor_address': 'hx2176d13280d465b68afbf7f9be758e966f654629'},\n",
       "  {'ipfs_hash': 'bafybeifrv2vxo7utazawsxw5aj2yw6w3gvp5cu26oa4tzy37l2az52v3pm',\n",
       "   'report_hash': 'bafybeicpwixxd4c6ucvjkui3zqb6g2z5epc4qjbjkrlldbxkerscup6ofm',\n",
       "   'progress_report_title': 'Progress Report III',\n",
       "   'timestamp': '0x5b61d86bd3596',\n",
       "   'additional_budget': '0x0',\n",
       "   'additional_month': '0x0',\n",
       "   'status': '_approved',\n",
       "   'tx_hash': '83f86c1c94a9c116a0dc0a447c3a1c06f7e73f59ad83e22d895b0436ed18f943',\n",
       "   'budget_adjustment': '0x1',\n",
       "   'total_votes': '0x374c08669f86e553e09fb',\n",
       "   'approved_votes': '0x374bb13a5e1454e38c88e',\n",
       "   'rejected_votes': '0x572c417290705416d',\n",
       "   'total_voters': '0x7',\n",
       "   'approve_voters': '0x6',\n",
       "   'reject_voters': '0x1',\n",
       "   'budget_approved_votes': '0x0',\n",
       "   'budget_rejected_votes': '0x0',\n",
       "   'budget_approve_voters': '0x0',\n",
       "   'budget_reject_voters': '0x0',\n",
       "   'budget_adjustment_status': '',\n",
       "   'project_title': 'Proposal 1',\n",
       "   'contributor_address': 'hx2176d13280d465b68afbf7f9be758e966f654629'},\n",
       "  {'ipfs_hash': 'bafybeifrv2vxo7utazawsxw5aj2yw6w3gvp5cu26oa4tzy37l2az52v3pm',\n",
       "   'report_hash': 'bafybeifu2wycbttxmkotzyqxphh7cqps6i23mcd7vetk2aqejp7c3svhyq',\n",
       "   'progress_report_title': 'Progress Report 12',\n",
       "   'timestamp': '0x5b61e7a4d1b60',\n",
       "   'additional_budget': '0x0',\n",
       "   'additional_month': '0x0',\n",
       "   'status': '_approved',\n",
       "   'tx_hash': 'e2c00dfbb5c4052c31bcede83d37a92dd247f8f7194001e511b060fff9ddb437',\n",
       "   'budget_adjustment': '0x1',\n",
       "   'total_votes': '0x374c08669f86e553e09fb',\n",
       "   'approved_votes': '0x374c08669f86e553e09fb',\n",
       "   'rejected_votes': '0x0',\n",
       "   'total_voters': '0x7',\n",
       "   'approve_voters': '0x7',\n",
       "   'reject_voters': '0x0',\n",
       "   'budget_approved_votes': '0x0',\n",
       "   'budget_rejected_votes': '0x0',\n",
       "   'budget_approve_voters': '0x0',\n",
       "   'budget_reject_voters': '0x0',\n",
       "   'budget_adjustment_status': '',\n",
       "   'project_title': 'Proposal 1',\n",
       "   'contributor_address': 'hx2176d13280d465b68afbf7f9be758e966f654629'},\n",
       "  {'ipfs_hash': 'bafybeiehmefbubn5nn2qqxej7mnlg5jtgoc2arjsltniksdrl23l575oyi',\n",
       "   'report_hash': 'bafybeibtyjakzj376uu3rqt246esh2oapqsrccxibeae3vprjkicu7ekei',\n",
       "   'progress_report_title': 'Milestone 1',\n",
       "   'timestamp': '0x5b61585f9c96d',\n",
       "   'additional_budget': '0x0',\n",
       "   'additional_month': '0x0',\n",
       "   'status': '_approved',\n",
       "   'tx_hash': '2c32c2933e25de585c5034f87af0eec8380fba71904cadf9910c54691c00c6cc',\n",
       "   'budget_adjustment': '0x1',\n",
       "   'total_votes': '0x1b4a929a71d68ab968',\n",
       "   'approved_votes': '0x1b4a929a71d68ab968',\n",
       "   'rejected_votes': '0x0',\n",
       "   'total_voters': '0x7',\n",
       "   'approve_voters': '0x7',\n",
       "   'reject_voters': '0x0',\n",
       "   'budget_approved_votes': '0x0',\n",
       "   'budget_rejected_votes': '0x0',\n",
       "   'budget_approve_voters': '0x0',\n",
       "   'budget_reject_voters': '0x0',\n",
       "   'budget_adjustment_status': '',\n",
       "   'project_title': 'World Changing Test Project',\n",
       "   'contributor_address': 'hx3f01840a599da07b0f620eeae7aa9c574169a4be'},\n",
       "  {'ipfs_hash': 'bafybeiehmefbubn5nn2qqxej7mnlg5jtgoc2arjsltniksdrl23l575oyi',\n",
       "   'report_hash': 'bafybeig4ciihcths5qnnclonturatzodc37ov2yxv2lxewccp3jm3qttii',\n",
       "   'progress_report_title': 'second',\n",
       "   'timestamp': '0x5b61d86bd3596',\n",
       "   'additional_budget': '0x0',\n",
       "   'additional_month': '0x0',\n",
       "   'status': '_approved',\n",
       "   'tx_hash': 'e953648ff780bbe5a065d33e027c55d8af21d299c86b1e84ad0aecf772539192',\n",
       "   'budget_adjustment': '0x1',\n",
       "   'total_votes': '0x374c08669f86e553e09fb',\n",
       "   'approved_votes': '0x374bb13a5e1454e38c88e',\n",
       "   'rejected_votes': '0x572c417290705416d',\n",
       "   'total_voters': '0x7',\n",
       "   'approve_voters': '0x6',\n",
       "   'reject_voters': '0x1',\n",
       "   'budget_approved_votes': '0x0',\n",
       "   'budget_rejected_votes': '0x0',\n",
       "   'budget_approve_voters': '0x0',\n",
       "   'budget_reject_voters': '0x0',\n",
       "   'budget_adjustment_status': '',\n",
       "   'project_title': 'World Changing Test Project',\n",
       "   'contributor_address': 'hx3f01840a599da07b0f620eeae7aa9c574169a4be'},\n",
       "  {'ipfs_hash': 'bafybeien34spjbp7c7pmtwxwoadvyaly5shlksbwkhyeaqwylhehv25ssq',\n",
       "   'report_hash': 'bafybeif4ma4sk2ytbq4hvxj6uzeh23zi27u4amx43o3pygig6sfyitjcuq',\n",
       "   'progress_report_title': 'Milestone 1',\n",
       "   'timestamp': '0x5b61d86bd3596',\n",
       "   'additional_budget': '0x0',\n",
       "   'additional_month': '0x0',\n",
       "   'status': '_approved',\n",
       "   'tx_hash': '726941c8d8a0038e50cb5abfbbd8f43bcfc0d860bf4c3c429b2d1b2b45e4a034',\n",
       "   'budget_adjustment': '0x1',\n",
       "   'total_votes': '0x374c08669f86e553e09fb',\n",
       "   'approved_votes': '0x374c08669f86e553e09fb',\n",
       "   'rejected_votes': '0x0',\n",
       "   'total_voters': '0x7',\n",
       "   'approve_voters': '0x7',\n",
       "   'reject_voters': '0x0',\n",
       "   'budget_approved_votes': '0x0',\n",
       "   'budget_rejected_votes': '0x0',\n",
       "   'budget_approve_voters': '0x0',\n",
       "   'budget_reject_voters': '0x0',\n",
       "   'budget_adjustment_status': '',\n",
       "   'project_title': 'Proposal 2',\n",
       "   'contributor_address': 'hxeee0810ddcacba64f26dc288f002861527fa7636'},\n",
       "  {'ipfs_hash': 'bafybeien34spjbp7c7pmtwxwoadvyaly5shlksbwkhyeaqwylhehv25ssq',\n",
       "   'report_hash': 'bafybeiee2nnwo3fs4d7rzyqcmbib5sk4afk4xyi7kcjujbf56dglw4qk24',\n",
       "   'progress_report_title': 'Final Progrress report',\n",
       "   'timestamp': '0x5b61e7a4d1b60',\n",
       "   'additional_budget': '0x0',\n",
       "   'additional_month': '0x0',\n",
       "   'status': '_approved',\n",
       "   'tx_hash': 'b204cb4317fdee0695c93e8afac09e99a628182175a217ea350bae8f407e85b9',\n",
       "   'budget_adjustment': '0x1',\n",
       "   'total_votes': '0x374c08669f86e553e09fb',\n",
       "   'approved_votes': '0x374c08669f86e553e09fb',\n",
       "   'rejected_votes': '0x0',\n",
       "   'total_voters': '0x7',\n",
       "   'approve_voters': '0x7',\n",
       "   'reject_voters': '0x0',\n",
       "   'budget_approved_votes': '0x0',\n",
       "   'budget_rejected_votes': '0x0',\n",
       "   'budget_approve_voters': '0x0',\n",
       "   'budget_reject_voters': '0x0',\n",
       "   'budget_adjustment_status': '',\n",
       "   'project_title': 'Proposal 2',\n",
       "   'contributor_address': 'hxeee0810ddcacba64f26dc288f002861527fa7636'},\n",
       "  {'ipfs_hash': 'bafybeifrv2vxo7utazawsxw5aj2yw6w3gvp5cu26oa4tzy37l2az52v3pm',\n",
       "   'report_hash': 'bafybeidvbhbdw37xbc263d766kslymeshdfa456f3rs4e63zxv6tfsmxca',\n",
       "   'progress_report_title': 'Progress Report II',\n",
       "   'timestamp': '0x5b61389ebe023',\n",
       "   'additional_budget': '0x0',\n",
       "   'additional_month': '0x0',\n",
       "   'status': '_approved',\n",
       "   'tx_hash': '035b7a85182c1484b0e64c537129af78747c09221a4e8e38cb25067bfc23b2b2',\n",
       "   'budget_adjustment': '0x1',\n",
       "   'total_votes': '0x188d73234efcf50e44',\n",
       "   'approved_votes': '0x188d73234efcf50e44',\n",
       "   'rejected_votes': '0x0',\n",
       "   'total_voters': '0x6',\n",
       "   'approve_voters': '0x6',\n",
       "   'reject_voters': '0x0',\n",
       "   'budget_approved_votes': '0x0',\n",
       "   'budget_rejected_votes': '0x0',\n",
       "   'budget_approve_voters': '0x0',\n",
       "   'budget_reject_voters': '0x0',\n",
       "   'budget_adjustment_status': '',\n",
       "   'project_title': 'Proposal 1',\n",
       "   'contributor_address': 'hx2176d13280d465b68afbf7f9be758e966f654629'},\n",
       "  {'ipfs_hash': 'bafybeifrv2vxo7utazawsxw5aj2yw6w3gvp5cu26oa4tzy37l2az52v3pm',\n",
       "   'report_hash': 'bafybeicpwixxd4c6ucvjkui3zqb6g2z5epc4qjbjkrlldbxkerscup6ofm',\n",
       "   'progress_report_title': 'Progress Report III',\n",
       "   'timestamp': '0x5b61d86bd3596',\n",
       "   'additional_budget': '0x0',\n",
       "   'additional_month': '0x0',\n",
       "   'status': '_approved',\n",
       "   'tx_hash': '83f86c1c94a9c116a0dc0a447c3a1c06f7e73f59ad83e22d895b0436ed18f943',\n",
       "   'budget_adjustment': '0x1',\n",
       "   'total_votes': '0x374c08669f86e553e09fb',\n",
       "   'approved_votes': '0x374bb13a5e1454e38c88e',\n",
       "   'rejected_votes': '0x572c417290705416d',\n",
       "   'total_voters': '0x7',\n",
       "   'approve_voters': '0x6',\n",
       "   'reject_voters': '0x1',\n",
       "   'budget_approved_votes': '0x0',\n",
       "   'budget_rejected_votes': '0x0',\n",
       "   'budget_approve_voters': '0x0',\n",
       "   'budget_reject_voters': '0x0',\n",
       "   'budget_adjustment_status': '',\n",
       "   'project_title': 'Proposal 1',\n",
       "   'contributor_address': 'hx2176d13280d465b68afbf7f9be758e966f654629'},\n",
       "  {'ipfs_hash': 'bafybeifrv2vxo7utazawsxw5aj2yw6w3gvp5cu26oa4tzy37l2az52v3pm',\n",
       "   'report_hash': 'bafybeifu2wycbttxmkotzyqxphh7cqps6i23mcd7vetk2aqejp7c3svhyq',\n",
       "   'progress_report_title': 'Progress Report 12',\n",
       "   'timestamp': '0x5b61e7a4d1b60',\n",
       "   'additional_budget': '0x0',\n",
       "   'additional_month': '0x0',\n",
       "   'status': '_approved',\n",
       "   'tx_hash': 'e2c00dfbb5c4052c31bcede83d37a92dd247f8f7194001e511b060fff9ddb437',\n",
       "   'budget_adjustment': '0x1',\n",
       "   'total_votes': '0x374c08669f86e553e09fb',\n",
       "   'approved_votes': '0x374c08669f86e553e09fb',\n",
       "   'rejected_votes': '0x0',\n",
       "   'total_voters': '0x7',\n",
       "   'approve_voters': '0x7',\n",
       "   'reject_voters': '0x0',\n",
       "   'budget_approved_votes': '0x0',\n",
       "   'budget_rejected_votes': '0x0',\n",
       "   'budget_approve_voters': '0x0',\n",
       "   'budget_reject_voters': '0x0',\n",
       "   'budget_adjustment_status': '',\n",
       "   'project_title': 'Proposal 1',\n",
       "   'contributor_address': 'hx2176d13280d465b68afbf7f9be758e966f654629'},\n",
       "  {'ipfs_hash': 'bafybeiehmefbubn5nn2qqxej7mnlg5jtgoc2arjsltniksdrl23l575oyi',\n",
       "   'report_hash': 'bafybeibtyjakzj376uu3rqt246esh2oapqsrccxibeae3vprjkicu7ekei',\n",
       "   'progress_report_title': 'Milestone 1',\n",
       "   'timestamp': '0x5b61585f9c96d',\n",
       "   'additional_budget': '0x0',\n",
       "   'additional_month': '0x0',\n",
       "   'status': '_approved',\n",
       "   'tx_hash': '2c32c2933e25de585c5034f87af0eec8380fba71904cadf9910c54691c00c6cc',\n",
       "   'budget_adjustment': '0x1',\n",
       "   'total_votes': '0x1b4a929a71d68ab968',\n",
       "   'approved_votes': '0x1b4a929a71d68ab968',\n",
       "   'rejected_votes': '0x0',\n",
       "   'total_voters': '0x7',\n",
       "   'approve_voters': '0x7',\n",
       "   'reject_voters': '0x0',\n",
       "   'budget_approved_votes': '0x0',\n",
       "   'budget_rejected_votes': '0x0',\n",
       "   'budget_approve_voters': '0x0',\n",
       "   'budget_reject_voters': '0x0',\n",
       "   'budget_adjustment_status': '',\n",
       "   'project_title': 'World Changing Test Project',\n",
       "   'contributor_address': 'hx3f01840a599da07b0f620eeae7aa9c574169a4be'},\n",
       "  {'ipfs_hash': 'bafybeiehmefbubn5nn2qqxej7mnlg5jtgoc2arjsltniksdrl23l575oyi',\n",
       "   'report_hash': 'bafybeig4ciihcths5qnnclonturatzodc37ov2yxv2lxewccp3jm3qttii',\n",
       "   'progress_report_title': 'second',\n",
       "   'timestamp': '0x5b61d86bd3596',\n",
       "   'additional_budget': '0x0',\n",
       "   'additional_month': '0x0',\n",
       "   'status': '_approved',\n",
       "   'tx_hash': 'e953648ff780bbe5a065d33e027c55d8af21d299c86b1e84ad0aecf772539192',\n",
       "   'budget_adjustment': '0x1',\n",
       "   'total_votes': '0x374c08669f86e553e09fb',\n",
       "   'approved_votes': '0x374bb13a5e1454e38c88e',\n",
       "   'rejected_votes': '0x572c417290705416d',\n",
       "   'total_voters': '0x7',\n",
       "   'approve_voters': '0x6',\n",
       "   'reject_voters': '0x1',\n",
       "   'budget_approved_votes': '0x0',\n",
       "   'budget_rejected_votes': '0x0',\n",
       "   'budget_approve_voters': '0x0',\n",
       "   'budget_reject_voters': '0x0',\n",
       "   'budget_adjustment_status': '',\n",
       "   'project_title': 'World Changing Test Project',\n",
       "   'contributor_address': 'hx3f01840a599da07b0f620eeae7aa9c574169a4be'},\n",
       "  {'ipfs_hash': 'bafybeien34spjbp7c7pmtwxwoadvyaly5shlksbwkhyeaqwylhehv25ssq',\n",
       "   'report_hash': 'bafybeif4ma4sk2ytbq4hvxj6uzeh23zi27u4amx43o3pygig6sfyitjcuq',\n",
       "   'progress_report_title': 'Milestone 1',\n",
       "   'timestamp': '0x5b61d86bd3596',\n",
       "   'additional_budget': '0x0',\n",
       "   'additional_month': '0x0',\n",
       "   'status': '_approved',\n",
       "   'tx_hash': '726941c8d8a0038e50cb5abfbbd8f43bcfc0d860bf4c3c429b2d1b2b45e4a034',\n",
       "   'budget_adjustment': '0x1',\n",
       "   'total_votes': '0x374c08669f86e553e09fb',\n",
       "   'approved_votes': '0x374c08669f86e553e09fb',\n",
       "   'rejected_votes': '0x0',\n",
       "   'total_voters': '0x7',\n",
       "   'approve_voters': '0x7',\n",
       "   'reject_voters': '0x0',\n",
       "   'budget_approved_votes': '0x0',\n",
       "   'budget_rejected_votes': '0x0',\n",
       "   'budget_approve_voters': '0x0',\n",
       "   'budget_reject_voters': '0x0',\n",
       "   'budget_adjustment_status': '',\n",
       "   'project_title': 'Proposal 2',\n",
       "   'contributor_address': 'hxeee0810ddcacba64f26dc288f002861527fa7636'},\n",
       "  {'ipfs_hash': 'bafybeien34spjbp7c7pmtwxwoadvyaly5shlksbwkhyeaqwylhehv25ssq',\n",
       "   'report_hash': 'bafybeiee2nnwo3fs4d7rzyqcmbib5sk4afk4xyi7kcjujbf56dglw4qk24',\n",
       "   'progress_report_title': 'Final Progrress report',\n",
       "   'timestamp': '0x5b61e7a4d1b60',\n",
       "   'additional_budget': '0x0',\n",
       "   'additional_month': '0x0',\n",
       "   'status': '_approved',\n",
       "   'tx_hash': 'b204cb4317fdee0695c93e8afac09e99a628182175a217ea350bae8f407e85b9',\n",
       "   'budget_adjustment': '0x1',\n",
       "   'total_votes': '0x374c08669f86e553e09fb',\n",
       "   'approved_votes': '0x374c08669f86e553e09fb',\n",
       "   'rejected_votes': '0x0',\n",
       "   'total_voters': '0x7',\n",
       "   'approve_voters': '0x7',\n",
       "   'reject_voters': '0x0',\n",
       "   'budget_approved_votes': '0x0',\n",
       "   'budget_rejected_votes': '0x0',\n",
       "   'budget_approve_voters': '0x0',\n",
       "   'budget_reject_voters': '0x0',\n",
       "   'budget_adjustment_status': '',\n",
       "   'project_title': 'Proposal 2',\n",
       "   'contributor_address': 'hxeee0810ddcacba64f26dc288f002861527fa7636'},\n",
       "  {'ipfs_hash': 'bafybeifrv2vxo7utazawsxw5aj2yw6w3gvp5cu26oa4tzy37l2az52v3pm',\n",
       "   'report_hash': 'bafybeidvbhbdw37xbc263d766kslymeshdfa456f3rs4e63zxv6tfsmxca',\n",
       "   'progress_report_title': 'Progress Report II',\n",
       "   'timestamp': '0x5b61389ebe023',\n",
       "   'additional_budget': '0x0',\n",
       "   'additional_month': '0x0',\n",
       "   'status': '_approved',\n",
       "   'tx_hash': '035b7a85182c1484b0e64c537129af78747c09221a4e8e38cb25067bfc23b2b2',\n",
       "   'budget_adjustment': '0x1',\n",
       "   'total_votes': '0x188d73234efcf50e44',\n",
       "   'approved_votes': '0x188d73234efcf50e44',\n",
       "   'rejected_votes': '0x0',\n",
       "   'total_voters': '0x6',\n",
       "   'approve_voters': '0x6',\n",
       "   'reject_voters': '0x0',\n",
       "   'budget_approved_votes': '0x0',\n",
       "   'budget_rejected_votes': '0x0',\n",
       "   'budget_approve_voters': '0x0',\n",
       "   'budget_reject_voters': '0x0',\n",
       "   'budget_adjustment_status': '',\n",
       "   'project_title': 'Proposal 1',\n",
       "   'contributor_address': 'hx2176d13280d465b68afbf7f9be758e966f654629'},\n",
       "  {'ipfs_hash': 'bafybeifrv2vxo7utazawsxw5aj2yw6w3gvp5cu26oa4tzy37l2az52v3pm',\n",
       "   'report_hash': 'bafybeicpwixxd4c6ucvjkui3zqb6g2z5epc4qjbjkrlldbxkerscup6ofm',\n",
       "   'progress_report_title': 'Progress Report III',\n",
       "   'timestamp': '0x5b61d86bd3596',\n",
       "   'additional_budget': '0x0',\n",
       "   'additional_month': '0x0',\n",
       "   'status': '_approved',\n",
       "   'tx_hash': '83f86c1c94a9c116a0dc0a447c3a1c06f7e73f59ad83e22d895b0436ed18f943',\n",
       "   'budget_adjustment': '0x1',\n",
       "   'total_votes': '0x374c08669f86e553e09fb',\n",
       "   'approved_votes': '0x374bb13a5e1454e38c88e',\n",
       "   'rejected_votes': '0x572c417290705416d',\n",
       "   'total_voters': '0x7',\n",
       "   'approve_voters': '0x6',\n",
       "   'reject_voters': '0x1',\n",
       "   'budget_approved_votes': '0x0',\n",
       "   'budget_rejected_votes': '0x0',\n",
       "   'budget_approve_voters': '0x0',\n",
       "   'budget_reject_voters': '0x0',\n",
       "   'budget_adjustment_status': '',\n",
       "   'project_title': 'Proposal 1',\n",
       "   'contributor_address': 'hx2176d13280d465b68afbf7f9be758e966f654629'},\n",
       "  {'ipfs_hash': 'bafybeifrv2vxo7utazawsxw5aj2yw6w3gvp5cu26oa4tzy37l2az52v3pm',\n",
       "   'report_hash': 'bafybeifu2wycbttxmkotzyqxphh7cqps6i23mcd7vetk2aqejp7c3svhyq',\n",
       "   'progress_report_title': 'Progress Report 12',\n",
       "   'timestamp': '0x5b61e7a4d1b60',\n",
       "   'additional_budget': '0x0',\n",
       "   'additional_month': '0x0',\n",
       "   'status': '_approved',\n",
       "   'tx_hash': 'e2c00dfbb5c4052c31bcede83d37a92dd247f8f7194001e511b060fff9ddb437',\n",
       "   'budget_adjustment': '0x1',\n",
       "   'total_votes': '0x374c08669f86e553e09fb',\n",
       "   'approved_votes': '0x374c08669f86e553e09fb',\n",
       "   'rejected_votes': '0x0',\n",
       "   'total_voters': '0x7',\n",
       "   'approve_voters': '0x7',\n",
       "   'reject_voters': '0x0',\n",
       "   'budget_approved_votes': '0x0',\n",
       "   'budget_rejected_votes': '0x0',\n",
       "   'budget_approve_voters': '0x0',\n",
       "   'budget_reject_voters': '0x0',\n",
       "   'budget_adjustment_status': '',\n",
       "   'project_title': 'Proposal 1',\n",
       "   'contributor_address': 'hx2176d13280d465b68afbf7f9be758e966f654629'}],\n",
       " 'count': '0x7'}"
      ]
     },
     "execution_count": 16,
     "metadata": {},
     "output_type": "execute_result"
    }
   ],
   "source": [
    "### Get the list of progress report with their details of provided status maximum 50 entries at once, 20 by default\n",
    "\n",
    "## \"_status\" :[\"_waiting\",\"_approved\",\"_rejected\"]\n",
    "params = {\"_status\":\"_approved\"}\n",
    "call = CallBuilder().from_(wallet.get_address())\\\n",
    "                    .to(contracts[\"cps_score\"]['SCORE'])\\\n",
    "                    .method(\"get_progress_reports\")\\\n",
    "                    .params(params)\\\n",
    "                    .build()\n",
    "\n",
    "result = icon_service.call(call)\n",
    "result"
   ]
  },
  {
   "cell_type": "code",
   "execution_count": 18,
   "metadata": {},
   "outputs": [
    {
     "data": {
      "text/plain": [
       "{'data': [{'ipfs_hash': 'bafybeifrv2vxo7utazawsxw5aj2yw6w3gvp5cu26oa4tzy37l2az52v3pm',\n",
       "   'report_hash': 'bafybeiddhf44nnyle476vfxsuyuply5kjhgvcbyveuwpx6jsv4vmqtz6mm',\n",
       "   'progress_report_title': 'Progress Report I',\n",
       "   'timestamp': '0x5b60e65353da5',\n",
       "   'additional_budget': '0x0',\n",
       "   'additional_month': '0x0',\n",
       "   'status': '_progress_report_rejected',\n",
       "   'tx_hash': '2c5fddbe02800909d985e78976b072a0177e540aefad748b85189d0b2f485451',\n",
       "   'budget_adjustment': '0x1',\n",
       "   'total_votes': '0x10682a8439a4977924',\n",
       "   'approved_votes': '0x10682a8439a4977924',\n",
       "   'rejected_votes': '0x0',\n",
       "   'total_voters': '0x4',\n",
       "   'approve_voters': '0x4',\n",
       "   'reject_voters': '0x0',\n",
       "   'budget_approved_votes': '0x0',\n",
       "   'budget_rejected_votes': '0x0',\n",
       "   'budget_approve_voters': '0x0',\n",
       "   'budget_reject_voters': '0x0',\n",
       "   'budget_adjustment_status': '',\n",
       "   'project_title': 'Proposal 1',\n",
       "   'contributor_address': 'hx2176d13280d465b68afbf7f9be758e966f654629'},\n",
       "  {'ipfs_hash': 'bafybeifrv2vxo7utazawsxw5aj2yw6w3gvp5cu26oa4tzy37l2az52v3pm',\n",
       "   'report_hash': 'bafybeidvbhbdw37xbc263d766kslymeshdfa456f3rs4e63zxv6tfsmxca',\n",
       "   'progress_report_title': 'Progress Report II',\n",
       "   'timestamp': '0x5b61389ebe023',\n",
       "   'additional_budget': '0x0',\n",
       "   'additional_month': '0x0',\n",
       "   'status': '_approved',\n",
       "   'tx_hash': '035b7a85182c1484b0e64c537129af78747c09221a4e8e38cb25067bfc23b2b2',\n",
       "   'budget_adjustment': '0x1',\n",
       "   'total_votes': '0x188d73234efcf50e44',\n",
       "   'approved_votes': '0x188d73234efcf50e44',\n",
       "   'rejected_votes': '0x0',\n",
       "   'total_voters': '0x6',\n",
       "   'approve_voters': '0x6',\n",
       "   'reject_voters': '0x0',\n",
       "   'budget_approved_votes': '0x0',\n",
       "   'budget_rejected_votes': '0x0',\n",
       "   'budget_approve_voters': '0x0',\n",
       "   'budget_reject_voters': '0x0',\n",
       "   'budget_adjustment_status': '',\n",
       "   'project_title': 'Proposal 1',\n",
       "   'contributor_address': 'hx2176d13280d465b68afbf7f9be758e966f654629'},\n",
       "  {'ipfs_hash': 'bafybeifrv2vxo7utazawsxw5aj2yw6w3gvp5cu26oa4tzy37l2az52v3pm',\n",
       "   'report_hash': 'bafybeicpwixxd4c6ucvjkui3zqb6g2z5epc4qjbjkrlldbxkerscup6ofm',\n",
       "   'progress_report_title': 'Progress Report III',\n",
       "   'timestamp': '0x5b61d86bd3596',\n",
       "   'additional_budget': '0x0',\n",
       "   'additional_month': '0x0',\n",
       "   'status': '_approved',\n",
       "   'tx_hash': '83f86c1c94a9c116a0dc0a447c3a1c06f7e73f59ad83e22d895b0436ed18f943',\n",
       "   'budget_adjustment': '0x1',\n",
       "   'total_votes': '0x374c08669f86e553e09fb',\n",
       "   'approved_votes': '0x374bb13a5e1454e38c88e',\n",
       "   'rejected_votes': '0x572c417290705416d',\n",
       "   'total_voters': '0x7',\n",
       "   'approve_voters': '0x6',\n",
       "   'reject_voters': '0x1',\n",
       "   'budget_approved_votes': '0x0',\n",
       "   'budget_rejected_votes': '0x0',\n",
       "   'budget_approve_voters': '0x0',\n",
       "   'budget_reject_voters': '0x0',\n",
       "   'budget_adjustment_status': '',\n",
       "   'project_title': 'Proposal 1',\n",
       "   'contributor_address': 'hx2176d13280d465b68afbf7f9be758e966f654629'},\n",
       "  {'ipfs_hash': 'bafybeifrv2vxo7utazawsxw5aj2yw6w3gvp5cu26oa4tzy37l2az52v3pm',\n",
       "   'report_hash': 'bafybeifu2wycbttxmkotzyqxphh7cqps6i23mcd7vetk2aqejp7c3svhyq',\n",
       "   'progress_report_title': 'Progress Report 12',\n",
       "   'timestamp': '0x5b61e7a4d1b60',\n",
       "   'additional_budget': '0x0',\n",
       "   'additional_month': '0x0',\n",
       "   'status': '_approved',\n",
       "   'tx_hash': 'e2c00dfbb5c4052c31bcede83d37a92dd247f8f7194001e511b060fff9ddb437',\n",
       "   'budget_adjustment': '0x1',\n",
       "   'total_votes': '0x374c08669f86e553e09fb',\n",
       "   'approved_votes': '0x374c08669f86e553e09fb',\n",
       "   'rejected_votes': '0x0',\n",
       "   'total_voters': '0x7',\n",
       "   'approve_voters': '0x7',\n",
       "   'reject_voters': '0x0',\n",
       "   'budget_approved_votes': '0x0',\n",
       "   'budget_rejected_votes': '0x0',\n",
       "   'budget_approve_voters': '0x0',\n",
       "   'budget_reject_voters': '0x0',\n",
       "   'budget_adjustment_status': '',\n",
       "   'project_title': 'Proposal 1',\n",
       "   'contributor_address': 'hx2176d13280d465b68afbf7f9be758e966f654629'}],\n",
       " 'count': '0x4'}"
      ]
     },
     "execution_count": 18,
     "metadata": {},
     "output_type": "execute_result"
    }
   ],
   "source": [
    "## List the progress report for the provided Proposal Ipfs_key (project key)\n",
    "params = {\"_ipfs_key\":\"bafybeifrv2vxo7utazawsxw5aj2yw6w3gvp5cu26oa4tzy37l2az52v3pm\"}\n",
    "call = CallBuilder().from_(wallet.get_address())\\\n",
    "                    .to(contracts[\"cps_score\"]['SCORE'])\\\n",
    "                    .method(\"get_progress_reports_by_proposal\")\\\n",
    "                    .params(params)\\\n",
    "                    .build()\n",
    "\n",
    "result = icon_service.call(call)\n",
    "result"
   ]
  },
  {
   "cell_type": "code",
   "execution_count": 37,
   "metadata": {},
   "outputs": [
    {
     "data": {
      "text/plain": [
       "[{'project_title': 'Proposal 1',\n",
       "  'ipfs_hash': 'bafybeifrv2vxo7utazawsxw5aj2yw6w3gvp5cu26oa4tzy37l2az52v3pm',\n",
       "  'new_progress_report': '0x1',\n",
       "  'last_progress_report': '0x1'}]"
      ]
     },
     "execution_count": 37,
     "metadata": {},
     "output_type": "execute_result"
    }
   ],
   "source": [
    "## To check if the provided contributor has any progress report to submit in the current Application Period\n",
    "params = {\"_wallet_address\":\"hx2176d13280d465b68afbf7f9be758e966f654629\"}\n",
    "call = CallBuilder().from_(wallet.get_address())\\\n",
    "                    .to(contracts[\"cps_score\"]['SCORE'])\\\n",
    "                    .method(\"get_active_proposals\")\\\n",
    "                    .params(params)\\\n",
    "                    .build()\n",
    "\n",
    "result = icon_service.call(call)\n",
    "result"
   ]
  },
  {
   "cell_type": "code",
   "execution_count": 13,
   "metadata": {},
   "outputs": [
    {
     "data": {
      "text/plain": [
       "{'data': [], 'project_count': '0x0', 'total_amount': '0x0'}"
      ]
     },
     "execution_count": 13,
     "metadata": {},
     "output_type": "execute_result"
    }
   ],
   "source": [
    "## Get project amount and total amount pending for the given contributor address\n",
    "\n",
    "params = {\"_wallet_address\":\"hxeee0810ddcacba64f26dc288f002861527fa7636\"}\n",
    "call = CallBuilder().from_(wallet.get_address())\\\n",
    "                    .to(contracts[\"CPSTreasury\"]['SCORE'])\\\n",
    "                    .method(\"get_contributor_projected_fund\")\\\n",
    "                    .params(params)\\\n",
    "                    .build()\n",
    "\n",
    "result = icon_service.call(call)\n",
    "result"
   ]
  },
  {
   "cell_type": "code",
   "execution_count": 15,
   "metadata": {},
   "outputs": [
    {
     "data": {
      "text/plain": [
       "{'data': [],\n",
       " 'project_count': '0x0',\n",
       " 'total_amount': '0x0',\n",
       " 'total_sponsor_bond': '0x0'}"
      ]
     },
     "execution_count": 15,
     "metadata": {},
     "output_type": "execute_result"
    }
   ],
   "source": [
    "## Get project amount and total amount pending for the given sponsorAddress \n",
    "\n",
    "params = {\"_wallet_address\":\"hxef35c447e3f657315a6990da0ddaf4c61fa146e4\"}\n",
    "call = CallBuilder().from_(wallet.get_address())\\\n",
    "                    .to(contracts[\"CPSTreasury\"]['SCORE'])\\\n",
    "                    .method(\"get_sponsor_projected_fund\")\\\n",
    "                    .params(params)\\\n",
    "                    .build()\n",
    "\n",
    "result = icon_service.call(call)\n",
    "result"
   ]
  },
  {
   "cell_type": "code",
   "execution_count": 14,
   "metadata": {},
   "outputs": [
    {
     "data": {
      "text/plain": [
       "{'hxf5bdb1625e4b7fc6de7d85f9dd921090b27ec7d0': '0x1',\n",
       " 'hxef35c447e3f657315a6990da0ddaf4c61fa146e4': '0x1',\n",
       " 'hxb4e90a285a79687ec148c29faabe6f71afa8a066': '0x1'}"
      ]
     },
     "execution_count": 14,
     "metadata": {},
     "output_type": "execute_result"
    }
   ],
   "source": [
    "## Get project amount and total amount pending for the given sponsorAddress \n",
    "\n",
    "params = {}\n",
    "call = CallBuilder().from_(wallet.get_address())\\\n",
    "                    .to(contracts[\"cps_score\"]['SCORE'])\\\n",
    "                    .method(\"get_sponsors_record\")\\\n",
    "                    .params(params)\\\n",
    "                    .build()\n",
    "\n",
    "result = icon_service.call(call)\n",
    "result"
   ]
  },
  {
   "cell_type": "code",
   "execution_count": 42,
   "metadata": {},
   "outputs": [
    {
     "data": {
      "text/plain": [
       "'0x0'"
      ]
     },
     "execution_count": 42,
     "metadata": {},
     "output_type": "execute_result"
    }
   ],
   "source": [
    "## Get project amount and total amount pending for the given sponsorAddress \n",
    "\n",
    "params = {}\n",
    "call = CallBuilder().from_(wallet.get_address())\\\n",
    "                    .to(contracts[\"CPFTreasury\"]['SCORE'])\\\n",
    "                    .method(\"get_total_fund\")\\\n",
    "                    .params(params)\\\n",
    "                    .build()\n",
    "\n",
    "result = icon_service.call(call)\n",
    "result"
   ]
  },
  {
   "cell_type": "code",
   "execution_count": 46,
   "metadata": {
    "scrolled": false
   },
   "outputs": [
    {
     "name": "stdout",
     "output_type": "stream",
     "text": [
      "0x9526d23248a5c29381776112ac00ba12fc62a47e9dd8b8f3c2d5b0169d79c4b8\n"
     ]
    },
    {
     "name": "stderr",
     "output_type": "stream",
     "text": [
      "Raised JSONRPCException while returning the custom response. Error message: {'code': -32602, 'message': 'Pending transaction'}\n"
     ]
    },
    {
     "name": "stdout",
     "output_type": "stream",
     "text": [
      "{'code': -32602, 'message': 'Pending transaction'} (Json rpc error), Retrying in 1 seconds...\n"
     ]
    },
    {
     "name": "stderr",
     "output_type": "stream",
     "text": [
      "Raised JSONRPCException while returning the custom response. Error message: {'code': -32602, 'message': 'Pending transaction'}\n"
     ]
    },
    {
     "name": "stdout",
     "output_type": "stream",
     "text": [
      "{'code': -32602, 'message': 'Pending transaction'} (Json rpc error), Retrying in 2 seconds...\n"
     ]
    },
    {
     "data": {
      "text/plain": [
       "{'txHash': '0x9526d23248a5c29381776112ac00ba12fc62a47e9dd8b8f3c2d5b0169d79c4b8',\n",
       " 'blockHeight': 10307477,\n",
       " 'blockHash': '0xf4bb10fb20c6e3a61287ad10f76b160dcabac391533ce33375936dbf2130d57d',\n",
       " 'txIndex': 1,\n",
       " 'to': 'cxb176747630ffe4a22da7b2c713d7fbf063d19595',\n",
       " 'stepUsed': 142120,\n",
       " 'stepPrice': 10000000000,\n",
       " 'cumulativeStepUsed': 142120,\n",
       " 'eventLogs': [],\n",
       " 'logsBloom': b'\\x00\\x00\\x00\\x00\\x00\\x00\\x00\\x00\\x00\\x00\\x00\\x00\\x00\\x00\\x00\\x00\\x00\\x00\\x00\\x00\\x00\\x00\\x00\\x00\\x00\\x00\\x00\\x00\\x00\\x00\\x00\\x00\\x00\\x00\\x00\\x00\\x00\\x00\\x00\\x00\\x00\\x00\\x00\\x00\\x00\\x00\\x00\\x00\\x00\\x00\\x00\\x00\\x00\\x00\\x00\\x00\\x00\\x00\\x00\\x00\\x00\\x00\\x00\\x00\\x00\\x00\\x00\\x00\\x00\\x00\\x00\\x00\\x00\\x00\\x00\\x00\\x00\\x00\\x00\\x00\\x00\\x00\\x00\\x00\\x00\\x00\\x00\\x00\\x00\\x00\\x00\\x00\\x00\\x00\\x00\\x00\\x00\\x00\\x00\\x00\\x00\\x00\\x00\\x00\\x00\\x00\\x00\\x00\\x00\\x00\\x00\\x00\\x00\\x00\\x00\\x00\\x00\\x00\\x00\\x00\\x00\\x00\\x00\\x00\\x00\\x00\\x00\\x00\\x00\\x00\\x00\\x00\\x00\\x00\\x00\\x00\\x00\\x00\\x00\\x00\\x00\\x00\\x00\\x00\\x00\\x00\\x00\\x00\\x00\\x00\\x00\\x00\\x00\\x00\\x00\\x00\\x00\\x00\\x00\\x00\\x00\\x00\\x00\\x00\\x00\\x00\\x00\\x00\\x00\\x00\\x00\\x00\\x00\\x00\\x00\\x00\\x00\\x00\\x00\\x00\\x00\\x00\\x00\\x00\\x00\\x00\\x00\\x00\\x00\\x00\\x00\\x00\\x00\\x00\\x00\\x00\\x00\\x00\\x00\\x00\\x00\\x00\\x00\\x00\\x00\\x00\\x00\\x00\\x00\\x00\\x00\\x00\\x00\\x00\\x00\\x00\\x00\\x00\\x00\\x00\\x00\\x00\\x00\\x00\\x00\\x00\\x00\\x00\\x00\\x00\\x00\\x00\\x00\\x00\\x00\\x00\\x00\\x00\\x00\\x00\\x00\\x00\\x00\\x00\\x00\\x00\\x00\\x00\\x00\\x00\\x00\\x00\\x00\\x00\\x00\\x00',\n",
       " 'status': 1}"
      ]
     },
     "execution_count": 46,
     "metadata": {},
     "output_type": "execute_result"
    }
   ],
   "source": [
    "# To update a period from application period to voting period and vice-versa \n",
    "# after the block count of a period is completed\n",
    "params = {\"_value\":1000000}\n",
    "transaction = CallTransactionBuilder()\\\n",
    "    .from_(wallet.get_address())\\\n",
    "    .to(contracts[\"CPFTreasury\"]['SCORE'])\\\n",
    "    .step_limit(10000000)\\\n",
    "    .nid(NID)\\\n",
    "    .nonce(NONCE)\\\n",
    "    .method(\"set_maximum_treasury_fund\")\\\n",
    "    .params(params)\\\n",
    "    .build()\n",
    "signed_transaction = SignedTransaction(transaction, wallet)\n",
    "tx_hash = icon_service.send_transaction(signed_transaction)\n",
    "print(tx_hash)\n",
    "\n",
    "get_tx_result(tx_hash)"
   ]
  }
 ],
 "metadata": {
  "kernelspec": {
   "display_name": "Python 3",
   "language": "python",
   "name": "python3"
  },
  "language_info": {
   "codemirror_mode": {
    "name": "ipython",
    "version": 3
   },
   "file_extension": ".py",
   "mimetype": "text/x-python",
   "name": "python",
   "nbconvert_exporter": "python",
   "pygments_lexer": "ipython3",
   "version": "3.7.7"
  }
 },
 "nbformat": 4,
 "nbformat_minor": 4
}
