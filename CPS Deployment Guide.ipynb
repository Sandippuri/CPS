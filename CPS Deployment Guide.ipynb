{
 "cells": [
  {
   "cell_type": "markdown",
   "metadata": {},
   "source": [
    "# Jupyter Notebook to clean install all the contracts"
   ]
  },
  {
   "cell_type": "code",
   "execution_count": null,
   "metadata": {},
   "outputs": [],
   "source": [
    "from IPython.core.display import display, HTML\n",
    "display(HTML(\"<style>.container { width:100% !important; }</style>\"))"
   ]
  },
  {
   "cell_type": "code",
   "execution_count": null,
   "metadata": {},
   "outputs": [],
   "source": [
    "from iconsdk.exception import JSONRPCException\n",
    "from iconsdk.libs.in_memory_zip import gen_deploy_data_content\n",
    "from iconsdk.icon_service import IconService\n",
    "from iconsdk.providers.http_provider import HTTPProvider\n",
    "from iconsdk.builder.transaction_builder import CallTransactionBuilder, TransactionBuilder, DeployTransactionBuilder\n",
    "from iconsdk.builder.call_builder import CallBuilder\n",
    "from iconsdk.signed_transaction import SignedTransaction\n",
    "from iconsdk.wallet.wallet import KeyWallet\n",
    "from iconsdk.utils.convert_type import convert_hex_str_to_int\n",
    "from datetime import datetime\n",
    "from repeater import retry\n",
    "import requests\n",
    "import json\n",
    "import pickle as pkl\n",
    "import csv\n",
    "import os\n",
    "from pprint import pprint\n",
    "\n",
    "from repeater import retry\n",
    "\n",
    "NONCE = 100\n",
    "GOVERNANCE_ADDRESS = \"cx0000000000000000000000000000000000000000\"\n",
    "\n",
    "\n",
    "@retry(JSONRPCException, tries=10, delay=1, back_off=2)\n",
    "def get_tx_result(_tx_hash):\n",
    "    tx_result = icon_service.get_transaction_result(_tx_hash)\n",
    "    return tx_result"
   ]
  },
  {
   "cell_type": "code",
   "execution_count": null,
   "metadata": {},
   "outputs": [],
   "source": [
    "class AutoVivification(dict):\n",
    "    \"\"\"Implementation of perl's autovivification feature.\"\"\"\n",
    "    def __getitem__(self, item):\n",
    "        try:\n",
    "            return dict.__getitem__(self, item)\n",
    "        except KeyError:\n",
    "            value = self[item] = type(self)()\n",
    "            return value"
   ]
  },
  {
   "cell_type": "markdown",
   "metadata": {},
   "source": [
    "# Networks\n",
    "Uncomment the line which you want to use."
   ]
  },
  {
   "cell_type": "code",
   "execution_count": null,
   "metadata": {},
   "outputs": [],
   "source": [
    "# Mainnet\n",
    "# icon_service = IconService(HTTPProvider(\"https://ctz.solidwallet.io\", 3))\n",
    "# NID = 1\n",
    "\n",
    "# Euljiro\n",
    "# icon_service = IconService(HTTPProvider(\"https://test-ctz.solidwallet.io\",3))\n",
    "# NID = 2\n",
    "\n",
    "# Yeouido\n",
    "icon_service = IconService(HTTPProvider(\"https://bicon.net.solidwallet.io\", 3))\n",
    "NID = 3\n",
    "\n",
    "# Pagoda\n",
    "# icon_service = IconService(HTTPProvider(\"https://zicon.net.solidwallet.io\", 3))\n",
    "# NID = 80\n",
    "\n",
    "# Custom\n",
    "# icon_service = IconService(HTTPProvider(\"http://127.0.0.1:9000/\", 3))"
   ]
  },
  {
   "cell_type": "markdown",
   "metadata": {},
   "source": [
    "# Load Wallet using Keystore file"
   ]
  },
  {
   "cell_type": "code",
   "execution_count": null,
   "metadata": {},
   "outputs": [],
   "source": [
    "wallet = KeyWallet.load(\"./keystore/test1\",\"passwordHere\")\n",
    "deployer_address = wallet.get_address()\n",
    "deployer_address"
   ]
  },
  {
   "cell_type": "markdown",
   "metadata": {},
   "source": [
    "# Load Wallet Using Private Key"
   ]
  },
  {
   "cell_type": "code",
   "execution_count": null,
   "metadata": {},
   "outputs": [],
   "source": [
    "private=\"---PrivateKey-------\"\n",
    "prepwallet = KeyWallet.load(bytes.fromhex(private))\n",
    "prep_address = wallet.get_address()\n",
    "prep_address"
   ]
  },
  {
   "cell_type": "markdown",
   "metadata": {},
   "source": [
    "# Check Wallet Balance"
   ]
  },
  {
   "cell_type": "code",
   "execution_count": null,
   "metadata": {},
   "outputs": [],
   "source": [
    "icon_service.get_balance(deployer_address)"
   ]
  },
  {
   "cell_type": "markdown",
   "metadata": {},
   "source": [
    "# Contracts"
   ]
  },
  {
   "cell_type": "code",
   "execution_count": null,
   "metadata": {},
   "outputs": [],
   "source": [
    "#Load a pkl file if existed otherwise go to next step\n",
    "contracts_file_custom = 'contracts_20201203030216.pkl'\n",
    "\n",
    "with open(contracts_file_custom, 'rb') as f:\n",
    "    contracts = pkl.load(f)\n",
    "    \n",
    "contracts"
   ]
  },
  {
   "cell_type": "code",
   "execution_count": null,
   "metadata": {},
   "outputs": [],
   "source": [
    "# Add the contracts. Copy the output from this cell the the one above to save the contract addresses.\n",
    "# Run this before deploying scores \n",
    "contracts=AutoVivification()\n",
    "\n",
    "# directory names\n",
    "deploy = ['cps_score', 'CPSTreasury', 'CPFTreasury']\n",
    "# for directory in {\"score\"}:\n",
    "directory=os.getcwd()\n",
    "with os.scandir(directory) as it:\n",
    "    for file in it:\n",
    "        archive_name = directory + \"/\" + file.name\n",
    "        if file.is_dir() and file.name in deploy:\n",
    "            contracts[file.name]['zip'] = archive_name \n",
    "contracts"
   ]
  },
  {
   "cell_type": "markdown",
   "metadata": {},
   "source": [
    "# Deploying Contract"
   ]
  },
  {
   "cell_type": "code",
   "execution_count": null,
   "metadata": {},
   "outputs": [],
   "source": [
    "#this cell needs to run only when you need to deploy new set of contracts\n",
    "for score, loc in contracts.items():\n",
    "    params = {}\n",
    "    print(score,loc)\n",
    "\n",
    "    deploy_transaction = DeployTransactionBuilder()\\\n",
    "        .from_(wallet.get_address())\\\n",
    "        .to(GOVERNANCE_ADDRESS)\\\n",
    "        .nid(NID)\\\n",
    "        .nonce(100)\\\n",
    "        .content_type(\"application/zip\")\\\n",
    "        .content(gen_deploy_data_content(loc[\"zip\"]))\\\n",
    "        .params(params)\\\n",
    "        .build()\n",
    "\n",
    "    step_limit = icon_service.estimate_step(deploy_transaction) + 100000\n",
    "    \n",
    "    signed_transaction = SignedTransaction(deploy_transaction, wallet, step_limit)\n",
    "    tx_hash = icon_service.send_transaction(signed_transaction)\n",
    "\n",
    "    res = get_tx_result(tx_hash)\n",
    "    contracts[score][\"SCORE\"] = res.get('scoreAddress', '')\n",
    "    \n",
    "now = datetime.utcnow()\n",
    "filename = f'contracts_{now.year}{str(now.month).zfill(2)}{str(now.day).zfill(2)}{str(now.hour).zfill(2)}{str(now.minute).zfill(2)}{str(now.second).zfill(2)}.pkl'\n",
    "print(f'saving contracts list as {filename}')\n",
    "with open(filename, 'wb') as f:\n",
    "    pkl.dump(contracts, f)\n",
    "contracts"
   ]
  },
  {
   "cell_type": "markdown",
   "metadata": {},
   "source": [
    "# Updating a Contract"
   ]
  },
  {
   "cell_type": "code",
   "execution_count": null,
   "metadata": {},
   "outputs": [],
   "source": [
    "# Contract Name\n",
    "# 'cps_score', 'CPSTreasury', 'CPFTreasury'\n",
    "contract = 'CPSTreasury'\n",
    "\n",
    "# Generates an instance of transaction for deploying score\n",
    "transaction = DeployTransactionBuilder() \\\n",
    "            .from_(wallet.get_address()) \\\n",
    "            .to(contracts[contract][\"SCORE\"]) \\\n",
    "            .nid(NID) \\\n",
    "            .nonce(NONCE) \\\n",
    "            .content_type(\"application/zip\") \\\n",
    "            .content(gen_deploy_data_content(contracts[contract][\"zip\"])) \\\n",
    "            .build()\n",
    "\n",
    "estimate_step = icon_service.estimate_step(transaction)\n",
    "step_limit = estimate_step + 100000\n",
    "signed_transaction = SignedTransaction(transaction, wallet,step_limit)\n",
    "\n",
    "tx_hash = icon_service.send_transaction(signed_transaction)\n",
    "print(tx_hash)\n",
    "\n",
    "get_tx_result(tx_hash)"
   ]
  },
  {
   "cell_type": "markdown",
   "metadata": {},
   "source": [
    "# After Deploying Setups"
   ]
  },
  {
   "cell_type": "markdown",
   "metadata": {},
   "source": [
    "## Add Admins Address (only Owner)"
   ]
  },
  {
   "cell_type": "code",
   "execution_count": null,
   "metadata": {},
   "outputs": [],
   "source": [
    "# Add a wallet address \n",
    "params = {\"_address\":\"hx2176d13280d465b68afbf7f9be758e966f654629\"}\n",
    "transaction = CallTransactionBuilder()\\\n",
    "    .from_(wallet.get_address())\\\n",
    "    .to(contracts[\"cps_score\"]['SCORE'])\\\n",
    "    .step_limit(10000000)\\\n",
    "    .nid(NID)\\\n",
    "    .nonce(NONCE)\\\n",
    "    .method(\"add_admin\")\\\n",
    "    .params(params)\\\n",
    "    .build()\n",
    "signed_transaction = SignedTransaction(transaction, wallet)\n",
    "tx_hash = icon_service.send_transaction(signed_transaction)\n",
    "print(tx_hash)\n",
    "\n",
    "get_tx_result(tx_hash)"
   ]
  },
  {
   "cell_type": "markdown",
   "metadata": {},
   "source": [
    "### Remove Admin from Admin List"
   ]
  },
  {
   "cell_type": "code",
   "execution_count": null,
   "metadata": {},
   "outputs": [],
   "source": [
    "#Remove the given wallet address from the admin list\n",
    "params = {\"_address\":\"hx2176d13280d465b68afbf7f9be758e966f654629\"}\n",
    "transaction = CallTransactionBuilder()\\\n",
    "    .from_(wallet.get_address())\\\n",
    "    .to(contracts[\"cps_score\"]['SCORE'])\\\n",
    "    .step_limit(10000000)\\\n",
    "    .nid(NID)\\\n",
    "    .nonce(NONCE)\\\n",
    "    .method(\"remove_admin\")\\\n",
    "    .params(params)\\\n",
    "    .build()\n",
    "signed_transaction = SignedTransaction(transaction, wallet)\n",
    "tx_hash = icon_service.send_transaction(signed_transaction)\n",
    "print(tx_hash)\n",
    "\n",
    "get_tx_result(tx_hash)"
   ]
  },
  {
   "cell_type": "markdown",
   "metadata": {},
   "source": [
    "## Set CPS Treasury SCORE"
   ]
  },
  {
   "cell_type": "code",
   "execution_count": null,
   "metadata": {},
   "outputs": [],
   "source": [
    "# Set CPS Treasury SCORE Address on CPS_SCORE and CPF Treasury\n",
    "\n",
    "contracts_name = ['cps_score','CPFTreasury']\n",
    "\n",
    "params = {\"_score\":contracts[\"CPSTreasury\"]['SCORE']}\n",
    "\n",
    "for contract in contracts_name:\n",
    "    transaction = CallTransactionBuilder()\\\n",
    "        .from_(wallet.get_address())\\\n",
    "        .to(contracts[contract]['SCORE'])\\\n",
    "        .step_limit(10000000)\\\n",
    "        .nid(NID)\\\n",
    "        .nonce(NONCE)\\\n",
    "        .method(\"set_cps_treasury_score\")\\\n",
    "        .params(params)\\\n",
    "        .build()\n",
    "    signed_transaction = SignedTransaction(transaction, wallet)\n",
    "    tx_hash = icon_service.send_transaction(signed_transaction)\n",
    "    print(tx_hash)"
   ]
  },
  {
   "cell_type": "markdown",
   "metadata": {},
   "source": [
    "## Set CPF Treasury Score"
   ]
  },
  {
   "cell_type": "code",
   "execution_count": null,
   "metadata": {},
   "outputs": [],
   "source": [
    "# Set CPF Treasury SCORE Address on CPS_SCORE and CPS Treasury\n",
    "\n",
    "contracts_name = ['cps_score','CPSTreasury']\n",
    "\n",
    "params = {\"_score\":contracts[\"CPFTreasury\"]['SCORE']}\n",
    "\n",
    "for contract in contracts_name:\n",
    "    transaction = CallTransactionBuilder()\\\n",
    "        .from_(wallet.get_address())\\\n",
    "        .to(contracts[contract]['SCORE'])\\\n",
    "        .step_limit(10000000)\\\n",
    "        .nid(NID)\\\n",
    "        .nonce(NONCE)\\\n",
    "        .method(\"set_cpf_treasury_score\")\\\n",
    "        .params(params)\\\n",
    "        .build()\n",
    "    signed_transaction = SignedTransaction(transaction, wallet)\n",
    "    tx_hash = icon_service.send_transaction(signed_transaction)\n",
    "    print(tx_hash)"
   ]
  },
  {
   "cell_type": "markdown",
   "metadata": {},
   "source": [
    "## Set CPS Score"
   ]
  },
  {
   "cell_type": "code",
   "execution_count": null,
   "metadata": {},
   "outputs": [],
   "source": [
    "# Set CPS_SCORE SCORE Address on CPF TREASURY and CPS Treasury\n",
    "\n",
    "contracts_name = ['CPFTreasury','CPSTreasury']\n",
    "\n",
    "params = {\"_score\":contracts[\"cps_score\"]['SCORE']}\n",
    "\n",
    "for contract in contracts_name:\n",
    "    transaction = CallTransactionBuilder()\\\n",
    "        .from_(wallet.get_address())\\\n",
    "        .to(contracts[contract]['SCORE'])\\\n",
    "        .step_limit(10000000)\\\n",
    "        .nid(NID)\\\n",
    "        .nonce(NONCE)\\\n",
    "        .method(\"set_cps_score\")\\\n",
    "        .params(params)\\\n",
    "        .build()\n",
    "    signed_transaction = SignedTransaction(transaction, wallet)\n",
    "    tx_hash = icon_service.send_transaction(signed_transaction)\n",
    "    print(tx_hash)"
   ]
  },
  {
   "cell_type": "markdown",
   "metadata": {},
   "source": [
    "## Add Fund to CPF Treasury Score"
   ]
  },
  {
   "cell_type": "code",
   "execution_count": null,
   "metadata": {},
   "outputs": [],
   "source": [
    "# Add some fund to the CPF Treasury Score (Maximum 1M ICX)\n",
    "\n",
    "params = {}\n",
    "\n",
    "transaction = CallTransactionBuilder()\\\n",
    "    .from_(wallet.get_address())\\\n",
    "    .to(contracts[\"CPFTreasury\"]['SCORE'])\\\n",
    "    .step_limit(10000000)\\\n",
    "    .nid(NID)\\\n",
    "    .nonce(NONCE)\\\n",
    "    .value(200*10**18)\\\n",
    "    .method(\"add_fund\")\\\n",
    "    .params(params)\\\n",
    "    .build()\n",
    "signed_transaction = SignedTransaction(transaction, wallet)\n",
    "tx_hash = icon_service.send_transaction(signed_transaction)\n",
    "print(tx_hash)\n",
    "\n",
    "get_tx_result(tx_hash)"
   ]
  },
  {
   "cell_type": "markdown",
   "metadata": {},
   "source": [
    "## Set Penalty Amounts"
   ]
  },
  {
   "cell_type": "code",
   "execution_count": null,
   "metadata": {},
   "outputs": [],
   "source": [
    "# Penalty Amount : Amount for Re-registering from the denylist.\n",
    "# set the penalty amount for the P-Reps who are on Denylist \n",
    "# 3 Tiers penalty system\n",
    "\n",
    "# params = {\"_penalty\":['1000','1500','2500']}\n",
    "params = {\"_penalty\":['10','20','30']}\n",
    "\n",
    "transaction = CallTransactionBuilder()\\\n",
    "    .from_(wallet.get_address())\\\n",
    "    .to(contracts[\"cps_score\"]['SCORE'])\\\n",
    "    .step_limit(10000000)\\\n",
    "    .nid(NID)\\\n",
    "    .nonce(NONCE)\\\n",
    "    .method(\"set_prep_penalty_amount\")\\\n",
    "    .params(params)\\\n",
    "    .build()\n",
    "signed_transaction = SignedTransaction(transaction, wallet)\n",
    "tx_hash = icon_service.send_transaction(signed_transaction)\n",
    "print(tx_hash)\n",
    "\n",
    "get_tx_result(tx_hash)"
   ]
  },
  {
   "cell_type": "markdown",
   "metadata": {},
   "source": [
    "## Set Initial BlockHeight"
   ]
  },
  {
   "cell_type": "code",
   "execution_count": null,
   "metadata": {},
   "outputs": [],
   "source": [
    "# set a blockheight when the CPS to start from initial (only once)\n",
    "params = {\"_timestamp\":\"0x3\"}\n",
    "transaction = CallTransactionBuilder()\\\n",
    "    .from_(wallet.get_address())\\\n",
    "    .to(contracts[\"cps_score\"]['SCORE'])\\\n",
    "    .step_limit(10000000)\\\n",
    "    .nid(NID)\\\n",
    "    .nonce(NONCE)\\\n",
    "    .method(\"set_initialBlock\")\\\n",
    "    .params(params)\\\n",
    "    .build()\n",
    "signed_transaction = SignedTransaction(transaction, wallet)\n",
    "tx_hash = icon_service.send_transaction(signed_transaction)\n",
    "print(tx_hash)\n",
    "\n",
    "get_tx_result(tx_hash)"
   ]
  },
  {
   "cell_type": "markdown",
   "metadata": {},
   "source": [
    "# "
   ]
  },
  {
   "cell_type": "markdown",
   "metadata": {},
   "source": [
    "## Main Methods"
   ]
  },
  {
   "cell_type": "markdown",
   "metadata": {},
   "source": [
    "### Register P-Rep"
   ]
  },
  {
   "cell_type": "code",
   "execution_count": null,
   "metadata": {},
   "outputs": [],
   "source": [
    "params = {}\n",
    "\n",
    "transaction = CallTransactionBuilder()\\\n",
    "    .from_(prepwallet.get_address())\\\n",
    "    .to(contracts[\"cps_score\"]['SCORE'])\\\n",
    "    .step_limit(10000000)\\\n",
    "    .nid(3)\\\n",
    "    .nonce(100)\\\n",
    "    .method(\"register_prep\")\\\n",
    "    .params(params)\\\n",
    "    .build()\n",
    "signed_transaction = SignedTransaction(transaction, prepwallet)\n",
    "tx_hash = icon_service.send_transaction(signed_transaction)\n",
    "print(tx_hash)\n",
    "\n",
    "get_tx_result(tx_hash)"
   ]
  },
  {
   "cell_type": "markdown",
   "metadata": {},
   "source": [
    "### Listing P-Reps Address"
   ]
  },
  {
   "cell_type": "code",
   "execution_count": null,
   "metadata": {},
   "outputs": [],
   "source": [
    "## List the active registered prep with their details from System Score Address\n",
    "call = CallBuilder().from_(wallet.get_address())\\\n",
    "                    .to(contracts[\"cps_score\"]['SCORE'])\\\n",
    "                    .method(\"get_PReps\")\\\n",
    "                    .params({})\\\n",
    "                    .build()\n",
    "\n",
    "result = icon_service.call(call)\n",
    "result"
   ]
  },
  {
   "cell_type": "markdown",
   "metadata": {},
   "source": [
    "### Submit a Proposal"
   ]
  },
  {
   "cell_type": "code",
   "execution_count": null,
   "metadata": {},
   "outputs": [],
   "source": [
    "## Submit a proposal \n",
    "### params : _project_title(str) : Project title for the proposal\n",
    "### total_budget(int) : Total Budget for the project (ICX amount)\n",
    "### sponsor_address(Address) : Address of the Sponsor P-Rep (must be a registered P-Rep)\n",
    "### ipfs_hash(str) : IPFS Hash key for the proposal submission\n",
    "### ipfs_link(str) : IPFS Link for the submitted proposal (Can see the details filled up and submitted)\n",
    "### project_duration(int) : Total project duration (months) (Maximum 6)\n",
    "\n",
    "params ={\"_proposals\": {\n",
    "\t\t\t\"project_title\": \"ICON Mobile Wallet\",\n",
    "\t\t\t\"total_budget\": \"100\",\n",
    "\t\t\t\"sponsor_address\": \"hxe59539154a3d77023943c3bbd5fc3a081d697e6a\",\n",
    "\t\t\t\"ipfs_hash\": \"bafybeid3ucflkuettyzvzbsnqhvw5mtqkgbtes4s5yykhr6vd4ma7f7aiy\",\n",
    "\t\t\t\"ipfs_link\": \"https://gateway.ipfs.io/ipfs/bafybeid3ucflkuettyzvzbsnqhvw5mtqkgbtes4s5yykhr6vd4ma7f7aiy\",\n",
    "\t\t\t\"project_duration\": \"4\"\n",
    "\t\t}}\n",
    "transaction = CallTransactionBuilder()\\\n",
    "    .from_(wallet.get_address())\\\n",
    "    .to(contracts[\"cps_score\"]['SCORE'])\\\n",
    "    .value(50000000000000000000)\\\n",
    "    .step_limit(10000000)\\\n",
    "    .nid(3)\\\n",
    "    .nonce(100)\\\n",
    "    .method(\"submit_proposal\")\\\n",
    "    .params(params)\\\n",
    "    .build()\n",
    "signed_transaction = SignedTransaction(transaction, wallet)\n",
    "tx_hash = icon_service.send_transaction(signed_transaction)\n",
    "print(tx_hash)\n",
    "\n",
    "get_tx_result(tx_hash)"
   ]
  },
  {
   "cell_type": "markdown",
   "metadata": {},
   "source": [
    "### Vote Proposal"
   ]
  },
  {
   "cell_type": "code",
   "execution_count": null,
   "metadata": {},
   "outputs": [],
   "source": [
    "### Vote a Proposal (Voting Period)\n",
    "\n",
    "params = {\"_vote\": \"_approve/_reject/_abstain\",\n",
    "          \"_vote_reason\": \"Vote Reason\",\n",
    "          \"_ipfs_key\": \"Proposal IPFS Hash\"}\n",
    "transaction = CallTransactionBuilder()\\\n",
    "    .from_(sdpwallet.get_address())\\\n",
    "    .to(contracts[\"cps_score\"]['SCORE'])\\\n",
    "    .step_limit(10000000)\\\n",
    "    .nid(3)\\\n",
    "    .nonce(100)\\\n",
    "    .method(\"vote_proposal\")\\\n",
    "    .params(params)\\\n",
    "    .build()\n",
    "signed_transaction = SignedTransaction(transaction, sdpwallet)\n",
    "tx_hash = icon_service.send_transaction(signed_transaction)\n",
    "print(tx_hash)\n",
    "\n",
    "get_tx_result(tx_hash)"
   ]
  },
  {
   "cell_type": "markdown",
   "metadata": {},
   "source": [
    "### Submit Progress Report"
   ]
  },
  {
   "cell_type": "code",
   "execution_count": null,
   "metadata": {},
   "outputs": [],
   "source": [
    "## Submit a Progress Report \n",
    "### params : progress_report_title(str) : Progress Report title for the progress report\n",
    "### ipfs_hash(str) : IPFS Hash key for the main proposal\n",
    "### report_hash(str): IPFS Hash key for the progress report submission\n",
    "### ipfs_link(str) : IPFS Link for the submitted progress report (Can see the details filled up and submitted)\n",
    "### percentage_completed(int) : Approx. project completion percentage\n",
    "### budget_adjustment(bool) : True if progress report has budget adjustment application to increase the budget for the project\n",
    "### additional_budget(int) (ICX amount) : application for additional budget proposed\n",
    "### additional_month(int) : Additional month required for the additional work proposed\n",
    "\n",
    "params = {\"_progress_report\": {\n",
    "                \"report_hash\": \"Progress Report IPFS HASH Key\",\n",
    "                \"ipfs_hash\": \"Proposal IPFS HASH key\",\n",
    "                \"progress_report_title\": \"Progress Report Title\",\n",
    "                \"budget_adjustment\": \"0/1\",\n",
    "                \"additional_budget\": \"0\",\n",
    "                \"ipfs_link\": \"IPFS Submission Link\",\n",
    "                \"percentage_completed\": \"Current Project Completion Status(int)\",\n",
    "                \"additional_month\": \"0\"\n",
    "            }\n",
    "          }\n",
    "\n",
    "transaction = CallTransactionBuilder()\\\n",
    "    .from_(prep_wallet.get_address())\\\n",
    "    .to(contracts[\"cps_score\"]['SCORE'])\\\n",
    "    .step_limit(10000000)\\\n",
    "    .nid(3)\\\n",
    "    .nonce(100)\\\n",
    "    .method(\"submit_progress_report\")\\\n",
    "    .params(params)\\\n",
    "    .build()\n",
    "signed_transaction = SignedTransaction(transaction, prep_wallet)\n",
    "tx_hash = icon_service.send_transaction(signed_transaction)\n",
    "print(tx_hash)\n",
    "\n",
    "get_tx_result(tx_hash)"
   ]
  },
  {
   "cell_type": "markdown",
   "metadata": {},
   "source": [
    "### Vote Progress Report"
   ]
  },
  {
   "cell_type": "code",
   "execution_count": null,
   "metadata": {},
   "outputs": [],
   "source": [
    "### Vote a progress Report (Voting Period)\n",
    "params = {\"_vote\": \"_approve/_reject\",\n",
    "          \"_vote_reason\": \"Reason For the Vote\",\n",
    "          \"_ipfs_key\": \"Proposal IPFS HASH\",\n",
    "          \"_report_key\":\"Progress Report IPFS Hash\",\n",
    "          \"_budget_adjustment_vote\":\"_approve/_reject\"}\n",
    "\n",
    "transaction = CallTransactionBuilder()\\\n",
    "    .from_(sdpwallet.get_address())\\\n",
    "    .to(contracts[\"cps_score\"]['SCORE'])\\\n",
    "    .step_limit(10000000)\\\n",
    "    .nid(3)\\\n",
    "    .nonce(100)\\\n",
    "    .method(\"vote_progress_report\")\\\n",
    "    .params(params)\\\n",
    "    .build()\n",
    "signed_transaction = SignedTransaction(transaction, sdpwallet)\n",
    "tx_hash = icon_service.send_transaction(signed_transaction)\n",
    "print(tx_hash)\n",
    "\n",
    "get_tx_result(tx_hash)"
   ]
  },
  {
   "cell_type": "markdown",
   "metadata": {},
   "source": [
    "### Update a period"
   ]
  },
  {
   "cell_type": "code",
   "execution_count": null,
   "metadata": {},
   "outputs": [],
   "source": [
    "# To update a period from application period to voting period and vice-versa \n",
    "# after the block count of a period is completed\n",
    "params = {}\n",
    "transaction = CallTransactionBuilder()\\\n",
    "    .from_(wallet.get_address())\\\n",
    "    .to(contracts[\"cps_score\"]['SCORE'])\\\n",
    "    .step_limit(10000000)\\\n",
    "    .nid(NID)\\\n",
    "    .nonce(NONCE)\\\n",
    "    .method(\"update_period\")\\\n",
    "    .params(params)\\\n",
    "    .build()\n",
    "signed_transaction = SignedTransaction(transaction, wallet)\n",
    "tx_hash = icon_service.send_transaction(signed_transaction)\n",
    "print(tx_hash)\n",
    "\n",
    "get_tx_result(tx_hash)"
   ]
  },
  {
   "cell_type": "markdown",
   "metadata": {},
   "source": [
    "## Read Only Methods"
   ]
  },
  {
   "cell_type": "code",
   "execution_count": null,
   "metadata": {},
   "outputs": [],
   "source": [
    "### check the wallet address status, also if they are on denylist the penalty amount to pay is also listed\n",
    "params = {\"_address\":\"hxb4e90a285a79687ec148c29faabe6f71afa8a066\"}\n",
    "call = CallBuilder().from_(wallet.get_address())\\\n",
    "                    .to(contracts[\"cps_score\"]['SCORE'])\\\n",
    "                    .method(\"login_prep\")\\\n",
    "                    .params(params)\\\n",
    "                    .build()\n",
    "\n",
    "result = icon_service.call(call)\n",
    "result"
   ]
  },
  {
   "cell_type": "code",
   "execution_count": null,
   "metadata": {},
   "outputs": [],
   "source": [
    "## Get period status with currentBlock, NextBlock to change the period, remainingTime for the period, \n",
    "## Currently running period name and the total period span\n",
    "params = {}\n",
    "call = CallBuilder().from_(wallet.get_address())\\\n",
    "                    .to(contracts[\"cps_score\"]['SCORE'])\\\n",
    "                    .method(\"get_period_status\")\\\n",
    "                    .params(params)\\\n",
    "                    .build()\n",
    "\n",
    "result = icon_service.call(call)\n",
    "result"
   ]
  },
  {
   "cell_type": "code",
   "execution_count": null,
   "metadata": {},
   "outputs": [],
   "source": [
    "### Get the list of progress report with their details of provided status maximum 50 entries at once, 20 by default\n",
    "\n",
    "## \"_status\" :[\"_waiting\",\"_approved\",\"_rejected\"]\n",
    "params = {\"_status\":\"_waiting\"}\n",
    "call = CallBuilder().from_(wallet.get_address())\\\n",
    "                    .to(contracts[\"cps_score\"]['SCORE'])\\\n",
    "                    .method(\"get_progress_reports\")\\\n",
    "                    .params(params)\\\n",
    "                    .build()\n",
    "\n",
    "result = icon_service.call(call)\n",
    "result"
   ]
  },
  {
   "cell_type": "code",
   "execution_count": null,
   "metadata": {},
   "outputs": [],
   "source": [
    "## List the progress report for the provided Proposal Ipfs_key (project key)\n",
    "params = {\"_ipfs_key\":\"bafybeifrv2vxo7utazawsxw5aj2yw6w3gvp5cu26oa4tzy37l2az52v3pm\"}\n",
    "call = CallBuilder().from_(wallet.get_address())\\\n",
    "                    .to(contracts[\"cps_score\"]['SCORE'])\\\n",
    "                    .method(\"get_progress_reports_by_proposal\")\\\n",
    "                    .params(params)\\\n",
    "                    .build()\n",
    "\n",
    "result = icon_service.call(call)\n",
    "result"
   ]
  },
  {
   "cell_type": "code",
   "execution_count": null,
   "metadata": {},
   "outputs": [],
   "source": [
    "## To check if the provided contributor has any progress report to submit in the current Application Period\n",
    "params = {\"_wallet_address\":\"hx2176d13280d465b68afbf7f9be758e966f654629\"}\n",
    "call = CallBuilder().from_(wallet.get_address())\\\n",
    "                    .to(contracts[\"cps_score\"]['SCORE'])\\\n",
    "                    .method(\"get_active_proposals\")\\\n",
    "                    .params(params)\\\n",
    "                    .build()\n",
    "\n",
    "result = icon_service.call(call)\n",
    "result"
   ]
  },
  {
   "cell_type": "code",
   "execution_count": null,
   "metadata": {},
   "outputs": [],
   "source": [
    "## Get project amount and total amount pending for the given contributor address\n",
    "\n",
    "params = {\"_wallet_address\":\"hx2176d13280d465b68afbf7f9be758e966f654629\"}\n",
    "call = CallBuilder().from_(wallet.get_address())\\\n",
    "                    .to(contracts[\"CPSTreasury\"]['SCORE'])\\\n",
    "                    .method(\"get_contributor_projected_fund\")\\\n",
    "                    .params(params)\\\n",
    "                    .build()\n",
    "\n",
    "result = icon_service.call(call)\n",
    "result"
   ]
  },
  {
   "cell_type": "code",
   "execution_count": null,
   "metadata": {},
   "outputs": [],
   "source": [
    "## Get project amount and total amount pending for the given sponsorAddress \n",
    "\n",
    "params = {\"_wallet_address\":\"hxef35c447e3f657315a6990da0ddaf4c61fa146e4\"}\n",
    "call = CallBuilder().from_(wallet.get_address())\\\n",
    "                    .to(contracts[\"CPSTreasury\"]['SCORE'])\\\n",
    "                    .method(\"get_sponsor_projected_fund\")\\\n",
    "                    .params(params)\\\n",
    "                    .build()\n",
    "\n",
    "result = icon_service.call(call)\n",
    "result"
   ]
  }
 ],
 "metadata": {
  "kernelspec": {
   "display_name": "Python 3",
   "language": "python",
   "name": "python3"
  },
  "language_info": {
   "codemirror_mode": {
    "name": "ipython",
    "version": 3
   },
   "file_extension": ".py",
   "mimetype": "text/x-python",
   "name": "python",
   "nbconvert_exporter": "python",
   "pygments_lexer": "ipython3",
   "version": "3.7.7"
  }
 },
 "nbformat": 4,
 "nbformat_minor": 4
}
