{
 "cells": [
  {
   "cell_type": "code",
   "execution_count": 1,
   "metadata": {},
   "outputs": [],
   "source": [
    "from iconsdk.exception import JSONRPCException\n",
    "from iconsdk.libs.in_memory_zip import gen_deploy_data_content\n",
    "from iconsdk.icon_service import IconService\n",
    "from iconsdk.providers.http_provider import HTTPProvider\n",
    "from iconsdk.builder.transaction_builder import CallTransactionBuilder, TransactionBuilder, DeployTransactionBuilder\n",
    "from iconsdk.builder.call_builder import CallBuilder\n",
    "from iconsdk.signed_transaction import SignedTransaction\n",
    "from iconsdk.wallet.wallet import KeyWallet\n",
    "from iconsdk.utils.convert_type import convert_hex_str_to_int\n",
    "import requests\n",
    "import json\n",
    "import pickle\n",
    "import csv\n",
    "import os\n",
    "\n",
    "from repeater import retry\n",
    "\n",
    "\n",
    "@retry(JSONRPCException, tries=10, delay=1, back_off=2)\n",
    "def get_tx_result(_tx_hash):\n",
    "    tx_result = icon_service.get_transaction_result(_tx_hash)\n",
    "    return tx_result\n",
    "\n",
    "\n",
    "@retry(JSONRPCException, tries=10, delay=1, back_off=2)\n",
    "def get_txn_result(_tx_hash):\n",
    "    tx_result = icon_service.get_transaction(_tx_hash)\n",
    "    return tx_result"
   ]
  },
  {
   "cell_type": "markdown",
   "metadata": {},
   "source": [
    "Wallet Import"
   ]
  },
  {
   "cell_type": "code",
   "execution_count": 2,
   "metadata": {},
   "outputs": [],
   "source": [
    "#Testnet\n",
    "# NID = 80\n",
    "# NONCE = 100\n",
    "\n",
    "#Mainnet\n",
    "# NID = 1\n",
    "# NONCE = 100\n",
    "GOVERNANCE_ADDRESS = \"cx0000000000000000000000000000000000000000\"\n",
    "NONCE = 100"
   ]
  },
  {
   "cell_type": "code",
   "execution_count": 10,
   "metadata": {},
   "outputs": [],
   "source": [
    "icon_service = IconService(HTTPProvider(\"https://zicon.net.solidwallet.io/\", 3))\n",
    "NID = 80"
   ]
  },
  {
   "cell_type": "code",
   "execution_count": 3,
   "metadata": {},
   "outputs": [],
   "source": [
    "icon_service = IconService(HTTPProvider(\"https://bicon.net.solidwallet.io/\", 3))\n",
    "NID = 3"
   ]
  },
  {
   "cell_type": "code",
   "execution_count": 4,
   "metadata": {},
   "outputs": [],
   "source": [
    "icon_service = IconService(HTTPProvider(\"http://18.237.205.52:9000/\", 3))\n",
    "NID = 80"
   ]
  },
  {
   "cell_type": "code",
   "execution_count": 11,
   "metadata": {},
   "outputs": [],
   "source": [
    "icon_service = IconService(HTTPProvider(\"https://ctz.solidwallet.io\", 3))\n",
    "NID = 1"
   ]
  },
  {
   "cell_type": "code",
   "execution_count": 4,
   "metadata": {},
   "outputs": [],
   "source": [
    "wallet = KeyWallet.load(\"./keystore/test1\",\"1@MreddeviL\")"
   ]
  },
  {
   "cell_type": "code",
   "execution_count": 206,
   "metadata": {},
   "outputs": [],
   "source": [
    "prep_wallet = KeyWallet.load(\"./keystore/prep_test\",\"1@MreddeviL\")"
   ]
  },
  {
   "cell_type": "code",
   "execution_count": 82,
   "metadata": {},
   "outputs": [],
   "source": [
    "sdpwallet = KeyWallet.load(\"./keystore/sdpwallet\",\"1@MreddeviL\")"
   ]
  },
  {
   "cell_type": "code",
   "execution_count": 174,
   "metadata": {},
   "outputs": [],
   "source": [
    "trpwallet = KeyWallet.load(\"./keystore/trpwallet\",\"1@MreddeviL\")"
   ]
  },
  {
   "cell_type": "markdown",
   "metadata": {},
   "source": [
    "# Deploying Contract"
   ]
  },
  {
   "cell_type": "code",
   "execution_count": 267,
   "metadata": {},
   "outputs": [
    {
     "name": "stdout",
     "output_type": "stream",
     "text": [
      "0xa6def77a82f540e3b864556e238d3881fa906988d0a74ec8ee60e761295af7aa\n"
     ]
    },
    {
     "name": "stderr",
     "output_type": "stream",
     "text": [
      "Raised JSONRPCException while returning the custom response. Error message: {'code': -32602, 'message': 'Pending transaction'}\n"
     ]
    },
    {
     "name": "stdout",
     "output_type": "stream",
     "text": [
      "{'code': -32602, 'message': 'Pending transaction'} (Json rpc error), Retrying in 1 seconds...\n"
     ]
    },
    {
     "name": "stderr",
     "output_type": "stream",
     "text": [
      "Raised JSONRPCException while returning the custom response. Error message: {'code': -32602, 'message': 'Pending transaction'}\n"
     ]
    },
    {
     "name": "stdout",
     "output_type": "stream",
     "text": [
      "{'code': -32602, 'message': 'Pending transaction'} (Json rpc error), Retrying in 2 seconds...\n"
     ]
    },
    {
     "data": {
      "text/plain": [
       "{'txHash': '0xa6def77a82f540e3b864556e238d3881fa906988d0a74ec8ee60e761295af7aa',\n",
       " 'blockHeight': 9682258,\n",
       " 'blockHash': '0x9783e4087af13bfe01b6a0045fde2bda1f10a4ea7192505847d314266344f0bc',\n",
       " 'txIndex': 1,\n",
       " 'to': 'cx0000000000000000000000000000000000000000',\n",
       " 'scoreAddress': 'cx39a17d13e01538756e9649f80f0b6604a9e7bd39',\n",
       " 'stepUsed': 1488036320,\n",
       " 'stepPrice': 10000000000,\n",
       " 'cumulativeStepUsed': 1488036320,\n",
       " 'eventLogs': [],\n",
       " 'logsBloom': b'\\x00\\x00\\x00\\x00\\x00\\x00\\x00\\x00\\x00\\x00\\x00\\x00\\x00\\x00\\x00\\x00\\x00\\x00\\x00\\x00\\x00\\x00\\x00\\x00\\x00\\x00\\x00\\x00\\x00\\x00\\x00\\x00\\x00\\x00\\x00\\x00\\x00\\x00\\x00\\x00\\x00\\x00\\x00\\x00\\x00\\x00\\x00\\x00\\x00\\x00\\x00\\x00\\x00\\x00\\x00\\x00\\x00\\x00\\x00\\x00\\x00\\x00\\x00\\x00\\x00\\x00\\x00\\x00\\x00\\x00\\x00\\x00\\x00\\x00\\x00\\x00\\x00\\x00\\x00\\x00\\x00\\x00\\x00\\x00\\x00\\x00\\x00\\x00\\x00\\x00\\x00\\x00\\x00\\x00\\x00\\x00\\x00\\x00\\x00\\x00\\x00\\x00\\x00\\x00\\x00\\x00\\x00\\x00\\x00\\x00\\x00\\x00\\x00\\x00\\x00\\x00\\x00\\x00\\x00\\x00\\x00\\x00\\x00\\x00\\x00\\x00\\x00\\x00\\x00\\x00\\x00\\x00\\x00\\x00\\x00\\x00\\x00\\x00\\x00\\x00\\x00\\x00\\x00\\x00\\x00\\x00\\x00\\x00\\x00\\x00\\x00\\x00\\x00\\x00\\x00\\x00\\x00\\x00\\x00\\x00\\x00\\x00\\x00\\x00\\x00\\x00\\x00\\x00\\x00\\x00\\x00\\x00\\x00\\x00\\x00\\x00\\x00\\x00\\x00\\x00\\x00\\x00\\x00\\x00\\x00\\x00\\x00\\x00\\x00\\x00\\x00\\x00\\x00\\x00\\x00\\x00\\x00\\x00\\x00\\x00\\x00\\x00\\x00\\x00\\x00\\x00\\x00\\x00\\x00\\x00\\x00\\x00\\x00\\x00\\x00\\x00\\x00\\x00\\x00\\x00\\x00\\x00\\x00\\x00\\x00\\x00\\x00\\x00\\x00\\x00\\x00\\x00\\x00\\x00\\x00\\x00\\x00\\x00\\x00\\x00\\x00\\x00\\x00\\x00\\x00\\x00\\x00\\x00\\x00\\x00\\x00\\x00\\x00\\x00\\x00\\x00',\n",
       " 'status': 1}"
      ]
     },
     "execution_count": 267,
     "metadata": {},
     "output_type": "execute_result"
    }
   ],
   "source": [
    "deploy_transaction = DeployTransactionBuilder()\\\n",
    "    .from_(wallet.get_address())\\\n",
    "    .to(GOVERNANCE_ADDRESS)\\\n",
    "    .nid(NID)\\\n",
    "    .nonce(100)\\\n",
    "    .content_type(\"application/zip\")\\\n",
    "    .content(gen_deploy_data_content('cps_score'))\\\n",
    "    .build()\n",
    "\n",
    "estimate_step = icon_service.estimate_step(deploy_transaction)\n",
    "step_limit = estimate_step + 100000\n",
    "signed_transaction = SignedTransaction(deploy_transaction, wallet, step_limit)\n",
    "\n",
    "tx_hash = icon_service.send_transaction(signed_transaction)\n",
    "\n",
    "print(tx_hash)\n",
    "\n",
    "get_tx_result(tx_hash)"
   ]
  },
  {
   "cell_type": "code",
   "execution_count": 5,
   "metadata": {},
   "outputs": [],
   "source": [
    "contract_address = \"cx39a17d13e01538756e9649f80f0b6604a9e7bd39\"\n",
    "# contract_address = \"cx9b8405d5b72d4794654c7724b0f1bca1a465474a\"\n",
    "# contract_address = \"cx11602f2ced70daf94edb1dac6c0b4c4ebd7856c7\""
   ]
  },
  {
   "cell_type": "markdown",
   "metadata": {},
   "source": [
    "Contract Update"
   ]
  },
  {
   "cell_type": "code",
   "execution_count": 25,
   "metadata": {},
   "outputs": [
    {
     "name": "stdout",
     "output_type": "stream",
     "text": [
      "0x650fa92b812e2f23106e15cd13455fcdb058819f3e9070507a05b58da72c03e4\n"
     ]
    },
    {
     "name": "stderr",
     "output_type": "stream",
     "text": [
      "Raised JSONRPCException while returning the custom response. Error message: {'code': -32602, 'message': 'Pending transaction'}\n"
     ]
    },
    {
     "name": "stdout",
     "output_type": "stream",
     "text": [
      "{'code': -32602, 'message': 'Pending transaction'} (Json rpc error), Retrying in 1 seconds...\n"
     ]
    },
    {
     "name": "stderr",
     "output_type": "stream",
     "text": [
      "Raised JSONRPCException while returning the custom response. Error message: {'code': -32602, 'message': 'Pending transaction'}\n"
     ]
    },
    {
     "name": "stdout",
     "output_type": "stream",
     "text": [
      "{'code': -32602, 'message': 'Pending transaction'} (Json rpc error), Retrying in 2 seconds...\n"
     ]
    },
    {
     "data": {
      "text/plain": [
       "{'txHash': '0x650fa92b812e2f23106e15cd13455fcdb058819f3e9070507a05b58da72c03e4',\n",
       " 'blockHeight': 10014621,\n",
       " 'blockHash': '0xead7ddc2bb2a8c4997e5eb243914a659a61f733908fd6430c619909e0af2f43c',\n",
       " 'txIndex': 1,\n",
       " 'to': 'cx39a17d13e01538756e9649f80f0b6604a9e7bd39',\n",
       " 'scoreAddress': 'cx39a17d13e01538756e9649f80f0b6604a9e7bd39',\n",
       " 'stepUsed': 2099034400,\n",
       " 'stepPrice': 10000000000,\n",
       " 'cumulativeStepUsed': 2099034400,\n",
       " 'eventLogs': [],\n",
       " 'logsBloom': b'\\x00\\x00\\x00\\x00\\x00\\x00\\x00\\x00\\x00\\x00\\x00\\x00\\x00\\x00\\x00\\x00\\x00\\x00\\x00\\x00\\x00\\x00\\x00\\x00\\x00\\x00\\x00\\x00\\x00\\x00\\x00\\x00\\x00\\x00\\x00\\x00\\x00\\x00\\x00\\x00\\x00\\x00\\x00\\x00\\x00\\x00\\x00\\x00\\x00\\x00\\x00\\x00\\x00\\x00\\x00\\x00\\x00\\x00\\x00\\x00\\x00\\x00\\x00\\x00\\x00\\x00\\x00\\x00\\x00\\x00\\x00\\x00\\x00\\x00\\x00\\x00\\x00\\x00\\x00\\x00\\x00\\x00\\x00\\x00\\x00\\x00\\x00\\x00\\x00\\x00\\x00\\x00\\x00\\x00\\x00\\x00\\x00\\x00\\x00\\x00\\x00\\x00\\x00\\x00\\x00\\x00\\x00\\x00\\x00\\x00\\x00\\x00\\x00\\x00\\x00\\x00\\x00\\x00\\x00\\x00\\x00\\x00\\x00\\x00\\x00\\x00\\x00\\x00\\x00\\x00\\x00\\x00\\x00\\x00\\x00\\x00\\x00\\x00\\x00\\x00\\x00\\x00\\x00\\x00\\x00\\x00\\x00\\x00\\x00\\x00\\x00\\x00\\x00\\x00\\x00\\x00\\x00\\x00\\x00\\x00\\x00\\x00\\x00\\x00\\x00\\x00\\x00\\x00\\x00\\x00\\x00\\x00\\x00\\x00\\x00\\x00\\x00\\x00\\x00\\x00\\x00\\x00\\x00\\x00\\x00\\x00\\x00\\x00\\x00\\x00\\x00\\x00\\x00\\x00\\x00\\x00\\x00\\x00\\x00\\x00\\x00\\x00\\x00\\x00\\x00\\x00\\x00\\x00\\x00\\x00\\x00\\x00\\x00\\x00\\x00\\x00\\x00\\x00\\x00\\x00\\x00\\x00\\x00\\x00\\x00\\x00\\x00\\x00\\x00\\x00\\x00\\x00\\x00\\x00\\x00\\x00\\x00\\x00\\x00\\x00\\x00\\x00\\x00\\x00\\x00\\x00\\x00\\x00\\x00\\x00\\x00\\x00\\x00\\x00\\x00\\x00',\n",
       " 'status': 1}"
      ]
     },
     "execution_count": 25,
     "metadata": {},
     "output_type": "execute_result"
    }
   ],
   "source": [
    "# Generates an instance of transaction for deploying score\n",
    "transaction = DeployTransactionBuilder() \\\n",
    "            .from_(wallet.get_address()) \\\n",
    "            .to(contract_address) \\\n",
    "            .nid(NID) \\\n",
    "            .nonce(NONCE) \\\n",
    "            .content_type(\"application/zip\") \\\n",
    "            .content(gen_deploy_data_content(\"cps_score\")) \\\n",
    "            .build()\n",
    "\n",
    "estimate_step = icon_service.estimate_step(transaction)\n",
    "step_limit = estimate_step + 100000\n",
    "signed_transaction = SignedTransaction(transaction, wallet,step_limit)\n",
    "\n",
    "tx_hash = icon_service.send_transaction(signed_transaction)\n",
    "print(tx_hash)\n",
    "\n",
    "get_tx_result(tx_hash)"
   ]
  },
  {
   "cell_type": "markdown",
   "metadata": {},
   "source": [
    "Submit Proposal"
   ]
  },
  {
   "cell_type": "code",
   "execution_count": 7,
   "metadata": {},
   "outputs": [
    {
     "name": "stdout",
     "output_type": "stream",
     "text": [
      "0x6fe82e0dc1d2d10cea814fcf82a1a27a8a8247301b6993fb7f0870c169e7d1c5\n"
     ]
    },
    {
     "name": "stderr",
     "output_type": "stream",
     "text": [
      "Raised JSONRPCException while returning the custom response. Error message: {'code': -32602, 'message': 'Pending transaction'}\n"
     ]
    },
    {
     "name": "stdout",
     "output_type": "stream",
     "text": [
      "{'code': -32602, 'message': 'Pending transaction'} (Json rpc error), Retrying in 1 seconds...\n"
     ]
    },
    {
     "name": "stderr",
     "output_type": "stream",
     "text": [
      "Raised JSONRPCException while returning the custom response. Error message: {'code': -32602, 'message': 'Pending transaction'}\n"
     ]
    },
    {
     "name": "stdout",
     "output_type": "stream",
     "text": [
      "{'code': -32602, 'message': 'Pending transaction'} (Json rpc error), Retrying in 2 seconds...\n"
     ]
    },
    {
     "data": {
      "text/plain": [
       "{'txHash': '0x6fe82e0dc1d2d10cea814fcf82a1a27a8a8247301b6993fb7f0870c169e7d1c5',\n",
       " 'blockHeight': 9983786,\n",
       " 'blockHash': '0xc720494ca6b49ce00ba415b68deec1f8b04a5f7089e4e2ca42b5a1ab1e42854c',\n",
       " 'txIndex': 1,\n",
       " 'to': 'cx39a17d13e01538756e9649f80f0b6604a9e7bd39',\n",
       " 'stepUsed': 400800,\n",
       " 'stepPrice': 10000000000,\n",
       " 'cumulativeStepUsed': 400800,\n",
       " 'eventLogs': [{'scoreAddress': 'cx39a17d13e01538756e9649f80f0b6604a9e7bd39',\n",
       "   'indexed': ['PeriodUpdate(Address,str)',\n",
       "    'cx39a17d13e01538756e9649f80f0b6604a9e7bd39',\n",
       "    'Period Updated to Voting Period'],\n",
       "   'data': []},\n",
       "  {'scoreAddress': 'cx39a17d13e01538756e9649f80f0b6604a9e7bd39',\n",
       "   'indexed': ['ProposalSubmitted(Address,Address,str)',\n",
       "    'hx177b10efe3018961a405cc7c20ee811c552831a5',\n",
       "    'cx39a17d13e01538756e9649f80f0b6604a9e7bd39',\n",
       "    'Successfully submitted a Proposal.'],\n",
       "   'data': []},\n",
       "  {'scoreAddress': 'cx39a17d13e01538756e9649f80f0b6604a9e7bd39',\n",
       "   'indexed': ['ICXTransfer(Address,Address,int)',\n",
       "    'cx39a17d13e01538756e9649f80f0b6604a9e7bd39',\n",
       "    'hx0000000000000000000000000000000000000000',\n",
       "    '0x2b5e3af16b1880000'],\n",
       "   'data': []},\n",
       "  {'scoreAddress': 'cx39a17d13e01538756e9649f80f0b6604a9e7bd39',\n",
       "   'indexed': ['TokenBurn(Address,Address,str)',\n",
       "    'hx177b10efe3018961a405cc7c20ee811c552831a5',\n",
       "    'cx39a17d13e01538756e9649f80f0b6604a9e7bd39',\n",
       "    '50000000000000000000 ICX transferred to burn.'],\n",
       "   'data': []}],\n",
       " 'logsBloom': b'\\x10\\x00\\x00\\x00\\x00\\x00\\x80\\x00\\x00\\x00\\x00\\x01\\x00\\x00\\x00\\x00\\x00\\x00\\x00\\x00\\x00\\x00\\x00\\x00\\x00\\x00\\x00\\x00\\x00\\x00\\x00\\x00\\x10\\x00\\x00\\x00\\x00\\x00\\x00\\x00\\x80\\x00\\x00\\x00\\x00\\x00\\x00\\x00\\x00\\x00\\x00\\x00\\x00\\x00\\x00\\x00\\x00\\x00\\x08\\x00\\x00\\x00\\x00\\x00\\x00\\x00\\x00\\x00\\x00\\x00\\x00\\x00\\x00\\x00\\xa0\\x00\\x00\\x00\\x00\\x00\\x00\\x00\\x00\\x00\\x00\\x00\\x08\\x00\\x00\\x00\\x00\\x08\\x10\\x00\\x00\\x80\\x00\\x00\\x00\\x00 \\x00\\x00\\x00\\x00\\x00\\x00\\x00\\x00\\x00\\x00\\x00\\x00\\x00\\x00@\\x01\\x00\\x00\\x00\\x00\\x00(\\x00\\x00\\x00\\x00\\x00\\x00\\x02\\x00\\x00\\x00\\x00\\x00\\x00\\x00\\x00\\x00\\x00\\x00\\x00\\x04\\x00\\x00\\x00\\x00\\x80\\x00\\x00\\x08\\x00\\x00\\x00\\x00 \\x00\\x08\\x80\\x00\\x00\\x00\\x00\\x00\\x00\\x02\\x00\\x01\\x00\\x00\\x00\\x00\\x00\\x00\\x01\\x00\\x00\\x00\\x00\\x00\\x00\\x08\\x00\\x00\\x04\\x00\\x00\\x00\\x00\\x00\\x00\\x00\\x00\\x00\\x00 \\x00\\x00\\x00\\x08\\x00\\x00\\x00\\x00\\x00\\x00\\x00\\x00\\x10\\x00\\x00\\x00\\x00\\x00\\x00\\x00\\x80\\x03\\x00\\x00\\x00\\x00\\x00\\x00\\x00\\x00\\x00\\x00\\x0c\\x00\\x00\\x00\\x00\\x00\\x00\\x00\\x00\\x00\\x00\\x00\\x00 \\x00\\x00\\x00\\x00\\x00\\x00\\x00\\x00\\x00\\x00\\x00\\x00\\x00\\x00',\n",
       " 'status': 1}"
      ]
     },
     "execution_count": 7,
     "metadata": {},
     "output_type": "execute_result"
    }
   ],
   "source": [
    "params ={\"_proposals\": {\n",
    "\t\t\t\"project_title\": \"ICON Mobile Wallet\",\n",
    "\t\t\t\"total_budget\": \"100\",\n",
    "\t\t\t\"sponsor_address\": \"hxe59539154a3d77023943c3bbd5fc3a081d697e6a\",\n",
    "\t\t\t\"ipfs_hash\": \"bafybeid3ucflkuettyzvzbsnqhvw5mtqkgbtes4s5yykhr6vd4ma7f7aiy\",\n",
    "\t\t\t\"ipfs_link\": \"https://gateway.ipfs.io/ipfs/bafybeid3ucflkuettyzvzbsnqhvw5mtqkgbtes4s5yykhr6vd4ma7f7aiy\",\n",
    "\t\t\t\"project_duration\": \"4\"\n",
    "\t\t}}\n",
    "transaction = CallTransactionBuilder()\\\n",
    "    .from_(wallet.get_address())\\\n",
    "    .to(contract_address)\\\n",
    "    .value(50000000000000000000)\\\n",
    "    .step_limit(10000000)\\\n",
    "    .nid(3)\\\n",
    "    .nonce(100)\\\n",
    "    .method(\"submit_proposal\")\\\n",
    "    .params(params)\\\n",
    "    .build()\n",
    "signed_transaction = SignedTransaction(transaction, wallet)\n",
    "tx_hash = icon_service.send_transaction(signed_transaction)\n",
    "print(tx_hash)\n",
    "\n",
    "get_tx_result(tx_hash)"
   ]
  },
  {
   "cell_type": "markdown",
   "metadata": {},
   "source": [
    "Submit Progress Report"
   ]
  },
  {
   "cell_type": "code",
   "execution_count": 215,
   "metadata": {},
   "outputs": [
    {
     "name": "stdout",
     "output_type": "stream",
     "text": [
      "0x616510881d98197a8723ca69c7e75e9e7a4699774578ec4d5fe1600784435cae\n"
     ]
    },
    {
     "name": "stderr",
     "output_type": "stream",
     "text": [
      "Raised JSONRPCException while returning the custom response. Error message: {'code': -32602, 'message': 'Pending transaction'}\n"
     ]
    },
    {
     "name": "stdout",
     "output_type": "stream",
     "text": [
      "{'code': -32602, 'message': 'Pending transaction'} (Json rpc error), Retrying in 1 seconds...\n"
     ]
    },
    {
     "data": {
      "text/plain": [
       "{'txHash': '0x616510881d98197a8723ca69c7e75e9e7a4699774578ec4d5fe1600784435cae',\n",
       " 'blockHeight': 9677961,\n",
       " 'blockHash': '0x9069e1055bf16d3db7ea2c4a968d638f45df5862ce2a32749e36a97fb9291916',\n",
       " 'txIndex': 2,\n",
       " 'to': 'cx11602f2ced70daf94edb1dac6c0b4c4ebd7856c7',\n",
       " 'stepUsed': 361000,\n",
       " 'stepPrice': 10000000000,\n",
       " 'cumulativeStepUsed': 575600,\n",
       " 'eventLogs': [{'scoreAddress': 'cx11602f2ced70daf94edb1dac6c0b4c4ebd7856c7',\n",
       "   'indexed': ['ProgressReportSubmitted(Address,Address,str)',\n",
       "    'hxeee0810ddcacba64f26dc288f002861527fa7636',\n",
       "    'cx11602f2ced70daf94edb1dac6c0b4c4ebd7856c7',\n",
       "    'Progress Report II --> Progress Report Submitted Successfully.'],\n",
       "   'data': []}],\n",
       " 'logsBloom': b'\\x00\\x00\\x00\\x00\\x00\\x00\\x00\\x00\\x00\\x00\\x00\\x00\\x00\\x00\\x00\\x00\\x00\\x00\\x00\\x00\\x00\\x00\\x00\\x02\\x00\\x00\\x00 \\x00\\x00\\x00\\x00\\x00\\x00\\x00\\x08 \\x00@\\x00\\x00\\x00\\x00\\x02\\x00\\x00\\x00\\x00\\x00\\x00\\x00\\x00\\x00\\x00\\x00\\x00\\x00\\x00\\x00\\x00\\x00\\x00\\x00\\x00\\x00\\x00\\x00\\x00\\x08\\x00\\x00\\x00\\x00\\x00\\x00\\x02\\x00\\x00\\x00\\x00\\x00\\x00\\x00\\x00\\x00\\x00\\x00\\x00\\x00\\x00\\x00\\x08\\x00\\x00\\x00\\x00\\x00\\x00\\x00\\x00\\x00\\x00\\x00\\x00\\x00\\x00\\x00\\x00\\x00\\x00\\x00\\x01\\x00\\x80\\x00\\x00\\x00\\x00\\x00\\x00\\x00\\x00\\x00\\x00\\x00\\x00\\x00\\x00\\x00\\x00\\x00\\x00\\x00\\x00\\x00\\x00\\x00\\x00\\x00\\x00\\x00\\x00\\x00\\x00\\x00\\x10\\x00\\x00\\x00\\x00\\x00\\x00\\x00\\x00\\x00\\x00\\x00\\x00\\x00\\x00\\x00\\x00\\x00\\x00\\x00\\x00@\\x00\\x00\\x00\\x00\\x00\\x00\\x00\\x00\\x00\\x00\\x00\\x00\\x00\\x00\\x00\\x00\\x00\\x00\\x00\\x00\\x00\\x00\\x00\\x00\\x00\\x00\\x00\\x00\\x00\\x00\\x00\\x00\\x00\\x00\\x00\\x00\\x00\\x00\\x00\\x00\\x00\\x00\\x00\\x00\\x00\\x00\\x00\\x01\\x00\\x00\\x00\\x00\\x00\\x00\\x00\\x00\\x00\\x00\\x00\\x01\\x00\\x00\\x00\\x00\\x00\\x00\\x00\\x00\\x00\\x00\\x00\\x00\\x00\\x00\\x00\\x00\\x00\\x00\\x00\\x00\\x00\\x00\\x00\\x00\\x00\\x00\\x00\\x00\\x00',\n",
       " 'status': 1}"
      ]
     },
     "execution_count": 215,
     "metadata": {},
     "output_type": "execute_result"
    }
   ],
   "source": [
    "params = {\n",
    "    \"_progress_report\": {\n",
    "\t\t\t\"report_hash\": \"bafybeihx5isio55zpljihmvtzqpkztqwhbyale5lzu3eq7t6qns3nnpydm\",\n",
    "\t\t\t\"ipfs_hash\": \"bafybeievxtqufn47uuihweaginepx2mzsf6m5vxar7acmeo3rftiifz4hy\",\n",
    "\t\t\t\"progress_report_title\": \"Progress Report II\",\n",
    "\t\t\t\"budget_adjustment\": \"0\",\n",
    "\t\t\t\"additional_budget\": \"0\",\n",
    "\t\t\t\"ipfs_link\": \"https://gateway.ipfs.io/ipfs/bafybeihx5isio55zpljihmvtzqpkztqwhbyale5lzu3eq7t6qns3nnpydm\",\n",
    "\t\t\t\"percentage_completed\": \"40\",\n",
    "\t\t\t\"additional_month\": \"0\"\n",
    "\t\t}\n",
    "}\n",
    "transaction = CallTransactionBuilder()\\\n",
    "    .from_(prep_wallet.get_address())\\\n",
    "    .to(contract_address)\\\n",
    "    .step_limit(10000000)\\\n",
    "    .nid(3)\\\n",
    "    .nonce(100)\\\n",
    "    .method(\"submit_progress_report\")\\\n",
    "    .params(params)\\\n",
    "    .build()\n",
    "signed_transaction = SignedTransaction(transaction, prep_wallet)\n",
    "tx_hash = icon_service.send_transaction(signed_transaction)\n",
    "print(tx_hash)\n",
    "\n",
    "get_tx_result(tx_hash)"
   ]
  },
  {
   "cell_type": "code",
   "execution_count": null,
   "metadata": {},
   "outputs": [],
   "source": [
    "Get Proposal Details List"
   ]
  },
  {
   "cell_type": "code",
   "execution_count": 18,
   "metadata": {},
   "outputs": [
    {
     "data": {
      "text/plain": [
       "[{'project_title': 'Hello World 2',\n",
       "  'ipfs_hash': 'bafybeigrlxuip3cfwfvxpnpuk43yzteg5o6lyln6vhe6gysg7fhq4bqxmi',\n",
       "  'new_progress_report': '0x1'}]"
      ]
     },
     "execution_count": 18,
     "metadata": {},
     "output_type": "execute_result"
    }
   ],
   "source": [
    "params = {\"_wallet_address\":\"hxeee0810ddcacba64f26dc288f002861527fa7636\"}\n",
    "call = CallBuilder().from_(wallet.get_address())\\\n",
    "                    .to(contract_address)\\\n",
    "                    .method(\"get_active_proposals\")\\\n",
    "                    .params(params)\\\n",
    "                    .build()\n",
    "\n",
    "result = icon_service.call(call)\n",
    "result"
   ]
  },
  {
   "cell_type": "code",
   "execution_count": 103,
   "metadata": {},
   "outputs": [
    {
     "data": {
      "text/plain": [
       "['bafybeifk43txp6xmxlbbbf32sgrvqygocifljbxfvf22zuhhuwhkrpzv7u']"
      ]
     },
     "execution_count": 103,
     "metadata": {},
     "output_type": "execute_result"
    }
   ],
   "source": [
    "call = CallBuilder().from_(wallet.get_address())\\\n",
    "                    .to(contract_address)\\\n",
    "                    .method(\"get_proposals_keys_by_status\")\\\n",
    "                    .params({\"_status\":\"_rejected\"})\\\n",
    "                    .build()\n",
    "\n",
    "result = icon_service.call(call)\n",
    "result"
   ]
  },
  {
   "cell_type": "code",
   "execution_count": 11,
   "metadata": {
    "scrolled": false
   },
   "outputs": [
    {
     "data": {
      "text/plain": [
       "[]"
      ]
     },
     "execution_count": 11,
     "metadata": {},
     "output_type": "execute_result"
    }
   ],
   "source": [
    "call = CallBuilder().from_(wallet.get_address())\\\n",
    "                    .to(contract_address)\\\n",
    "                    .method(\"get_PReps\")\\\n",
    "                    .params({})\\\n",
    "                    .build()\n",
    "\n",
    "result = icon_service.call(call)\n",
    "result"
   ]
  },
  {
   "cell_type": "code",
   "execution_count": 15,
   "metadata": {},
   "outputs": [
    {
     "data": {
      "text/plain": [
       "{'data': [{'ipfs_hash': 'bafybeid3ucflkuettyzvzbsnqhvw5mtqkgbtes4s5yykhr6vd4ma7f7aiy',\n",
       "   'project_title': 'ICON Mobile Wallet',\n",
       "   'timestamp': '0x5b58dd164d3ae',\n",
       "   'total_budget': '0x64',\n",
       "   'project_duration': '0x4',\n",
       "   'sponsor_address': 'hxe59539154a3d77023943c3bbd5fc3a081d697e6a',\n",
       "   'contributor_address': 'hx177b10efe3018961a405cc7c20ee811c552831a5',\n",
       "   'status': '_sponsor_pending',\n",
       "   'tx_hash': '6fe82e0dc1d2d10cea814fcf82a1a27a8a8247301b6993fb7f0870c169e7d1c5',\n",
       "   'percentage_completed': '0x0',\n",
       "   'sponsor_deposit_amount': '0x0',\n",
       "   'sponsored_timestamp': '0x0',\n",
       "   'sponsor_deposit_status': '',\n",
       "   'total_votes': '0x0',\n",
       "   'approved_votes': '0x0',\n",
       "   'rejected_votes': '0x0',\n",
       "   'total_voters': '0x0',\n",
       "   'approve_voters': '0x0',\n",
       "   'reject_voters': '0x0'}],\n",
       " 'count': '0x1'}"
      ]
     },
     "execution_count": 15,
     "metadata": {},
     "output_type": "execute_result"
    }
   ],
   "source": [
    "params = {\"_status\":\"_sponsor_pending\",\"_wallet_address\":\"hx177b10efe3018961a405cc7c20ee811c552831a5\"}\n",
    "call = CallBuilder().from_(wallet.get_address())\\\n",
    "                    .to(contract_address)\\\n",
    "                    .method(\"get_proposal_details\")\\\n",
    "                    .params(params)\\\n",
    "                    .build()\n",
    "\n",
    "result = icon_service.call(call)\n",
    "result"
   ]
  },
  {
   "cell_type": "code",
   "execution_count": 65,
   "metadata": {},
   "outputs": [
    {
     "data": {
      "text/plain": [
       "{'data': [{'ipfs_hash': 'bafybeifk43txp6xmxlbbbf32sgrvqygocifljbxfvf22zuhhuwhkrpzv7u',\n",
       "   'project_title': 'Increase PERP capTier from cap1 to cap2 ($1m -> $3m)',\n",
       "   'timestamp': '0x5b4f08ca654c1',\n",
       "   'total_budget': '0x1e',\n",
       "   'project_duration': '0x5',\n",
       "   'sponsor_address': 'hxe59539154a3d77023943c3bbd5fc3a081d697e6a',\n",
       "   'contributor_address': 'hx177b10efe3018961a405cc7c20ee811c552831a5',\n",
       "   'status': '_sponsor_pending',\n",
       "   'tx_hash': '5bc2294ef949f0de526851c8fbe15dde82cd11327be3adfd62dd68c1793ec7bf',\n",
       "   'percentage_completed': '0x0',\n",
       "   'sponsor_deposit_amount': '0x0',\n",
       "   'sponsored_timestamp': '0x0',\n",
       "   'sponsor_deposit_status': '',\n",
       "   'total_votes': '0x0',\n",
       "   'approved_votes': '0x0',\n",
       "   'rejected_votes': '0x0',\n",
       "   'total_voters': '0x0',\n",
       "   'approve_voters': '0x0',\n",
       "   'reject_voters': '0x0'}],\n",
       " 'count': '0x1'}"
      ]
     },
     "execution_count": 65,
     "metadata": {},
     "output_type": "execute_result"
    }
   ],
   "source": [
    "params = {\"_status\":\"_sponsor_pending\",\n",
    "          \"_sponsor_address\":'hxe59539154a3d77023943c3bbd5fc3a081d697e6a'}\n",
    "call = CallBuilder().from_(wallet.get_address())\\\n",
    "                    .to(contract_address)\\\n",
    "                    .method(\"get_sponsors_requests\")\\\n",
    "                    .params(params)\\\n",
    "                    .build()\n",
    "\n",
    "result = icon_service.call(call)\n",
    "result"
   ]
  },
  {
   "cell_type": "code",
   "execution_count": 96,
   "metadata": {},
   "outputs": [
    {
     "name": "stdout",
     "output_type": "stream",
     "text": [
      "0x76b376abe35fb39600691787045cd3119256a064b5be3cc0b4491aa0c0496b38\n"
     ]
    }
   ],
   "source": [
    "params = {}\n",
    "transaction = CallTransactionBuilder()\\\n",
    "    .from_(wallet.get_address())\\\n",
    "    .to(contract_address)\\\n",
    "    .step_limit(10000000)\\\n",
    "    .nid(3)\\\n",
    "    .nonce(100)\\\n",
    "    .method(\"unregister_prep\")\\\n",
    "    .params(params)\\\n",
    "    .build()\n",
    "signed_transaction = SignedTransaction(transaction, wallet)\n",
    "tx_hash = icon_service.send_transaction(signed_transaction)\n",
    "print(tx_hash)"
   ]
  },
  {
   "cell_type": "code",
   "execution_count": 276,
   "metadata": {},
   "outputs": [
    {
     "name": "stdout",
     "output_type": "stream",
     "text": [
      "0x26a51b74fe858e44ccf463dfa05275ece085fafe5bee46b24c0e13f163420caa\n"
     ]
    },
    {
     "name": "stderr",
     "output_type": "stream",
     "text": [
      "Raised JSONRPCException while returning the custom response. Error message: {'code': -32602, 'message': 'Pending transaction'}\n"
     ]
    },
    {
     "name": "stdout",
     "output_type": "stream",
     "text": [
      "{'code': -32602, 'message': 'Pending transaction'} (Json rpc error), Retrying in 1 seconds...\n"
     ]
    },
    {
     "name": "stderr",
     "output_type": "stream",
     "text": [
      "Raised JSONRPCException while returning the custom response. Error message: {'code': -32602, 'message': 'Pending transaction'}\n"
     ]
    },
    {
     "name": "stdout",
     "output_type": "stream",
     "text": [
      "{'code': -32602, 'message': 'Pending transaction'} (Json rpc error), Retrying in 2 seconds...\n"
     ]
    },
    {
     "data": {
      "text/plain": [
       "{'txHash': '0x26a51b74fe858e44ccf463dfa05275ece085fafe5bee46b24c0e13f163420caa',\n",
       " 'blockHeight': 9682363,\n",
       " 'blockHash': '0xbae91e28ebe7ce8c8d6bc5924ca974c54a3f6c43cb5f36fb85db82bc18fedacf',\n",
       " 'txIndex': 2,\n",
       " 'to': 'cx39a17d13e01538756e9649f80f0b6604a9e7bd39',\n",
       " 'stepUsed': 168320,\n",
       " 'stepPrice': 10000000000,\n",
       " 'cumulativeStepUsed': 656320,\n",
       " 'eventLogs': [],\n",
       " 'logsBloom': b'\\x00\\x00\\x00\\x00\\x00\\x00\\x00\\x00\\x00\\x00\\x00\\x00\\x00\\x00\\x00\\x00\\x00\\x00\\x00\\x00\\x00\\x00\\x00\\x00\\x00\\x00\\x00\\x00\\x00\\x00\\x00\\x00\\x00\\x00\\x00\\x00\\x00\\x00\\x00\\x00\\x00\\x00\\x00\\x00\\x00\\x00\\x00\\x00\\x00\\x00\\x00\\x00\\x00\\x00\\x00\\x00\\x00\\x00\\x00\\x00\\x00\\x00\\x00\\x00\\x00\\x00\\x00\\x00\\x00\\x00\\x00\\x00\\x00\\x00\\x00\\x00\\x00\\x00\\x00\\x00\\x00\\x00\\x00\\x00\\x00\\x00\\x00\\x00\\x00\\x00\\x00\\x00\\x00\\x00\\x00\\x00\\x00\\x00\\x00\\x00\\x00\\x00\\x00\\x00\\x00\\x00\\x00\\x00\\x00\\x00\\x00\\x00\\x00\\x00\\x00\\x00\\x00\\x00\\x00\\x00\\x00\\x00\\x00\\x00\\x00\\x00\\x00\\x00\\x00\\x00\\x00\\x00\\x00\\x00\\x00\\x00\\x00\\x00\\x00\\x00\\x00\\x00\\x00\\x00\\x00\\x00\\x00\\x00\\x00\\x00\\x00\\x00\\x00\\x00\\x00\\x00\\x00\\x00\\x00\\x00\\x00\\x00\\x00\\x00\\x00\\x00\\x00\\x00\\x00\\x00\\x00\\x00\\x00\\x00\\x00\\x00\\x00\\x00\\x00\\x00\\x00\\x00\\x00\\x00\\x00\\x00\\x00\\x00\\x00\\x00\\x00\\x00\\x00\\x00\\x00\\x00\\x00\\x00\\x00\\x00\\x00\\x00\\x00\\x00\\x00\\x00\\x00\\x00\\x00\\x00\\x00\\x00\\x00\\x00\\x00\\x00\\x00\\x00\\x00\\x00\\x00\\x00\\x00\\x00\\x00\\x00\\x00\\x00\\x00\\x00\\x00\\x00\\x00\\x00\\x00\\x00\\x00\\x00\\x00\\x00\\x00\\x00\\x00\\x00\\x00\\x00\\x00\\x00\\x00\\x00\\x00\\x00\\x00\\x00\\x00\\x00',\n",
       " 'status': 1}"
      ]
     },
     "execution_count": 276,
     "metadata": {},
     "output_type": "execute_result"
    }
   ],
   "source": [
    "params = {\"_name\":\"Prep3\",\"_address\":\"hxe59539154a3d77023943c3bbd5fc3a081d697e6a\", '_delegated':1800*10**18}\n",
    "transaction = CallTransactionBuilder()\\\n",
    "    .from_(wallet.get_address())\\\n",
    "    .to(contract_address)\\\n",
    "    .step_limit(10000000)\\\n",
    "    .nid(NID)\\\n",
    "    .nonce(NONCE)\\\n",
    "    .method(\"add_PReps\")\\\n",
    "    .params(params)\\\n",
    "    .build()\n",
    "signed_transaction = SignedTransaction(transaction, wallet)\n",
    "tx_hash = icon_service.send_transaction(signed_transaction)\n",
    "print(tx_hash)\n",
    "\n",
    "\n",
    "get_tx_result(tx_hash)"
   ]
  },
  {
   "cell_type": "code",
   "execution_count": 278,
   "metadata": {},
   "outputs": [
    {
     "data": {
      "text/plain": [
       "{'isPRep': '0x1'}"
      ]
     },
     "execution_count": 278,
     "metadata": {},
     "output_type": "execute_result"
    }
   ],
   "source": [
    "params = {\"_address\":\"hx23823847f593ecb65c9e1ea81a789b02766280e8\"}\n",
    "call = CallBuilder().from_(wallet.get_address())\\\n",
    "                    .to(contract_address)\\\n",
    "                    .method(\"login_prep\")\\\n",
    "                    .params(params)\\\n",
    "                    .build()\n",
    "\n",
    "result = icon_service.call(call)\n",
    "result"
   ]
  },
  {
   "cell_type": "code",
   "execution_count": 129,
   "metadata": {},
   "outputs": [
    {
     "name": "stdout",
     "output_type": "stream",
     "text": [
      "0x14760a9422374c9834f0d642207fb15ef3d50696575473901315c0a0b255e84e\n"
     ]
    },
    {
     "name": "stderr",
     "output_type": "stream",
     "text": [
      "Raised JSONRPCException while returning the custom response. Error message: {'code': -32602, 'message': 'Pending transaction'}\n"
     ]
    },
    {
     "name": "stdout",
     "output_type": "stream",
     "text": [
      "{'code': -32602, 'message': 'Pending transaction'} (Json rpc error), Retrying in 1 seconds...\n"
     ]
    },
    {
     "name": "stderr",
     "output_type": "stream",
     "text": [
      "Raised JSONRPCException while returning the custom response. Error message: {'code': -32602, 'message': 'Pending transaction'}\n"
     ]
    },
    {
     "name": "stdout",
     "output_type": "stream",
     "text": [
      "{'code': -32602, 'message': 'Pending transaction'} (Json rpc error), Retrying in 2 seconds...\n"
     ]
    },
    {
     "data": {
      "text/plain": [
       "{'txHash': '0x14760a9422374c9834f0d642207fb15ef3d50696575473901315c0a0b255e84e',\n",
       " 'blockHeight': 9665388,\n",
       " 'blockHash': '0x25b45e64046c1838f5dda91d1aed8d974faf82d11e4deea8b5a8b8365ac33981',\n",
       " 'txIndex': 1,\n",
       " 'to': 'cx9b8405d5b72d4794654c7724b0f1bca1a465474a',\n",
       " 'stepUsed': 171480,\n",
       " 'stepPrice': 10000000000,\n",
       " 'cumulativeStepUsed': 171480,\n",
       " 'eventLogs': [],\n",
       " 'logsBloom': b'\\x00\\x00\\x00\\x00\\x00\\x00\\x00\\x00\\x00\\x00\\x00\\x00\\x00\\x00\\x00\\x00\\x00\\x00\\x00\\x00\\x00\\x00\\x00\\x00\\x00\\x00\\x00\\x00\\x00\\x00\\x00\\x00\\x00\\x00\\x00\\x00\\x00\\x00\\x00\\x00\\x00\\x00\\x00\\x00\\x00\\x00\\x00\\x00\\x00\\x00\\x00\\x00\\x00\\x00\\x00\\x00\\x00\\x00\\x00\\x00\\x00\\x00\\x00\\x00\\x00\\x00\\x00\\x00\\x00\\x00\\x00\\x00\\x00\\x00\\x00\\x00\\x00\\x00\\x00\\x00\\x00\\x00\\x00\\x00\\x00\\x00\\x00\\x00\\x00\\x00\\x00\\x00\\x00\\x00\\x00\\x00\\x00\\x00\\x00\\x00\\x00\\x00\\x00\\x00\\x00\\x00\\x00\\x00\\x00\\x00\\x00\\x00\\x00\\x00\\x00\\x00\\x00\\x00\\x00\\x00\\x00\\x00\\x00\\x00\\x00\\x00\\x00\\x00\\x00\\x00\\x00\\x00\\x00\\x00\\x00\\x00\\x00\\x00\\x00\\x00\\x00\\x00\\x00\\x00\\x00\\x00\\x00\\x00\\x00\\x00\\x00\\x00\\x00\\x00\\x00\\x00\\x00\\x00\\x00\\x00\\x00\\x00\\x00\\x00\\x00\\x00\\x00\\x00\\x00\\x00\\x00\\x00\\x00\\x00\\x00\\x00\\x00\\x00\\x00\\x00\\x00\\x00\\x00\\x00\\x00\\x00\\x00\\x00\\x00\\x00\\x00\\x00\\x00\\x00\\x00\\x00\\x00\\x00\\x00\\x00\\x00\\x00\\x00\\x00\\x00\\x00\\x00\\x00\\x00\\x00\\x00\\x00\\x00\\x00\\x00\\x00\\x00\\x00\\x00\\x00\\x00\\x00\\x00\\x00\\x00\\x00\\x00\\x00\\x00\\x00\\x00\\x00\\x00\\x00\\x00\\x00\\x00\\x00\\x00\\x00\\x00\\x00\\x00\\x00\\x00\\x00\\x00\\x00\\x00\\x00\\x00\\x00\\x00\\x00\\x00\\x00',\n",
       " 'status': 1}"
      ]
     },
     "execution_count": 129,
     "metadata": {},
     "output_type": "execute_result"
    }
   ],
   "source": [
    "params = {\"_vote\": \"_approve\",\n",
    "\t\t\"_vote_reason\": \"<p>wow</p>\",\n",
    "\t\t\"_ipfs_key\": \"bafybeihmchjpitcdwocw33hsirib7mhufni7srvm6oujjrprserzze2aha\"}\n",
    "transaction = CallTransactionBuilder()\\\n",
    "    .from_(sdpwallet.get_address())\\\n",
    "    .to(contract_address)\\\n",
    "    .step_limit(10000000)\\\n",
    "    .nid(3)\\\n",
    "    .nonce(100)\\\n",
    "    .method(\"vote_proposal\")\\\n",
    "    .params(params)\\\n",
    "    .build()\n",
    "signed_transaction = SignedTransaction(transaction, sdpwallet)\n",
    "tx_hash = icon_service.send_transaction(signed_transaction)\n",
    "print(tx_hash)\n",
    "\n",
    "get_tx_result(tx_hash)"
   ]
  },
  {
   "cell_type": "code",
   "execution_count": 248,
   "metadata": {},
   "outputs": [
    {
     "data": {
      "text/plain": [
       "{'data': [{'address': 'hx2176d13280d465b68afbf7f9be758e966f654629',\n",
       "   'vote': '_approve'},\n",
       "  {'address': 'hx23823847f593ecb65c9e1ea81a789b02766280e8',\n",
       "   'vote': '_approve'},\n",
       "  {'address': 'hxe59539154a3d77023943c3bbd5fc3a081d697e6a',\n",
       "   'vote': '_approve'}],\n",
       " 'approve_voters': '0x3',\n",
       " 'reject_voters': '0x0',\n",
       " 'total_voters': '0x0',\n",
       " 'approved_votes': '0xad78ebc5ac62000000',\n",
       " 'rejected_votes': '0x0',\n",
       " 'total_votes': '0xad78ebc5ac62000000'}"
      ]
     },
     "execution_count": 248,
     "metadata": {},
     "output_type": "execute_result"
    }
   ],
   "source": [
    "params = {\"_ipfs_key\":\"bafybeievxtqufn47uuihweaginepx2mzsf6m5vxar7acmeo3rftiifz4hy\"}\n",
    "call = CallBuilder().from_(wallet.get_address())\\\n",
    "                    .to(contract_address)\\\n",
    "                    .method(\"get_vote_result\")\\\n",
    "                    .params(params)\\\n",
    "                    .build()\n",
    "\n",
    "result = icon_service.call(call)\n",
    "result"
   ]
  },
  {
   "cell_type": "code",
   "execution_count": 10,
   "metadata": {},
   "outputs": [
    {
     "data": {
      "text/plain": [
       "{'data': [{'address': 'hxe59539154a3d77023943c3bbd5fc3a081d697e6a',\n",
       "   'vote': '_approve'}],\n",
       " 'approve_voters': '0x1',\n",
       " 'reject_voters': '0x0',\n",
       " 'total_voters': '0x4',\n",
       " 'approved_votes': '0x6194049f30f7200000',\n",
       " 'rejected_votes': '0x0',\n",
       " 'total_votes': '0x6194049f30f7200000'}"
      ]
     },
     "execution_count": 10,
     "metadata": {},
     "output_type": "execute_result"
    }
   ],
   "source": [
    "call = CallBuilder().from_(wallet.get_address())\\\n",
    "                    .to(contract_address)\\\n",
    "                    .method(\"get_progress_report_result\")\\\n",
    "                    .params({\"_report_key\":\"bafybeicyh77j4zk6tgalerp7lrw4gqstxjgilyvgdiou5bnjjjdaxgigv4\"})\\\n",
    "                    .build()\n",
    "\n",
    "result = icon_service.call(call)\n",
    "result"
   ]
  },
  {
   "cell_type": "code",
   "execution_count": 29,
   "metadata": {},
   "outputs": [
    {
     "data": {
      "text/plain": [
       "{'-1': 'cx39a17d13e01538756e9649f80f0b6604a9e7bd39 : -> Not a valid status'}"
      ]
     },
     "execution_count": 29,
     "metadata": {},
     "output_type": "execute_result"
    }
   ],
   "source": [
    "params = {\"_status\":\"_rejected\"}\n",
    "call = CallBuilder().from_(wallet.get_address())\\\n",
    "                    .to(contract_address)\\\n",
    "                    .method(\"get_progress_reports\")\\\n",
    "                    .params(params)\\\n",
    "                    .build()\n",
    "\n",
    "result = icon_service.call(call)\n",
    "result"
   ]
  },
  {
   "cell_type": "code",
   "execution_count": 22,
   "metadata": {},
   "outputs": [
    {
     "data": {
      "text/plain": [
       "{'data': [{'ipfs_hash': 'bafybeigkpcgetxpdxc7hplfit3oii6hr5stdwjrgzsnk2sbfp4tqdm4ary',\n",
       "   'report_hash': 'bafybeiafr4khsb44tmqhbemjkzul6v4fgygpw7i6zsog3ajvnuwtpibwpe',\n",
       "   'progress_report_title': 'Progress Report I',\n",
       "   'timestamp': '0x5b511d468722c',\n",
       "   'additional_budget': '0x0',\n",
       "   'additional_month': '0x0',\n",
       "   'status': '_rejected',\n",
       "   'tx_hash': 'cd3c3ec00bc9014a5c8eebe196695f7d681956c288a5e3dfbb886a81d79a9174',\n",
       "   'budget_adjustment': '0x0',\n",
       "   'total_votes': '0x0',\n",
       "   'approved_votes': '0x0',\n",
       "   'rejected_votes': '0x0',\n",
       "   'total_voters': '0x0',\n",
       "   'approve_voters': '0x0',\n",
       "   'reject_voters': '0x0',\n",
       "   'budget_approved_votes': '0x0',\n",
       "   'budget_rejected_votes': '0x0',\n",
       "   'budget_approve_voters': '0x0',\n",
       "   'budget_reject_voters': '0x0',\n",
       "   'project_title': 'Hello World',\n",
       "   'contributor_address': 'hxeee0810ddcacba64f26dc288f002861527fa7636'}],\n",
       " 'count': '0x1'}"
      ]
     },
     "execution_count": 22,
     "metadata": {},
     "output_type": "execute_result"
    }
   ],
   "source": [
    "params = {\"_ipfs_key\":\"bafybeigkpcgetxpdxc7hplfit3oii6hr5stdwjrgzsnk2sbfp4tqdm4ary\"}\n",
    "call = CallBuilder().from_(wallet.get_address())\\\n",
    "                    .to(contract_address)\\\n",
    "                    .method(\"get_progress_reports_by_proposal\")\\\n",
    "                    .params(params)\\\n",
    "                    .build()\n",
    "\n",
    "result = icon_service.call(call)\n",
    "result"
   ]
  },
  {
   "cell_type": "code",
   "execution_count": 17,
   "metadata": {},
   "outputs": [
    {
     "name": "stdout",
     "output_type": "stream",
     "text": [
      "0x962f8156abe22c77712137d5310768138fb57db62830a27097840d9acdf26c9f\n"
     ]
    },
    {
     "name": "stderr",
     "output_type": "stream",
     "text": [
      "Raised JSONRPCException while returning the custom response. Error message: {'code': -32602, 'message': 'Pending transaction'}\n"
     ]
    },
    {
     "name": "stdout",
     "output_type": "stream",
     "text": [
      "{'code': -32602, 'message': 'Pending transaction'} (Json rpc error), Retrying in 1 seconds...\n"
     ]
    },
    {
     "name": "stderr",
     "output_type": "stream",
     "text": [
      "Raised JSONRPCException while returning the custom response. Error message: {'code': -32602, 'message': 'Pending transaction'}\n"
     ]
    },
    {
     "name": "stdout",
     "output_type": "stream",
     "text": [
      "{'code': -32602, 'message': 'Pending transaction'} (Json rpc error), Retrying in 2 seconds...\n"
     ]
    },
    {
     "data": {
      "text/plain": [
       "{'txHash': '0x962f8156abe22c77712137d5310768138fb57db62830a27097840d9acdf26c9f',\n",
       " 'blockHeight': 9948112,\n",
       " 'blockHash': '0xf3ec6b7981560860b8525596f8447953775e4f04a29ed39d789d333c5a4518cf',\n",
       " 'txIndex': 1,\n",
       " 'to': 'cx39a17d13e01538756e9649f80f0b6604a9e7bd39',\n",
       " 'stepUsed': 147520,\n",
       " 'stepPrice': 10000000000,\n",
       " 'cumulativeStepUsed': 147520,\n",
       " 'eventLogs': [],\n",
       " 'logsBloom': b'\\x00\\x00\\x00\\x00\\x00\\x00\\x00\\x00\\x00\\x00\\x00\\x00\\x00\\x00\\x00\\x00\\x00\\x00\\x00\\x00\\x00\\x00\\x00\\x00\\x00\\x00\\x00\\x00\\x00\\x00\\x00\\x00\\x00\\x00\\x00\\x00\\x00\\x00\\x00\\x00\\x00\\x00\\x00\\x00\\x00\\x00\\x00\\x00\\x00\\x00\\x00\\x00\\x00\\x00\\x00\\x00\\x00\\x00\\x00\\x00\\x00\\x00\\x00\\x00\\x00\\x00\\x00\\x00\\x00\\x00\\x00\\x00\\x00\\x00\\x00\\x00\\x00\\x00\\x00\\x00\\x00\\x00\\x00\\x00\\x00\\x00\\x00\\x00\\x00\\x00\\x00\\x00\\x00\\x00\\x00\\x00\\x00\\x00\\x00\\x00\\x00\\x00\\x00\\x00\\x00\\x00\\x00\\x00\\x00\\x00\\x00\\x00\\x00\\x00\\x00\\x00\\x00\\x00\\x00\\x00\\x00\\x00\\x00\\x00\\x00\\x00\\x00\\x00\\x00\\x00\\x00\\x00\\x00\\x00\\x00\\x00\\x00\\x00\\x00\\x00\\x00\\x00\\x00\\x00\\x00\\x00\\x00\\x00\\x00\\x00\\x00\\x00\\x00\\x00\\x00\\x00\\x00\\x00\\x00\\x00\\x00\\x00\\x00\\x00\\x00\\x00\\x00\\x00\\x00\\x00\\x00\\x00\\x00\\x00\\x00\\x00\\x00\\x00\\x00\\x00\\x00\\x00\\x00\\x00\\x00\\x00\\x00\\x00\\x00\\x00\\x00\\x00\\x00\\x00\\x00\\x00\\x00\\x00\\x00\\x00\\x00\\x00\\x00\\x00\\x00\\x00\\x00\\x00\\x00\\x00\\x00\\x00\\x00\\x00\\x00\\x00\\x00\\x00\\x00\\x00\\x00\\x00\\x00\\x00\\x00\\x00\\x00\\x00\\x00\\x00\\x00\\x00\\x00\\x00\\x00\\x00\\x00\\x00\\x00\\x00\\x00\\x00\\x00\\x00\\x00\\x00\\x00\\x00\\x00\\x00\\x00\\x00\\x00\\x00\\x00\\x00',\n",
       " 'status': 1}"
      ]
     },
     "execution_count": 17,
     "metadata": {},
     "output_type": "execute_result"
    }
   ],
   "source": [
    "params = {\"_block_height\":\"0x396abb\"}\n",
    "transaction = CallTransactionBuilder()\\\n",
    "    .from_(wallet.get_address())\\\n",
    "    .to(contract_address)\\\n",
    "    .step_limit(10000000)\\\n",
    "    .nid(NID)\\\n",
    "    .nonce(NONCE)\\\n",
    "    .method(\"set_initialBlock\")\\\n",
    "    .params(params)\\\n",
    "    .build()\n",
    "signed_transaction = SignedTransaction(transaction, wallet)\n",
    "tx_hash = icon_service.send_transaction(signed_transaction)\n",
    "print(tx_hash)\n",
    "\n",
    "get_tx_result(tx_hash)"
   ]
  },
  {
   "cell_type": "code",
   "execution_count": 269,
   "metadata": {},
   "outputs": [
    {
     "name": "stdout",
     "output_type": "stream",
     "text": [
      "0xaa217b40da52f9b192bbf529b272325e061184b1eaae897a5531d0ecc845603a\n"
     ]
    },
    {
     "name": "stderr",
     "output_type": "stream",
     "text": [
      "Raised JSONRPCException while returning the custom response. Error message: {'code': -32602, 'message': 'Pending transaction'}\n"
     ]
    },
    {
     "name": "stdout",
     "output_type": "stream",
     "text": [
      "{'code': -32602, 'message': 'Pending transaction'} (Json rpc error), Retrying in 1 seconds...\n"
     ]
    },
    {
     "name": "stderr",
     "output_type": "stream",
     "text": [
      "Raised JSONRPCException while returning the custom response. Error message: {'code': -32602, 'message': 'Pending transaction'}\n"
     ]
    },
    {
     "name": "stdout",
     "output_type": "stream",
     "text": [
      "{'code': -32602, 'message': 'Pending transaction'} (Json rpc error), Retrying in 2 seconds...\n"
     ]
    },
    {
     "data": {
      "text/plain": [
       "{'txHash': '0xaa217b40da52f9b192bbf529b272325e061184b1eaae897a5531d0ecc845603a',\n",
       " 'blockHeight': 9682273,\n",
       " 'blockHash': '0x1cfc09fe9986fbffe9fd7c7616a0541dc04535e97cb493775e6903b0d3fca77d',\n",
       " 'txIndex': 1,\n",
       " 'to': 'cx39a17d13e01538756e9649f80f0b6604a9e7bd39',\n",
       " 'stepUsed': 149920,\n",
       " 'stepPrice': 10000000000,\n",
       " 'cumulativeStepUsed': 149920,\n",
       " 'eventLogs': [],\n",
       " 'logsBloom': b'\\x00\\x00\\x00\\x00\\x00\\x00\\x00\\x00\\x00\\x00\\x00\\x00\\x00\\x00\\x00\\x00\\x00\\x00\\x00\\x00\\x00\\x00\\x00\\x00\\x00\\x00\\x00\\x00\\x00\\x00\\x00\\x00\\x00\\x00\\x00\\x00\\x00\\x00\\x00\\x00\\x00\\x00\\x00\\x00\\x00\\x00\\x00\\x00\\x00\\x00\\x00\\x00\\x00\\x00\\x00\\x00\\x00\\x00\\x00\\x00\\x00\\x00\\x00\\x00\\x00\\x00\\x00\\x00\\x00\\x00\\x00\\x00\\x00\\x00\\x00\\x00\\x00\\x00\\x00\\x00\\x00\\x00\\x00\\x00\\x00\\x00\\x00\\x00\\x00\\x00\\x00\\x00\\x00\\x00\\x00\\x00\\x00\\x00\\x00\\x00\\x00\\x00\\x00\\x00\\x00\\x00\\x00\\x00\\x00\\x00\\x00\\x00\\x00\\x00\\x00\\x00\\x00\\x00\\x00\\x00\\x00\\x00\\x00\\x00\\x00\\x00\\x00\\x00\\x00\\x00\\x00\\x00\\x00\\x00\\x00\\x00\\x00\\x00\\x00\\x00\\x00\\x00\\x00\\x00\\x00\\x00\\x00\\x00\\x00\\x00\\x00\\x00\\x00\\x00\\x00\\x00\\x00\\x00\\x00\\x00\\x00\\x00\\x00\\x00\\x00\\x00\\x00\\x00\\x00\\x00\\x00\\x00\\x00\\x00\\x00\\x00\\x00\\x00\\x00\\x00\\x00\\x00\\x00\\x00\\x00\\x00\\x00\\x00\\x00\\x00\\x00\\x00\\x00\\x00\\x00\\x00\\x00\\x00\\x00\\x00\\x00\\x00\\x00\\x00\\x00\\x00\\x00\\x00\\x00\\x00\\x00\\x00\\x00\\x00\\x00\\x00\\x00\\x00\\x00\\x00\\x00\\x00\\x00\\x00\\x00\\x00\\x00\\x00\\x00\\x00\\x00\\x00\\x00\\x00\\x00\\x00\\x00\\x00\\x00\\x00\\x00\\x00\\x00\\x00\\x00\\x00\\x00\\x00\\x00\\x00\\x00\\x00\\x00\\x00\\x00\\x00',\n",
       " 'status': 1}"
      ]
     },
     "execution_count": 269,
     "metadata": {},
     "output_type": "execute_result"
    }
   ],
   "source": [
    "params = {\"_score\":\"cxde3a59c58dcbffcd68d5a457458d72f0bc4390f9\"}\n",
    "transaction = CallTransactionBuilder()\\\n",
    "    .from_(wallet.get_address())\\\n",
    "    .to(contract_address)\\\n",
    "    .step_limit(10000000)\\\n",
    "    .nid(NID)\\\n",
    "    .nonce(100)\\\n",
    "    .method(\"set_cpf_score\")\\\n",
    "    .params(params)\\\n",
    "    .build()\n",
    "signed_transaction = SignedTransaction(transaction, wallet)\n",
    "tx_hash = icon_service.send_transaction(signed_transaction)\n",
    "print(tx_hash)\n",
    "\n",
    "get_tx_result(tx_hash)"
   ]
  },
  {
   "cell_type": "code",
   "execution_count": 270,
   "metadata": {},
   "outputs": [
    {
     "name": "stdout",
     "output_type": "stream",
     "text": [
      "0x65b4cbb535f889d1e7b255331e0b9a584290733cf42c37bedbea62c39ed7de85\n"
     ]
    },
    {
     "name": "stderr",
     "output_type": "stream",
     "text": [
      "Raised JSONRPCException while returning the custom response. Error message: {'code': -32602, 'message': 'Pending transaction'}\n"
     ]
    },
    {
     "name": "stdout",
     "output_type": "stream",
     "text": [
      "{'code': -32602, 'message': 'Pending transaction'} (Json rpc error), Retrying in 1 seconds...\n"
     ]
    },
    {
     "name": "stderr",
     "output_type": "stream",
     "text": [
      "Raised JSONRPCException while returning the custom response. Error message: {'code': -32602, 'message': 'Pending transaction'}\n"
     ]
    },
    {
     "name": "stdout",
     "output_type": "stream",
     "text": [
      "{'code': -32602, 'message': 'Pending transaction'} (Json rpc error), Retrying in 2 seconds...\n"
     ]
    },
    {
     "data": {
      "text/plain": [
       "{'txHash': '0x65b4cbb535f889d1e7b255331e0b9a584290733cf42c37bedbea62c39ed7de85',\n",
       " 'blockHeight': 9682276,\n",
       " 'blockHash': '0x1c324d71f83b97ccd35cad70e881a68c8b97d0d86268652c05e5ba1fd87f1419',\n",
       " 'txIndex': 2,\n",
       " 'to': 'cx39a17d13e01538756e9649f80f0b6604a9e7bd39',\n",
       " 'stepUsed': 151720,\n",
       " 'stepPrice': 10000000000,\n",
       " 'cumulativeStepUsed': 639720,\n",
       " 'eventLogs': [],\n",
       " 'logsBloom': b'\\x00\\x00\\x00\\x00\\x00\\x00\\x00\\x00\\x00\\x00\\x00\\x00\\x00\\x00\\x00\\x00\\x00\\x00\\x00\\x00\\x00\\x00\\x00\\x00\\x00\\x00\\x00\\x00\\x00\\x00\\x00\\x00\\x00\\x00\\x00\\x00\\x00\\x00\\x00\\x00\\x00\\x00\\x00\\x00\\x00\\x00\\x00\\x00\\x00\\x00\\x00\\x00\\x00\\x00\\x00\\x00\\x00\\x00\\x00\\x00\\x00\\x00\\x00\\x00\\x00\\x00\\x00\\x00\\x00\\x00\\x00\\x00\\x00\\x00\\x00\\x00\\x00\\x00\\x00\\x00\\x00\\x00\\x00\\x00\\x00\\x00\\x00\\x00\\x00\\x00\\x00\\x00\\x00\\x00\\x00\\x00\\x00\\x00\\x00\\x00\\x00\\x00\\x00\\x00\\x00\\x00\\x00\\x00\\x00\\x00\\x00\\x00\\x00\\x00\\x00\\x00\\x00\\x00\\x00\\x00\\x00\\x00\\x00\\x00\\x00\\x00\\x00\\x00\\x00\\x00\\x00\\x00\\x00\\x00\\x00\\x00\\x00\\x00\\x00\\x00\\x00\\x00\\x00\\x00\\x00\\x00\\x00\\x00\\x00\\x00\\x00\\x00\\x00\\x00\\x00\\x00\\x00\\x00\\x00\\x00\\x00\\x00\\x00\\x00\\x00\\x00\\x00\\x00\\x00\\x00\\x00\\x00\\x00\\x00\\x00\\x00\\x00\\x00\\x00\\x00\\x00\\x00\\x00\\x00\\x00\\x00\\x00\\x00\\x00\\x00\\x00\\x00\\x00\\x00\\x00\\x00\\x00\\x00\\x00\\x00\\x00\\x00\\x00\\x00\\x00\\x00\\x00\\x00\\x00\\x00\\x00\\x00\\x00\\x00\\x00\\x00\\x00\\x00\\x00\\x00\\x00\\x00\\x00\\x00\\x00\\x00\\x00\\x00\\x00\\x00\\x00\\x00\\x00\\x00\\x00\\x00\\x00\\x00\\x00\\x00\\x00\\x00\\x00\\x00\\x00\\x00\\x00\\x00\\x00\\x00\\x00\\x00\\x00\\x00\\x00\\x00',\n",
       " 'status': 1}"
      ]
     },
     "execution_count": 270,
     "metadata": {},
     "output_type": "execute_result"
    }
   ],
   "source": [
    "params = {\"_score\":\"cxe84a858b16f16a9ce60dc54bb74d4286e538c0bf\"}\n",
    "transaction = CallTransactionBuilder()\\\n",
    "    .from_(wallet.get_address())\\\n",
    "    .to(contract_address)\\\n",
    "    .step_limit(10000000)\\\n",
    "    .nid(NID)\\\n",
    "    .nonce(100)\\\n",
    "    .method(\"set_cps_treasury_score\")\\\n",
    "    .params(params)\\\n",
    "    .build()\n",
    "signed_transaction = SignedTransaction(transaction, wallet)\n",
    "tx_hash = icon_service.send_transaction(signed_transaction)\n",
    "print(tx_hash)\n",
    "\n",
    "get_tx_result(tx_hash)"
   ]
  },
  {
   "cell_type": "code",
   "execution_count": 13,
   "metadata": {},
   "outputs": [
    {
     "data": {
      "text/plain": [
       "{'current_block': '0x97bdbe',\n",
       " 'next_block': '0x97b079',\n",
       " 'remaining_time': '0x0',\n",
       " 'period_name': 'Voting Period',\n",
       " 'period_span': '0x258'}"
      ]
     },
     "execution_count": 13,
     "metadata": {},
     "output_type": "execute_result"
    }
   ],
   "source": [
    "params = {}\n",
    "call = CallBuilder().from_(wallet.get_address())\\\n",
    "                    .to(contract_address)\\\n",
    "                    .method(\"get_period_status\")\\\n",
    "                    .params(params)\\\n",
    "                    .build()\n",
    "\n",
    "result = icon_service.call(call)\n",
    "result"
   ]
  },
  {
   "cell_type": "code",
   "execution_count": 14,
   "metadata": {},
   "outputs": [
    {
     "name": "stdout",
     "output_type": "stream",
     "text": [
      "0x4140637f62853ae603290284840c5cea6e0421640bb7b8d39e7bfc843dc3e9cd\n"
     ]
    },
    {
     "name": "stderr",
     "output_type": "stream",
     "text": [
      "Raised JSONRPCException while returning the custom response. Error message: {'code': -32602, 'message': 'Pending transaction'}\n"
     ]
    },
    {
     "name": "stdout",
     "output_type": "stream",
     "text": [
      "{'code': -32602, 'message': 'Pending transaction'} (Json rpc error), Retrying in 1 seconds...\n"
     ]
    },
    {
     "name": "stderr",
     "output_type": "stream",
     "text": [
      "Raised JSONRPCException while returning the custom response. Error message: {'code': -32602, 'message': 'Pending transaction'}\n"
     ]
    },
    {
     "name": "stdout",
     "output_type": "stream",
     "text": [
      "{'code': -32602, 'message': 'Pending transaction'} (Json rpc error), Retrying in 2 seconds...\n"
     ]
    },
    {
     "data": {
      "text/plain": [
       "{'txHash': '0x4140637f62853ae603290284840c5cea6e0421640bb7b8d39e7bfc843dc3e9cd',\n",
       " 'blockHeight': 9944514,\n",
       " 'blockHash': '0x5c00ff07700d34a6b13fa20dc7192122521ca12ce8c2d817da3d29070f2464bd',\n",
       " 'txIndex': 1,\n",
       " 'to': 'cx39a17d13e01538756e9649f80f0b6604a9e7bd39',\n",
       " 'stepUsed': 282280,\n",
       " 'stepPrice': 10000000000,\n",
       " 'cumulativeStepUsed': 282280,\n",
       " 'eventLogs': [{'scoreAddress': 'cxe84a858b16f16a9ce60dc54bb74d4286e538c0bf',\n",
       "   'indexed': ['ICXTransfer(Address,Address,int)',\n",
       "    'cxe84a858b16f16a9ce60dc54bb74d4286e538c0bf',\n",
       "    'cxde3a59c58dcbffcd68d5a457458d72f0bc4390f9',\n",
       "    '0x214e8348c4f00000'],\n",
       "   'data': []},\n",
       "  {'scoreAddress': 'cxde3a59c58dcbffcd68d5a457458d72f0bc4390f9',\n",
       "   'indexed': ['ProposalDisqualified(str,str)',\n",
       "    'bafybeigrlxuip3cfwfvxpnpuk43yzteg5o6lyln6vhe6gysg7fhq4bqxmi',\n",
       "    'Proposal disqualified'],\n",
       "   'data': []},\n",
       "  {'scoreAddress': 'cxe84a858b16f16a9ce60dc54bb74d4286e538c0bf',\n",
       "   'indexed': ['ProposalDisqualified(str,str)',\n",
       "    'bafybeigrlxuip3cfwfvxpnpuk43yzteg5o6lyln6vhe6gysg7fhq4bqxmi',\n",
       "    'Proposal disqualified'],\n",
       "   'data': []},\n",
       "  {'scoreAddress': 'cx39a17d13e01538756e9649f80f0b6604a9e7bd39',\n",
       "   'indexed': ['ICXTransfer(Address,Address,int)',\n",
       "    'cx39a17d13e01538756e9649f80f0b6604a9e7bd39',\n",
       "    'cxde3a59c58dcbffcd68d5a457458d72f0bc4390f9',\n",
       "    '0xa688906bd8b00000'],\n",
       "   'data': []},\n",
       "  {'scoreAddress': 'cxde3a59c58dcbffcd68d5a457458d72f0bc4390f9',\n",
       "   'indexed': ['FundReturned(Address,Address,str)',\n",
       "    'cxde3a59c58dcbffcd68d5a457458d72f0bc4390f9',\n",
       "    'hx23823847f593ecb65c9e1ea81a789b02766280e8',\n",
       "    'Sponsor Bond Returned to Treasury.'],\n",
       "   'data': []},\n",
       "  {'scoreAddress': 'cx39a17d13e01538756e9649f80f0b6604a9e7bd39',\n",
       "   'indexed': ['SponsorBondReturned(Address,Address,str)',\n",
       "    'cx39a17d13e01538756e9649f80f0b6604a9e7bd39',\n",
       "    'cxde3a59c58dcbffcd68d5a457458d72f0bc4390f9',\n",
       "    'Project Disqualified. 12 ICX returned to CPF Treasury Address.'],\n",
       "   'data': []},\n",
       "  {'scoreAddress': 'cx39a17d13e01538756e9649f80f0b6604a9e7bd39',\n",
       "   'indexed': ['PeriodUpdate(Address,str)',\n",
       "    'cx39a17d13e01538756e9649f80f0b6604a9e7bd39',\n",
       "    'Period Updated to Application Period.'],\n",
       "   'data': []}],\n",
       " 'logsBloom': b'\\x00\\x00\\x00\\x00\\x00\\x10\\x00\\x00\\x00\\x00\\x00\\x01@\\x00\\x00\\x00\\x00\\x00\\x02\\x00\\x00\\x00\\x00\\x00\\x00\\x00\\x00\\x08\\x00\\x00\\x00\\x00\\x00\\x00\\x00\\x00\\x00\\x00\\x01\\x00\\x00\\x00\\x00\\x00\\x00\\x00\\x08\\x00\\x04\\x00\\x00\\x00\\x00\\x80\\x00\\x00\\x00\\x00\\x08\\x00\\x00\\x00\\x00\\x00 \\x00\\x00\\x00\\x00\\x10@\\x00\\x02\\x00 \\x00\\x00\\x00\\x00\\x10\\x00\\x00\\x00\\x00\\x00\\x00\\x00\\x00\\x00\\x00@\\x00\\x11`\\x00\\x00\\x00\\x00\\x00\\x08\\x00\\x00\\x00\\x00\\x00\\x00\\x00\\x00\\x00\\x00\\x00\\x00\\x00\\x00\\x00\\x00\\x01\\x00\\x00\\x00\\x00\\x00\\x00\\x00\\x00\\x00\\x00\\x00\\x00\\x02\\x00\\x00\\x00\\x00\\x02\\x00\\x00\\x00\\x00\\x80\\x00\\x00\\x08@\\x00\\x00\\x00\\x00\\x00\\x01\\x00\\x02\\x00\\x80\\x00 \\x00\\x18\\x80\\x10\\x00\\x00\\x00\\x00\\x00\\x00\\x00\\x00$\\x00\\x00\\x02\\x00\\x00A\\x00\\x00\\x00\\x04\\x00\\x00\\x00\\x00\\x00\\x08\\x10\\x00\\x00\\x00\\x00\\x00\\x00\\x00@\\x00\\x00\\x00\\x00\\x00\\x08\\x00\\x00\\x00\\x00\\x00\\x00\\x04\\x02@\\x00\\x00\\x00\\x00\\x00\\x00\\x00$\\x00\\x00\\x00\\x00\\x00\\x00\\x00\\x00\\x00\\x00\\x00\\x00\\x00\\x00\\x04\\x00\\x00\\x00\\x00\\x00\\x00\\x00\\x10\\x02\\x00\\x00\\x04\\x00\\x00\\x00B\\x00\\x00\\x00\\x00\\x00\\x00\\x00\\t',\n",
       " 'status': 1}"
      ]
     },
     "execution_count": 14,
     "metadata": {},
     "output_type": "execute_result"
    }
   ],
   "source": [
    "params = {}\n",
    "transaction = CallTransactionBuilder()\\\n",
    "    .from_(wallet.get_address())\\\n",
    "    .to(contract_address)\\\n",
    "    .step_limit(10000000)\\\n",
    "    .nid(NID)\\\n",
    "    .nonce(NONCE)\\\n",
    "    .method(\"update_period\")\\\n",
    "    .params(params)\\\n",
    "    .build()\n",
    "signed_transaction = SignedTransaction(transaction, wallet)\n",
    "tx_hash = icon_service.send_transaction(signed_transaction)\n",
    "print(tx_hash)\n",
    "\n",
    "get_tx_result(tx_hash)"
   ]
  },
  {
   "cell_type": "code",
   "execution_count": 16,
   "metadata": {},
   "outputs": [
    {
     "data": {
      "text/plain": [
       "{'version': 3,\n",
       " 'from': 'hx177b10efe3018961a405cc7c20ee811c552831a5',\n",
       " 'to': 'cx39a17d13e01538756e9649f80f0b6604a9e7bd39',\n",
       " 'stepLimit': 10000000,\n",
       " 'timestamp': 1606493955078479,\n",
       " 'nid': 3,\n",
       " 'nonce': 100,\n",
       " 'dataType': 'call',\n",
       " 'data': {'method': 'update_period'},\n",
       " 'signature': '3vAraddbFQRrQwguXXmPB8UT8/wooTEG0/DqC+AsGwZFCK+TUKN4dTvTvCMgOsxZkUUI4z7kD4/AulLUFhMJ/gA=',\n",
       " 'txHash': '0x02b723086c9e21fa1e464b3cafe133c1685ddd9354ad395661275a86cdc352f6',\n",
       " 'txIndex': 1,\n",
       " 'blockHeight': 9733780,\n",
       " 'blockHash': '0xb0527ccf43ea9e5f6104a8e3dc7c9c0cc67a1ce84ea06d9b865699ecd83ccec3'}"
      ]
     },
     "execution_count": 16,
     "metadata": {},
     "output_type": "execute_result"
    }
   ],
   "source": [
    "get_txn_result(\"0x02b723086c9e21fa1e464b3cafe133c1685ddd9354ad395661275a86cdc352f6\")"
   ]
  },
  {
   "cell_type": "code",
   "execution_count": 165,
   "metadata": {},
   "outputs": [
    {
     "data": {
      "text/plain": [
       "{'_pending': {'_total_amount': '0x0', '_count': '0x0'},\n",
       " '_active': {'_total_amount': '0x1e', '_count': '0x1'},\n",
       " '_paused': {'_total_amount': '0x32', '_count': '0x1'},\n",
       " '_completed': {'_total_amount': '0x0', '_count': '0x0'},\n",
       " '_disqualified': {'_total_amount': '0x0', '_count': '0x0'}}"
      ]
     },
     "execution_count": 165,
     "metadata": {},
     "output_type": "execute_result"
    }
   ],
   "source": [
    "params = {}\n",
    "call = CallBuilder().from_(wallet.get_address())\\\n",
    "                    .to(contract_address)\\\n",
    "                    .method(\"get_project_amounts\")\\\n",
    "                    .params(params)\\\n",
    "                    .build()\n",
    "\n",
    "result = icon_service.call(call)\n",
    "result"
   ]
  },
  {
   "cell_type": "code",
   "execution_count": 164,
   "metadata": {},
   "outputs": [
    {
     "data": {
      "text/plain": [
       "[]"
      ]
     },
     "execution_count": 164,
     "metadata": {},
     "output_type": "execute_result"
    }
   ],
   "source": [
    "params = {}\n",
    "call = CallBuilder().from_(wallet.get_address())\\\n",
    "                    .to(contract_address)\\\n",
    "                    .method(\"get_denylist\")\\\n",
    "                    .params(params)\\\n",
    "                    .build()\n",
    "\n",
    "result = icon_service.call(call)\n",
    "result"
   ]
  },
  {
   "cell_type": "code",
   "execution_count": 26,
   "metadata": {},
   "outputs": [
    {
     "data": {
      "text/plain": [
       "{'hx23823847f593ecb65c9e1ea81a789b02766280e8': '0x1'}"
      ]
     },
     "execution_count": 26,
     "metadata": {},
     "output_type": "execute_result"
    }
   ],
   "source": [
    "params = {}\n",
    "call = CallBuilder().from_(wallet.get_address())\\\n",
    "                    .to(contract_address)\\\n",
    "                    .method(\"get_sponsors_record\")\\\n",
    "                    .params(params)\\\n",
    "                    .build()\n",
    "\n",
    "result = icon_service.call(call)\n",
    "result"
   ]
  },
  {
   "cell_type": "code",
   "execution_count": 11,
   "metadata": {},
   "outputs": [
    {
     "data": {
      "text/plain": [
       "[]"
      ]
     },
     "execution_count": 11,
     "metadata": {},
     "output_type": "execute_result"
    }
   ],
   "source": [
    "call = CallBuilder().from_(wallet.get_address())\\\n",
    "                    .to(contract_address)\\\n",
    "                    .method(\"get_contributors\")\\\n",
    "                    .params({})\\\n",
    "                    .build()\n",
    "\n",
    "result = icon_service.call(call)\n",
    "result"
   ]
  },
  {
   "cell_type": "code",
   "execution_count": 217,
   "metadata": {},
   "outputs": [
    {
     "data": {
      "text/plain": [
       "{'-1': 'Wallet Address not associated.'}"
      ]
     },
     "execution_count": 217,
     "metadata": {},
     "output_type": "execute_result"
    }
   ],
   "source": [
    "params = {\"_wallet_address\": \"hx215757b0edf862d2e4c10a0677b4b6944724c724\"}\n",
    "call = CallBuilder().from_(wallet.get_address())\\\n",
    "                    .to(contract_address)\\\n",
    "                    .method(\"get_projected_fund\")\\\n",
    "                    .params(params)\\\n",
    "                    .build()\n",
    "\n",
    "result = icon_service.call(call)\n",
    "result"
   ]
  },
  {
   "cell_type": "code",
   "execution_count": 227,
   "metadata": {},
   "outputs": [
    {
     "data": {
      "text/plain": [
       "[]"
      ]
     },
     "execution_count": 227,
     "metadata": {},
     "output_type": "execute_result"
    }
   ],
   "source": [
    "params = {\"_project_type\":\"progress_report\",\"_wallet_address\": \"hx2176d13280d465b68afbf7f9be758e966f654629\"}\n",
    "call = CallBuilder().from_(wallet.get_address())\\\n",
    "                    .to(contract_address)\\\n",
    "                    .method(\"get_remaining_project\")\\\n",
    "                    .params(params)\\\n",
    "                    .build()\n",
    "\n",
    "result = icon_service.call(call)\n",
    "result"
   ]
  },
  {
   "cell_type": "code",
   "execution_count": 283,
   "metadata": {},
   "outputs": [
    {
     "data": {
      "text/plain": [
       "{'data': [{'ipfs_hash': 'bafybeigkpcgetxpdxc7hplfit3oii6hr5stdwjrgzsnk2sbfp4tqdm4ary',\n",
       "   'project_title': 'Hello World',\n",
       "   'timestamp': '0x5b510b0282964',\n",
       "   'total_budget': '0x64',\n",
       "   'project_duration': '0x4',\n",
       "   'sponsor_address': 'hx2176d13280d465b68afbf7f9be758e966f654629',\n",
       "   'contributor_address': 'hxeee0810ddcacba64f26dc288f002861527fa7636',\n",
       "   'status': '_active',\n",
       "   'tx_hash': 'b3026413d1879aeccc194af4e7969a504d68950beccd3abad2aa356de0f39b3e',\n",
       "   'percentage_completed': '0x14',\n",
       "   'sponsor_deposit_amount': '0x8ac7230489e80000',\n",
       "   'sponsored_timestamp': '0x5b5107f05673c',\n",
       "   'sponsor_deposit_status': 'bond_received',\n",
       "   'total_votes': '0x71d75ab9b920500000',\n",
       "   'approved_votes': '0x71d75ab9b920500000',\n",
       "   'rejected_votes': '0x0',\n",
       "   'total_voters': '0x2',\n",
       "   'approve_voters': '0x2',\n",
       "   'reject_voters': '0x0'}],\n",
       " 'count': '0x1'}"
      ]
     },
     "execution_count": 283,
     "metadata": {},
     "output_type": "execute_result"
    }
   ],
   "source": [
    "params = {\"_wallet_address\":\"hxeee0810ddcacba64f26dc288f002861527fa7636\"}\n",
    "\n",
    "call = CallBuilder().from_(wallet.get_address())\\\n",
    "                    .to(contract_address)\\\n",
    "                    .method(\"get_proposal_detail_by_wallet\")\\\n",
    "                    .params(params)\\\n",
    "                    .build()\n",
    "\n",
    "result = icon_service.call(call)\n",
    "result"
   ]
  },
  {
   "cell_type": "code",
   "execution_count": 271,
   "metadata": {},
   "outputs": [
    {
     "name": "stdout",
     "output_type": "stream",
     "text": [
      "0xa09830aaca7d0c294d023899f990eac86d9e672f572ce03404ecec20c1167d53\n"
     ]
    },
    {
     "name": "stderr",
     "output_type": "stream",
     "text": [
      "Raised JSONRPCException while returning the custom response. Error message: {'code': -32602, 'message': 'Pending transaction'}\n"
     ]
    },
    {
     "name": "stdout",
     "output_type": "stream",
     "text": [
      "{'code': -32602, 'message': 'Pending transaction'} (Json rpc error), Retrying in 1 seconds...\n"
     ]
    },
    {
     "name": "stderr",
     "output_type": "stream",
     "text": [
      "Raised JSONRPCException while returning the custom response. Error message: {'code': -32602, 'message': 'Pending transaction'}\n"
     ]
    },
    {
     "name": "stdout",
     "output_type": "stream",
     "text": [
      "{'code': -32602, 'message': 'Pending transaction'} (Json rpc error), Retrying in 2 seconds...\n"
     ]
    },
    {
     "data": {
      "text/plain": [
       "{'txHash': '0xa09830aaca7d0c294d023899f990eac86d9e672f572ce03404ecec20c1167d53',\n",
       " 'blockHeight': 9682296,\n",
       " 'blockHash': '0x5071dc415eaf05a365591b075e4e42a4b81258a3ffcb2c76afbdcf815054c93b',\n",
       " 'txIndex': 1,\n",
       " 'to': 'cx39a17d13e01538756e9649f80f0b6604a9e7bd39',\n",
       " 'stepUsed': 141440,\n",
       " 'stepPrice': 10000000000,\n",
       " 'cumulativeStepUsed': 141440,\n",
       " 'eventLogs': [],\n",
       " 'logsBloom': b'\\x00\\x00\\x00\\x00\\x00\\x00\\x00\\x00\\x00\\x00\\x00\\x00\\x00\\x00\\x00\\x00\\x00\\x00\\x00\\x00\\x00\\x00\\x00\\x00\\x00\\x00\\x00\\x00\\x00\\x00\\x00\\x00\\x00\\x00\\x00\\x00\\x00\\x00\\x00\\x00\\x00\\x00\\x00\\x00\\x00\\x00\\x00\\x00\\x00\\x00\\x00\\x00\\x00\\x00\\x00\\x00\\x00\\x00\\x00\\x00\\x00\\x00\\x00\\x00\\x00\\x00\\x00\\x00\\x00\\x00\\x00\\x00\\x00\\x00\\x00\\x00\\x00\\x00\\x00\\x00\\x00\\x00\\x00\\x00\\x00\\x00\\x00\\x00\\x00\\x00\\x00\\x00\\x00\\x00\\x00\\x00\\x00\\x00\\x00\\x00\\x00\\x00\\x00\\x00\\x00\\x00\\x00\\x00\\x00\\x00\\x00\\x00\\x00\\x00\\x00\\x00\\x00\\x00\\x00\\x00\\x00\\x00\\x00\\x00\\x00\\x00\\x00\\x00\\x00\\x00\\x00\\x00\\x00\\x00\\x00\\x00\\x00\\x00\\x00\\x00\\x00\\x00\\x00\\x00\\x00\\x00\\x00\\x00\\x00\\x00\\x00\\x00\\x00\\x00\\x00\\x00\\x00\\x00\\x00\\x00\\x00\\x00\\x00\\x00\\x00\\x00\\x00\\x00\\x00\\x00\\x00\\x00\\x00\\x00\\x00\\x00\\x00\\x00\\x00\\x00\\x00\\x00\\x00\\x00\\x00\\x00\\x00\\x00\\x00\\x00\\x00\\x00\\x00\\x00\\x00\\x00\\x00\\x00\\x00\\x00\\x00\\x00\\x00\\x00\\x00\\x00\\x00\\x00\\x00\\x00\\x00\\x00\\x00\\x00\\x00\\x00\\x00\\x00\\x00\\x00\\x00\\x00\\x00\\x00\\x00\\x00\\x00\\x00\\x00\\x00\\x00\\x00\\x00\\x00\\x00\\x00\\x00\\x00\\x00\\x00\\x00\\x00\\x00\\x00\\x00\\x00\\x00\\x00\\x00\\x00\\x00\\x00\\x00\\x00\\x00\\x00',\n",
       " 'status': 1}"
      ]
     },
     "execution_count": 271,
     "metadata": {},
     "output_type": "execute_result"
    }
   ],
   "source": [
    "params = {\"_penalty\":['10','20','30']}\n",
    "transaction = CallTransactionBuilder()\\\n",
    "    .from_(wallet.get_address())\\\n",
    "    .to(contract_address)\\\n",
    "    .step_limit(10000000)\\\n",
    "    .nid(NID)\\\n",
    "    .nonce(NONCE)\\\n",
    "    .method(\"set_prep_penalty_amount\")\\\n",
    "    .params(params)\\\n",
    "    .build()\n",
    "signed_transaction = SignedTransaction(transaction, wallet)\n",
    "tx_hash = icon_service.send_transaction(signed_transaction)\n",
    "print(tx_hash)\n",
    "\n",
    "get_tx_result(tx_hash)"
   ]
  },
  {
   "cell_type": "code",
   "execution_count": 12,
   "metadata": {},
   "outputs": [
    {
     "data": {
      "text/plain": [
       "['hx177b10efe3018961a405cc7c20ee811c552831a5']"
      ]
     },
     "execution_count": 12,
     "metadata": {},
     "output_type": "execute_result"
    }
   ],
   "source": [
    "params = {}\n",
    "\n",
    "call = CallBuilder().from_(wallet.get_address())\\\n",
    "                    .to(contract_address)\\\n",
    "                    .method(\"get_admins\")\\\n",
    "                    .params(params)\\\n",
    "                    .build()\n",
    "\n",
    "result = icon_service.call(call)\n",
    "result"
   ]
  },
  {
   "cell_type": "code",
   "execution_count": 16,
   "metadata": {},
   "outputs": [
    {
     "data": {
      "text/plain": [
       "'0x2c4ced9e49f1380000'"
      ]
     },
     "execution_count": 16,
     "metadata": {},
     "output_type": "execute_result"
    }
   ],
   "source": [
    "params = {}\n",
    "call = CallBuilder().from_(wallet.get_address())\\\n",
    "                    .to(contract_address)\\\n",
    "                    .method(\"get_remaining_fund\")\\\n",
    "                    .params(params)\\\n",
    "                    .build()\n",
    "\n",
    "result = icon_service.call(call)\n",
    "result"
   ]
  }
 ],
 "metadata": {
  "kernelspec": {
   "display_name": "Python 3",
   "language": "python",
   "name": "python3"
  },
  "language_info": {
   "codemirror_mode": {
    "name": "ipython",
    "version": 3
   },
   "file_extension": ".py",
   "mimetype": "text/x-python",
   "name": "python",
   "nbconvert_exporter": "python",
   "pygments_lexer": "ipython3",
   "version": "3.7.7"
  }
 },
 "nbformat": 4,
 "nbformat_minor": 4
}
